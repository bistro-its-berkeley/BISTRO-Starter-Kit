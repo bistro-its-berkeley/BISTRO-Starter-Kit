{
 "cells": [
  {
   "cell_type": "markdown",
   "metadata": {},
   "source": [
    "# Uber Prize Starter Kit Python Utilities: Tutorial"
   ]
  },
  {
   "cell_type": "markdown",
   "metadata": {},
   "source": [
    "To simplify interaction with the Docker-based simulation execution and evaluation, we've provided a set of Python utilities (located in the `/utilities` folder of the Starter-Kit repository). This notebook demonstrates how they may be used to accomplish the following tasks:\n",
    "\n",
    " - Starting a simulation or several simulations\n",
    " - Checking simulation completion\n",
    " - Retrieving the simulation score in a convenient Pandas `DataFrame` format.\n",
    " - Generating fake data \n",
    "\n",
    "*Note*: It is assumed that this notebook is started from the `/examples` folder."
   ]
  },
  {
   "cell_type": "code",
   "execution_count": 7,
   "metadata": {},
   "outputs": [],
   "source": [
    "\n",
    "# Adding the module to the path for future import\n",
    "import sys\n",
    "import os\n",
    "import docker\n",
    "from pathlib import Path\n",
    "# Note that the following is idempotent when this notebook is run from \"/examples\"\n",
    "os.chdir('../utilities')\n"
   ]
  },
  {
   "cell_type": "markdown",
   "metadata": {},
   "source": [
    "## The `competition_executor` Module"
   ]
  },
  {
   "cell_type": "markdown",
   "metadata": {},
   "source": [
    "A `CompetitionContainerExecutor` object may be used to start, stop, and gather information about containers running simulations and/or completed simulation scores and stats."
   ]
  },
  {
   "cell_type": "code",
   "execution_count": 9,
   "metadata": {},
   "outputs": [],
   "source": [
    "from competition_executor import CompetitionContainerExecutor\n",
    "\n",
    "path_input = r\"/submission-inputs\"\n",
    "path_ouput = r\"/output\"\n",
    "\n",
    "my_executor = CompetitionContainerExecutor(input_root=path_input,\n",
    "                                  output_root=path_ouput)\n",
    "\n",
    "# Note: Instantiating a CompetitionContainerExecutor with path arguments is not strictly necessary. Each simulation\n",
    "# can be run with its own set of input and/or output arguments. However, if you prefer to designate\n",
    "# a single directory for inputs and/or a single directory for outputs, then, for convenience, \n",
    "# you may pass those arguments in here and avoid re-entering them for each simulation run."
   ]
  },
  {
   "cell_type": "markdown",
   "metadata": {},
   "source": [
    "Run the simulation using the `run_sumulation` method. For example:"
   ]
  },
  {
   "cell_type": "code",
   "execution_count": null,
   "metadata": {},
   "outputs": [],
   "source": [
    "# Note: the `submission_id`s for each run must be unique.\n",
    "try:\n",
    "    my_submission = my_executor.client.containers.get('my_submission')\n",
    "    my_submission.stop()\n",
    "    my_submission.remove()\n",
    "    print(\"Found container from previous run, removing and creating new sim container...\")\n",
    "except docker.errors.NotFound:\n",
    "    print(\"Creating new simulation container...\")\n",
    "    \n",
    "my_executor.run_simulation('my_submission', num_iterations=1, num_cpus=10)\n",
    "\n",
    "# Note that a dictionary indicating which containers IDs already exist can be accessed.\n",
    "for key, value in ex.containers.items():\n",
    "    print(\"Container ID : {0}\".format(key))"
   ]
  },
  {
   "cell_type": "markdown",
   "metadata": {},
   "source": [
    "You may view the **logs** of a specific simulation as follows:"
   ]
  },
  {
   "cell_type": "code",
   "execution_count": null,
   "metadata": {
    "scrolled": false
   },
   "outputs": [],
   "source": [
    "logs = my_executor.output_simulation_logs('my_submission')"
   ]
  },
  {
   "cell_type": "markdown",
   "metadata": {},
   "source": [
    "Submissions run for a certain amount of time. If you interrupt it before the end, you will not get any outputs. You can **check if a submission is finished** with the following method:"
   ]
  },
  {
   "cell_type": "code",
   "execution_count": 27,
   "metadata": {},
   "outputs": [
    {
     "data": {
      "text/plain": [
       "True"
      ]
     },
     "execution_count": 27,
     "metadata": {},
     "output_type": "execute_result"
    }
   ],
   "source": [
    "my_executor.check_if_submission_complete('my_submission')"
   ]
  },
  {
   "cell_type": "markdown",
   "metadata": {},
   "source": [
    "When a simulation run is done, you can import its **results**:"
   ]
  },
  {
   "cell_type": "code",
   "execution_count": 28,
   "metadata": {},
   "outputs": [],
   "source": [
    "scores, stats = my_executor.get_submission_scores_and_stats('my_submission')"
   ]
  },
  {
   "cell_type": "markdown",
   "metadata": {},
   "source": [
    "The **scores** and **statistics** are stored in pandas DataFrames which contains the information described [here](https://github.com/vgolfier/Uber-Prize-Starter-Kit/blob/master/docs/Understanding_the_outputs_and_the%20scoring_function.md)."
   ]
  },
  {
   "cell_type": "code",
   "execution_count": 29,
   "metadata": {},
   "outputs": [
    {
     "data": {
      "text/html": [
       "<div>\n",
       "<style scoped>\n",
       "    .dataframe tbody tr th:only-of-type {\n",
       "        vertical-align: middle;\n",
       "    }\n",
       "\n",
       "    .dataframe tbody tr th {\n",
       "        vertical-align: top;\n",
       "    }\n",
       "\n",
       "    .dataframe thead th {\n",
       "        text-align: right;\n",
       "    }\n",
       "</style>\n",
       "<table border=\"1\" class=\"dataframe\">\n",
       "  <thead>\n",
       "    <tr style=\"text-align: right;\">\n",
       "      <th></th>\n",
       "      <th>Budget: Operational Costs (Fixed)_Weight</th>\n",
       "      <th>Budget: Operational Costs (Fuel)_Weight</th>\n",
       "      <th>Budget: Operational Costs (Variable, Hourly)_Weight</th>\n",
       "      <th>Budget: Subsidies Paid_Weight</th>\n",
       "      <th>Budget: Subsidies Unpaid_Weight</th>\n",
       "      <th>Congestion: Vehicle Hours Delay_Weight</th>\n",
       "      <th>Congestion: Vehicle Miles Traveled_Weight</th>\n",
       "      <th>Level of Service: Agent Hours on Crowded Transit_Weight</th>\n",
       "      <th>Level of Service: Travel Expenditure_Weight</th>\n",
       "      <th>Submission Score_Weight</th>\n",
       "      <th>...</th>\n",
       "      <th>Budget: Operational Costs (Fixed)_Weighted Score</th>\n",
       "      <th>Budget: Operational Costs (Fuel)_Weighted Score</th>\n",
       "      <th>Budget: Operational Costs (Variable, Hourly)_Weighted Score</th>\n",
       "      <th>Budget: Subsidies Paid_Weighted Score</th>\n",
       "      <th>Budget: Subsidies Unpaid_Weighted Score</th>\n",
       "      <th>Congestion: Vehicle Hours Delay_Weighted Score</th>\n",
       "      <th>Congestion: Vehicle Miles Traveled_Weighted Score</th>\n",
       "      <th>Level of Service: Agent Hours on Crowded Transit_Weighted Score</th>\n",
       "      <th>Level of Service: Travel Expenditure_Weighted Score</th>\n",
       "      <th>Submission Score_Weighted Score</th>\n",
       "    </tr>\n",
       "  </thead>\n",
       "  <tbody>\n",
       "    <tr>\n",
       "      <th>0</th>\n",
       "      <td>0.001</td>\n",
       "      <td>0.001</td>\n",
       "      <td>0.001</td>\n",
       "      <td>0.001</td>\n",
       "      <td>0.001</td>\n",
       "      <td>0.01</td>\n",
       "      <td>0.0001</td>\n",
       "      <td>10.0</td>\n",
       "      <td>0.0001</td>\n",
       "      <td>0.0</td>\n",
       "      <td>...</td>\n",
       "      <td>0.0</td>\n",
       "      <td>0.0</td>\n",
       "      <td>0.0</td>\n",
       "      <td>0.0</td>\n",
       "      <td>0.0</td>\n",
       "      <td>-16.942622</td>\n",
       "      <td>-0.180887</td>\n",
       "      <td>-80.747222</td>\n",
       "      <td>-0.072772</td>\n",
       "      <td>-97.943504</td>\n",
       "    </tr>\n",
       "  </tbody>\n",
       "</table>\n",
       "<p>1 rows × 30 columns</p>\n",
       "</div>"
      ],
      "text/plain": [
       "   Budget: Operational Costs (Fixed)_Weight  \\\n",
       "0                                     0.001   \n",
       "\n",
       "   Budget: Operational Costs (Fuel)_Weight  \\\n",
       "0                                    0.001   \n",
       "\n",
       "   Budget: Operational Costs (Variable, Hourly)_Weight  \\\n",
       "0                                              0.001     \n",
       "\n",
       "   Budget: Subsidies Paid_Weight  Budget: Subsidies Unpaid_Weight  \\\n",
       "0                          0.001                            0.001   \n",
       "\n",
       "   Congestion: Vehicle Hours Delay_Weight  \\\n",
       "0                                    0.01   \n",
       "\n",
       "   Congestion: Vehicle Miles Traveled_Weight  \\\n",
       "0                                     0.0001   \n",
       "\n",
       "   Level of Service: Agent Hours on Crowded Transit_Weight  \\\n",
       "0                                               10.0         \n",
       "\n",
       "   Level of Service: Travel Expenditure_Weight  Submission Score_Weight  \\\n",
       "0                                       0.0001                      0.0   \n",
       "\n",
       "                ...                 \\\n",
       "0               ...                  \n",
       "\n",
       "   Budget: Operational Costs (Fixed)_Weighted Score  \\\n",
       "0                                               0.0   \n",
       "\n",
       "   Budget: Operational Costs (Fuel)_Weighted Score  \\\n",
       "0                                              0.0   \n",
       "\n",
       "   Budget: Operational Costs (Variable, Hourly)_Weighted Score  \\\n",
       "0                                                0.0             \n",
       "\n",
       "   Budget: Subsidies Paid_Weighted Score  \\\n",
       "0                                    0.0   \n",
       "\n",
       "   Budget: Subsidies Unpaid_Weighted Score  \\\n",
       "0                                      0.0   \n",
       "\n",
       "   Congestion: Vehicle Hours Delay_Weighted Score  \\\n",
       "0                                      -16.942622   \n",
       "\n",
       "   Congestion: Vehicle Miles Traveled_Weighted Score  \\\n",
       "0                                          -0.180887   \n",
       "\n",
       "   Level of Service: Agent Hours on Crowded Transit_Weighted Score  \\\n",
       "0                                         -80.747222                 \n",
       "\n",
       "   Level of Service: Travel Expenditure_Weighted Score  \\\n",
       "0                                          -0.072772     \n",
       "\n",
       "   Submission Score_Weighted Score  \n",
       "0                       -97.943504  \n",
       "\n",
       "[1 rows x 30 columns]"
      ]
     },
     "execution_count": 29,
     "metadata": {},
     "output_type": "execute_result"
    }
   ],
   "source": [
    "scores"
   ]
  },
  {
   "cell_type": "code",
   "execution_count": 30,
   "metadata": {},
   "outputs": [
    {
     "data": {
      "text/html": [
       "<div>\n",
       "<style scoped>\n",
       "    .dataframe tbody tr th:only-of-type {\n",
       "        vertical-align: middle;\n",
       "    }\n",
       "\n",
       "    .dataframe tbody tr th {\n",
       "        vertical-align: top;\n",
       "    }\n",
       "\n",
       "    .dataframe thead th {\n",
       "        text-align: right;\n",
       "    }\n",
       "</style>\n",
       "<table border=\"1\" class=\"dataframe\">\n",
       "  <thead>\n",
       "    <tr style=\"text-align: right;\">\n",
       "      <th></th>\n",
       "      <th>Iteration</th>\n",
       "      <th>agentHoursOnCrowdedTransit</th>\n",
       "      <th>fuelConsumedInMJ_Diesel</th>\n",
       "      <th>fuelConsumedInMJ_Food</th>\n",
       "      <th>fuelConsumedInMJ_Gasoline</th>\n",
       "      <th>numberOfVehicles_BODY-TYPE-DEFAULT</th>\n",
       "      <th>numberOfVehicles_BUS-DEFAULT</th>\n",
       "      <th>numberOfVehicles_CAR-TYPE-DEFAULT</th>\n",
       "      <th>personTravelTime_car</th>\n",
       "      <th>personTravelTime_drive_transit</th>\n",
       "      <th>...</th>\n",
       "      <th>totalSubsidy_walk_transit</th>\n",
       "      <th>totalTravelTime</th>\n",
       "      <th>totalVehicleDelay</th>\n",
       "      <th>vehicleHoursTraveled_BODY-TYPE-DEFAULT</th>\n",
       "      <th>vehicleHoursTraveled_BUS-DEFAULT</th>\n",
       "      <th>vehicleHoursTraveled_CAR-TYPE-DEFAULT</th>\n",
       "      <th>vehicleMilesTraveled_BODY-TYPE-DEFAULT</th>\n",
       "      <th>vehicleMilesTraveled_BUS-DEFAULT</th>\n",
       "      <th>vehicleMilesTraveled_CAR-TYPE-DEFAULT</th>\n",
       "      <th>vehicleMilesTraveled_total</th>\n",
       "    </tr>\n",
       "  </thead>\n",
       "  <tbody>\n",
       "    <tr>\n",
       "      <th>0</th>\n",
       "      <td>0</td>\n",
       "      <td>8.055000</td>\n",
       "      <td>130444.966235</td>\n",
       "      <td>40.656164</td>\n",
       "      <td>23822.196390</td>\n",
       "      <td>1003.0</td>\n",
       "      <td>255.0</td>\n",
       "      <td>1128.0</td>\n",
       "      <td>18183.833333</td>\n",
       "      <td>2856.083333</td>\n",
       "      <td>...</td>\n",
       "      <td>0.0</td>\n",
       "      <td>8386.926667</td>\n",
       "      <td>8481.054444</td>\n",
       "      <td>164.778056</td>\n",
       "      <td>156.916667</td>\n",
       "      <td>339.018889</td>\n",
       "      <td>476.652242</td>\n",
       "      <td>4043.033927</td>\n",
       "      <td>4048.825914</td>\n",
       "      <td>8568.512083</td>\n",
       "    </tr>\n",
       "    <tr>\n",
       "      <th>1</th>\n",
       "      <td>1</td>\n",
       "      <td>8.074722</td>\n",
       "      <td>130444.966235</td>\n",
       "      <td>41.843421</td>\n",
       "      <td>23736.722191</td>\n",
       "      <td>1003.0</td>\n",
       "      <td>255.0</td>\n",
       "      <td>1128.0</td>\n",
       "      <td>35490.416667</td>\n",
       "      <td>3586.200000</td>\n",
       "      <td>...</td>\n",
       "      <td>0.0</td>\n",
       "      <td>8140.282778</td>\n",
       "      <td>8236.082222</td>\n",
       "      <td>169.594444</td>\n",
       "      <td>156.916667</td>\n",
       "      <td>653.235833</td>\n",
       "      <td>490.571632</td>\n",
       "      <td>4043.033927</td>\n",
       "      <td>4034.298700</td>\n",
       "      <td>8567.904259</td>\n",
       "    </tr>\n",
       "  </tbody>\n",
       "</table>\n",
       "<p>2 rows × 29 columns</p>\n",
       "</div>"
      ],
      "text/plain": [
       "   Iteration  agentHoursOnCrowdedTransit  fuelConsumedInMJ_Diesel  \\\n",
       "0          0                    8.055000            130444.966235   \n",
       "1          1                    8.074722            130444.966235   \n",
       "\n",
       "   fuelConsumedInMJ_Food  fuelConsumedInMJ_Gasoline  \\\n",
       "0              40.656164               23822.196390   \n",
       "1              41.843421               23736.722191   \n",
       "\n",
       "   numberOfVehicles_BODY-TYPE-DEFAULT  numberOfVehicles_BUS-DEFAULT  \\\n",
       "0                              1003.0                         255.0   \n",
       "1                              1003.0                         255.0   \n",
       "\n",
       "   numberOfVehicles_CAR-TYPE-DEFAULT  personTravelTime_car  \\\n",
       "0                             1128.0          18183.833333   \n",
       "1                             1128.0          35490.416667   \n",
       "\n",
       "   personTravelTime_drive_transit             ...              \\\n",
       "0                     2856.083333             ...               \n",
       "1                     3586.200000             ...               \n",
       "\n",
       "   totalSubsidy_walk_transit  totalTravelTime  totalVehicleDelay  \\\n",
       "0                        0.0      8386.926667        8481.054444   \n",
       "1                        0.0      8140.282778        8236.082222   \n",
       "\n",
       "   vehicleHoursTraveled_BODY-TYPE-DEFAULT  vehicleHoursTraveled_BUS-DEFAULT  \\\n",
       "0                              164.778056                        156.916667   \n",
       "1                              169.594444                        156.916667   \n",
       "\n",
       "   vehicleHoursTraveled_CAR-TYPE-DEFAULT  \\\n",
       "0                             339.018889   \n",
       "1                             653.235833   \n",
       "\n",
       "   vehicleMilesTraveled_BODY-TYPE-DEFAULT  vehicleMilesTraveled_BUS-DEFAULT  \\\n",
       "0                              476.652242                       4043.033927   \n",
       "1                              490.571632                       4043.033927   \n",
       "\n",
       "   vehicleMilesTraveled_CAR-TYPE-DEFAULT  vehicleMilesTraveled_total  \n",
       "0                            4048.825914                 8568.512083  \n",
       "1                            4034.298700                 8567.904259  \n",
       "\n",
       "[2 rows x 29 columns]"
      ]
     },
     "execution_count": 30,
     "metadata": {},
     "output_type": "execute_result"
    }
   ],
   "source": [
    "stats"
   ]
  },
  {
   "cell_type": "markdown",
   "metadata": {},
   "source": [
    "At the end of any run and to avoid any conflicts between submission ids (particularly if you want to reuse names), it is advised to **clean up containers** calling the following method:"
   ]
  },
  {
   "cell_type": "code",
   "execution_count": 31,
   "metadata": {},
   "outputs": [],
   "source": [
    "my_executor.stop_all_simulations()"
   ]
  }
 ],
 "metadata": {
  "kernelspec": {
   "display_name": "Python 3",
   "language": "python",
   "name": "python3"
  },
  "language_info": {
   "codemirror_mode": {
    "name": "ipython",
    "version": 3
   },
   "file_extension": ".py",
   "mimetype": "text/x-python",
   "name": "python",
   "nbconvert_exporter": "python",
   "pygments_lexer": "ipython3",
   "version": "3.6.5"
  },
  "varInspector": {
   "cols": {
    "lenName": 16,
    "lenType": 16,
    "lenVar": 40
   },
   "kernels_config": {
    "python": {
     "delete_cmd_postfix": "",
     "delete_cmd_prefix": "del ",
     "library": "var_list.py",
     "varRefreshCmd": "print(var_dic_list())"
    },
    "r": {
     "delete_cmd_postfix": ") ",
     "delete_cmd_prefix": "rm(",
     "library": "var_list.r",
     "varRefreshCmd": "cat(var_dic_list()) "
    }
   },
   "types_to_exclude": [
    "module",
    "function",
    "builtin_function_or_method",
    "instance",
    "_Feature"
   ],
   "window_display": false
  }
 },
 "nbformat": 4,
 "nbformat_minor": 2
}
