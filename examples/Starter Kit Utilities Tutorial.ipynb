{
 "cells": [
  {
   "cell_type": "markdown",
   "metadata": {},
   "source": [
    "# Uber Prize Starter Kit Python Utilities: Tutorial"
   ]
  },
  {
   "cell_type": "markdown",
   "metadata": {},
   "source": [
    "To simplify interaction with the Docker-based simulation execution and evaluation, we've provided a set of Python utilities (located in the `/utilities` folder of the Starter-Kit repository). This notebook demonstrates how they may be used to accomplish the following tasks:\n",
    "\n",
    " - Starting a simulation or several simulations\n",
    " - Checking simulation completion\n",
    " - Retrieving the simulation score in a convenient Pandas `DataFrame` format.\n",
    " - Generating fake data \n",
    "\n",
    "*Note*: It is assumed that this notebook is started from the `/examples` folder."
   ]
  },
  {
   "cell_type": "code",
   "execution_count": 1,
   "metadata": {},
   "outputs": [],
   "source": [
    "# Adding the module to the path for future import\n",
    "import sys\n",
    "import os\n",
    "import docker\n",
    "from pathlib import Path\n",
    "# Note that the following is idempotent when this notebook is run from \"/examples\"\n",
    "os.chdir('../utilities')\n",
    "%load_ext autoreload\n",
    "%autoreload 2"
   ]
  },
  {
   "cell_type": "markdown",
   "metadata": {},
   "source": [
    "## Running a simulation: the `competition_executor` module"
   ]
  },
  {
   "cell_type": "markdown",
   "metadata": {},
   "source": [
    "A `CompetitionContainerExecutor` object may be used to start, stop, and gather information about containers running simulations and/or completed simulation scores and stats."
   ]
  },
  {
   "cell_type": "code",
   "execution_count": 56,
   "metadata": {},
   "outputs": [],
   "source": [
    "from competition_executor import CompetitionContainerExecutor\n",
    "\n",
    "path_input = (Path(Path.cwd()).parent / \"submission-inputs\").absolute()\n",
    "path_ouput = (Path(Path.cwd()).parent / \"output\").absolute()\n",
    "\n",
    "my_executor = CompetitionContainerExecutor(input_root=path_input,\n",
    "                                  output_root=path_ouput)\n",
    "\n",
    "# Note: Instantiating a CompetitionContainerExecutor with path arguments is not strictly necessary. Each simulation\n",
    "# can be run with its own set of input and/or output arguments. However, if you prefer to designate\n",
    "# a single directory for inputs and/or a single directory for outputs, then, for convenience, \n",
    "# you may pass those arguments in here and avoid re-entering them for each simulation run."
   ]
  },
  {
   "cell_type": "markdown",
   "metadata": {},
   "source": [
    "Run the simulation using the `run_sumulation` method. For example:"
   ]
  },
  {
   "cell_type": "code",
   "execution_count": 57,
   "metadata": {},
   "outputs": [
    {
     "name": "stdout",
     "output_type": "stream",
     "text": [
      "Creating new simulation container...\n",
      "Container ID : my_submission\n"
     ]
    }
   ],
   "source": [
    "# Note: the `submission_id`s for each run must be unique; however, this cell may be run idempotently\n",
    "try:\n",
    "    my_submission = my_executor.client.containers.get('my_submission')\n",
    "    my_submission.stop()\n",
    "    my_submission.remove()\n",
    "    print(\"Found container from previous run, removing and creating new sim container...\")\n",
    "except docker.errors.NotFound:\n",
    "    print(\"Creating new simulation container...\")\n",
    "    \n",
    "my_executor.run_simulation('my_submission', num_iterations=1, num_cpus=72)\n",
    "\n",
    "# Note that a dictionary indicating which containers IDs already exist can be accessed.\n",
    "for key, value in my_executor.containers.items():\n",
    "    print(\"Container ID : {0}\".format(key))"
   ]
  },
  {
   "cell_type": "markdown",
   "metadata": {},
   "source": [
    "You may view the **debug logs** of a specific simulation as follows:"
   ]
  },
  {
   "cell_type": "code",
   "execution_count": 76,
   "metadata": {
    "scrolled": true
   },
   "outputs": [],
   "source": [
    "logs=my_executor.containers['my_submission'].logs(stream=True)"
   ]
  },
  {
   "cell_type": "code",
   "execution_count": 85,
   "metadata": {},
   "outputs": [
    {
     "data": {
      "text/plain": [
       "b\" |`-._`-...-` __...-.``-._|'` _.-'|     Port: 6379\\n\""
      ]
     },
     "execution_count": 85,
     "metadata": {},
     "output_type": "execute_result"
    }
   ],
   "source": [
    "x"
   ]
  },
  {
   "cell_type": "markdown",
   "metadata": {},
   "source": [
    "Submissions run for a certain amount of time. If you interrupt it before the end, you will not get any outputs. You can **check if a submission is finished** with the following method:"
   ]
  },
  {
   "cell_type": "code",
   "execution_count": 55,
   "metadata": {},
   "outputs": [
    {
     "data": {
      "text/plain": [
       "True"
      ]
     },
     "execution_count": 55,
     "metadata": {},
     "output_type": "execute_result"
    }
   ],
   "source": [
    "my_executor.check_if_submission_complete('my_submission')"
   ]
  },
  {
   "cell_type": "markdown",
   "metadata": {},
   "source": [
    "When a simulation run is done, you can import its **results**:"
   ]
  },
  {
   "cell_type": "code",
   "execution_count": 56,
   "metadata": {},
   "outputs": [],
   "source": [
    "scores, stats = my_executor.get_submission_scores_and_stats('my_submission')"
   ]
  },
  {
   "cell_type": "markdown",
   "metadata": {},
   "source": [
    "The **scores** and **statistics** are stored in pandas DataFrames which contains the information described [here](https://github.com/vgolfier/Uber-Prize-Starter-Kit/blob/master/docs/Understanding_the_outputs_and_the%20scoring_function.md)."
   ]
  },
  {
   "cell_type": "markdown",
   "metadata": {},
   "source": [
    "At the end of any run and to avoid any conflicts between submission ids (particularly if you want to reuse names), it is advised to **clean up containers** calling the following method:"
   ]
  },
  {
   "cell_type": "code",
   "execution_count": 55,
   "metadata": {},
   "outputs": [
    {
     "name": "stdout",
     "output_type": "stream",
     "text": [
      "Stopping simulation:\n",
      " Submission_id: my_submission\n",
      "\t Scenario name: sioux_faux\n",
      "\t # iters: 1\n",
      "\t sample size: 15k\n",
      "Done.\n"
     ]
    }
   ],
   "source": [
    "my_executor.stop_all_simulations()"
   ]
  },
  {
   "cell_type": "markdown",
   "metadata": {},
   "source": [
    "## The `input_sampler` module:"
   ]
  },
  {
   "cell_type": "markdown",
   "metadata": {},
   "source": [
    "Randomly sampled data may be used to either initialize the re-planning algorithm or otherwise test the simulation. The `input_sampler` has been provided towards this end. This subsection provides an example of how synthetic random input files may be generated for each of the available input policies to the simulation."
   ]
  },
  {
   "cell_type": "code",
   "execution_count": 59,
   "metadata": {},
   "outputs": [],
   "source": [
    "from input_sampler import *\n",
    "# Specify the common string for the scenario name \n",
    "# (currently only \"siouxfalls\", which refers to the Sioux Falls scenario).\n",
    "SCENARIO_NAME = 'sioux_faux'\n",
    "agency = 'sioux_faux_bus_lines'\n",
    "\n",
    "# Set the paths appropriately\n",
    "DIR = Path(__name__).absolute().parent.parent\n",
    "sys.path.append(str(DIR))\n",
    "DATA_DIR = DIR / 'reference-data/'\n",
    "\n",
    "agency_dict = scenario_agencies(DATA_DIR,SCENARIO_NAME)\n",
    "    # Create a lazy cache of GTFS data for the agency:\n",
    "sf_gtfs_manager = AgencyGtfsDataManager(agency_dict[agency])\n",
    "\n",
    "# Sample each input five (5) times (naming of functions is indicative of type of input sampled).\n",
    "freq_df = sample_frequency_adjustment_input(5, sf_gtfs_manager)\n",
    "mode_incentive_df = sample_mode_incentives_input(5)\n",
    "vehicle_fleet_mix_df = sample_vehicle_fleet_mix_input(5, sf_gtfs_manager)\n",
    "\n",
    "# Generated inputs may now be saved in, say, /submission-inputs or some other directory. \n",
    "# Remember the location of this directory when executing new simulations."
   ]
  },
  {
   "cell_type": "code",
   "execution_count": 61,
   "metadata": {},
   "outputs": [
    {
     "data": {
      "text/html": [
       "<div>\n",
       "<style scoped>\n",
       "    .dataframe tbody tr th:only-of-type {\n",
       "        vertical-align: middle;\n",
       "    }\n",
       "\n",
       "    .dataframe tbody tr th {\n",
       "        vertical-align: top;\n",
       "    }\n",
       "\n",
       "    .dataframe thead th {\n",
       "        text-align: right;\n",
       "    }\n",
       "</style>\n",
       "<table border=\"1\" class=\"dataframe\">\n",
       "  <thead>\n",
       "    <tr style=\"text-align: right;\">\n",
       "      <th></th>\n",
       "      <th>agencyId</th>\n",
       "      <th>routeId</th>\n",
       "      <th>vehicleTypeId</th>\n",
       "    </tr>\n",
       "  </thead>\n",
       "  <tbody>\n",
       "    <tr>\n",
       "      <th>0</th>\n",
       "      <td>217</td>\n",
       "      <td>1351</td>\n",
       "      <td>BUS-STD-HD</td>\n",
       "    </tr>\n",
       "    <tr>\n",
       "      <th>1</th>\n",
       "      <td>217</td>\n",
       "      <td>1340</td>\n",
       "      <td>BUS-DEFAULT</td>\n",
       "    </tr>\n",
       "    <tr>\n",
       "      <th>2</th>\n",
       "      <td>217</td>\n",
       "      <td>1342</td>\n",
       "      <td>BUS-SMALL-HD</td>\n",
       "    </tr>\n",
       "    <tr>\n",
       "      <th>3</th>\n",
       "      <td>217</td>\n",
       "      <td>1344</td>\n",
       "      <td>BUS-DEFAULT</td>\n",
       "    </tr>\n",
       "    <tr>\n",
       "      <th>4</th>\n",
       "      <td>217</td>\n",
       "      <td>1346</td>\n",
       "      <td>BUS-SMALL-HD</td>\n",
       "    </tr>\n",
       "  </tbody>\n",
       "</table>\n",
       "</div>"
      ],
      "text/plain": [
       "   agencyId  routeId vehicleTypeId\n",
       "0       217     1351    BUS-STD-HD\n",
       "1       217     1340   BUS-DEFAULT\n",
       "2       217     1342  BUS-SMALL-HD\n",
       "3       217     1344   BUS-DEFAULT\n",
       "4       217     1346  BUS-SMALL-HD"
      ]
     },
     "execution_count": 61,
     "metadata": {},
     "output_type": "execute_result"
    }
   ],
   "source": [
    "vehicle_fleet_mix_df"
   ]
  },
  {
   "cell_type": "code",
   "execution_count": 62,
   "metadata": {},
   "outputs": [
    {
     "data": {
      "text/html": [
       "<div>\n",
       "<style scoped>\n",
       "    .dataframe tbody tr th:only-of-type {\n",
       "        vertical-align: middle;\n",
       "    }\n",
       "\n",
       "    .dataframe tbody tr th {\n",
       "        vertical-align: top;\n",
       "    }\n",
       "\n",
       "    .dataframe thead th {\n",
       "        text-align: right;\n",
       "    }\n",
       "</style>\n",
       "<table border=\"1\" class=\"dataframe\">\n",
       "  <thead>\n",
       "    <tr style=\"text-align: right;\">\n",
       "      <th></th>\n",
       "      <th>mode</th>\n",
       "      <th>age</th>\n",
       "      <th>income</th>\n",
       "      <th>amount</th>\n",
       "    </tr>\n",
       "  </thead>\n",
       "  <tbody>\n",
       "    <tr>\n",
       "      <th>0</th>\n",
       "      <td>drive_transit</td>\n",
       "      <td>[15:70)</td>\n",
       "      <td>[207000:260000)</td>\n",
       "      <td>8.3</td>\n",
       "    </tr>\n",
       "    <tr>\n",
       "      <th>1</th>\n",
       "      <td>walk_transit</td>\n",
       "      <td>[28:62]</td>\n",
       "      <td>[138000:259000]</td>\n",
       "      <td>9.1</td>\n",
       "    </tr>\n",
       "    <tr>\n",
       "      <th>2</th>\n",
       "      <td>drive_transit</td>\n",
       "      <td>(7:23)</td>\n",
       "      <td>[58000:60000]</td>\n",
       "      <td>8.9</td>\n",
       "    </tr>\n",
       "    <tr>\n",
       "      <th>3</th>\n",
       "      <td>drive_transit</td>\n",
       "      <td>[7:89)</td>\n",
       "      <td>[197000:239000)</td>\n",
       "      <td>2.3</td>\n",
       "    </tr>\n",
       "    <tr>\n",
       "      <th>4</th>\n",
       "      <td>ondemand_ride</td>\n",
       "      <td>(18:69)</td>\n",
       "      <td>[7000:174000)</td>\n",
       "      <td>19.0</td>\n",
       "    </tr>\n",
       "  </tbody>\n",
       "</table>\n",
       "</div>"
      ],
      "text/plain": [
       "            mode      age           income amount\n",
       "0  drive_transit  [15:70)  [207000:260000)    8.3\n",
       "1   walk_transit  [28:62]  [138000:259000]    9.1\n",
       "2  drive_transit   (7:23)    [58000:60000]    8.9\n",
       "3  drive_transit   [7:89)  [197000:239000)    2.3\n",
       "4  ondemand_ride  (18:69)    [7000:174000)   19.0"
      ]
     },
     "execution_count": 62,
     "metadata": {},
     "output_type": "execute_result"
    }
   ],
   "source": [
    "mode_incentive_df"
   ]
  },
  {
   "cell_type": "code",
   "execution_count": 63,
   "metadata": {},
   "outputs": [
    {
     "data": {
      "text/html": [
       "<div>\n",
       "<style scoped>\n",
       "    .dataframe tbody tr th:only-of-type {\n",
       "        vertical-align: middle;\n",
       "    }\n",
       "\n",
       "    .dataframe tbody tr th {\n",
       "        vertical-align: top;\n",
       "    }\n",
       "\n",
       "    .dataframe thead th {\n",
       "        text-align: right;\n",
       "    }\n",
       "</style>\n",
       "<table border=\"1\" class=\"dataframe\">\n",
       "  <thead>\n",
       "    <tr style=\"text-align: right;\">\n",
       "      <th></th>\n",
       "      <th>trip_id</th>\n",
       "      <th>start_time</th>\n",
       "      <th>end_time</th>\n",
       "      <th>headway_secs</th>\n",
       "      <th>exact_times</th>\n",
       "    </tr>\n",
       "  </thead>\n",
       "  <tbody>\n",
       "    <tr>\n",
       "      <th>0</th>\n",
       "      <td>t_75367_b_219_tn_3</td>\n",
       "      <td>43260</td>\n",
       "      <td>66000</td>\n",
       "      <td>6000</td>\n",
       "      <td>0</td>\n",
       "    </tr>\n",
       "    <tr>\n",
       "      <th>1</th>\n",
       "      <td>t_75351_b_219_tn_3</td>\n",
       "      <td>9780</td>\n",
       "      <td>21000</td>\n",
       "      <td>3420</td>\n",
       "      <td>0</td>\n",
       "    </tr>\n",
       "    <tr>\n",
       "      <th>2</th>\n",
       "      <td>t_72465_b_219_tn_2</td>\n",
       "      <td>7080</td>\n",
       "      <td>38700</td>\n",
       "      <td>6720</td>\n",
       "      <td>0</td>\n",
       "    </tr>\n",
       "    <tr>\n",
       "      <th>3</th>\n",
       "      <td>t_75323_b_219_tn_1</td>\n",
       "      <td>47580</td>\n",
       "      <td>79200</td>\n",
       "      <td>7080</td>\n",
       "      <td>0</td>\n",
       "    </tr>\n",
       "    <tr>\n",
       "      <th>4</th>\n",
       "      <td>t_75356_b_219_tn_1</td>\n",
       "      <td>43740</td>\n",
       "      <td>81120</td>\n",
       "      <td>2760</td>\n",
       "      <td>0</td>\n",
       "    </tr>\n",
       "  </tbody>\n",
       "</table>\n",
       "</div>"
      ],
      "text/plain": [
       "              trip_id  start_time  end_time  headway_secs  exact_times\n",
       "0  t_75367_b_219_tn_3       43260     66000          6000            0\n",
       "1  t_75351_b_219_tn_3        9780     21000          3420            0\n",
       "2  t_72465_b_219_tn_2        7080     38700          6720            0\n",
       "3  t_75323_b_219_tn_1       47580     79200          7080            0\n",
       "4  t_75356_b_219_tn_1       43740     81120          2760            0"
      ]
     },
     "execution_count": 63,
     "metadata": {},
     "output_type": "execute_result"
    }
   ],
   "source": [
    "freq_df"
   ]
  }
 ],
 "metadata": {
  "kernelspec": {
   "display_name": "Python 3",
   "language": "python",
   "name": "python3"
  },
  "language_info": {
   "codemirror_mode": {
    "name": "ipython",
    "version": 3
   },
   "file_extension": ".py",
   "mimetype": "text/x-python",
   "name": "python",
   "nbconvert_exporter": "python",
   "pygments_lexer": "ipython3",
   "version": "3.7.1"
  },
  "varInspector": {
   "cols": {
    "lenName": 16,
    "lenType": 16,
    "lenVar": 40
   },
   "kernels_config": {
    "python": {
     "delete_cmd_postfix": "",
     "delete_cmd_prefix": "del ",
     "library": "var_list.py",
     "varRefreshCmd": "print(var_dic_list())"
    },
    "r": {
     "delete_cmd_postfix": ") ",
     "delete_cmd_prefix": "rm(",
     "library": "var_list.r",
     "varRefreshCmd": "cat(var_dic_list()) "
    }
   },
   "types_to_exclude": [
    "module",
    "function",
    "builtin_function_or_method",
    "instance",
    "_Feature"
   ],
   "window_display": false
  }
 },
 "nbformat": 4,
 "nbformat_minor": 2
}
