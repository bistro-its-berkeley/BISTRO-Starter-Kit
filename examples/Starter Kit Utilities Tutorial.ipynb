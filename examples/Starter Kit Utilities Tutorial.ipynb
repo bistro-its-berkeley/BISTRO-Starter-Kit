{
 "cells": [
  {
   "cell_type": "markdown",
   "metadata": {},
   "source": [
    "# Uber Prize Starter Kit Python Utilities: Tutorial"
   ]
  },
  {
   "cell_type": "markdown",
   "metadata": {},
   "source": [
    "To simplify interaction with the Docker-based simulation execution and evaluation, we've provided a set of Python utilities (located in the `/utilities` folder of the Starter-Kit repository). This notebook demonstrates how they may be used to accomplish the following tasks:\n",
    "\n",
    " - Starting a simulation or several simulations\n",
    " - Checking simulation completion\n",
    " - Retrieving the simulation score in a convenient Pandas `DataFrame` format.\n",
    " - Generating fake data \n",
    "\n",
    "*Note*: It is assumed that this notebook is started from the `/examples` folder."
   ]
  },
  {
   "cell_type": "code",
   "execution_count": 1,
   "metadata": {},
   "outputs": [],
   "source": [
    "\n",
    "# Adding the module to the path for future import\n",
    "import sys\n",
    "import os\n",
    "import docker\n",
    "from pathlib import Path\n",
    "# Note that the following is idempotent when this notebook is run from \"/examples\"\n",
    "os.chdir('../utilities')\n",
    "%load_ext autoreload\n",
    "%autoreload 2"
   ]
  },
  {
   "cell_type": "markdown",
   "metadata": {},
   "source": [
    "## The `competition_executor` Module"
   ]
  },
  {
   "cell_type": "markdown",
   "metadata": {},
   "source": [
    "A `CompetitionContainerExecutor` object may be used to start, stop, and gather information about containers running simulations and/or completed simulation scores and stats."
   ]
  },
  {
   "cell_type": "code",
   "execution_count": 2,
   "metadata": {},
   "outputs": [],
   "source": [
    "from competition_executor import CompetitionContainerExecutor\n",
    "\n",
    "path_input = (Path(Path.cwd()).parent / \"submission-inputs\").absolute()\n",
    "path_ouput = (Path(Path.cwd()).parent / \"output\").absolute()\n",
    "\n",
    "my_executor = CompetitionContainerExecutor(input_root=path_input,\n",
    "                                  output_root=path_ouput)\n",
    "\n",
    "# Note: Instantiating a CompetitionContainerExecutor with path arguments is not strictly necessary. Each simulation\n",
    "# can be run with its own set of input and/or output arguments. However, if you prefer to designate\n",
    "# a single directory for inputs and/or a single directory for outputs, then, for convenience, \n",
    "# you may pass those arguments in here and avoid re-entering them for each simulation run."
   ]
  },
  {
   "cell_type": "markdown",
   "metadata": {},
   "source": [
    "Run the simulation using the `run_sumulation` method. For example:"
   ]
  },
  {
   "cell_type": "code",
   "execution_count": 3,
   "metadata": {},
   "outputs": [
    {
     "name": "stdout",
     "output_type": "stream",
     "text": [
      "Creating new simulation container...\n",
      "Container ID : my_submission\n"
     ]
    }
   ],
   "source": [
    "# Note: the `submission_id`s for each run must be unique; however, this cell may be run idempotently\n",
    "try:\n",
    "    my_submission = my_executor.client.containers.get('my_submission')\n",
    "    my_submission.stop()\n",
    "    my_submission.remove()\n",
    "    print(\"Found container from previous run, removing and creating new sim container...\")\n",
    "except docker.errors.NotFound:\n",
    "    print(\"Creating new simulation container...\")\n",
    "    \n",
    "my_executor.run_simulation('my_submission', num_iterations=2, num_cpus=4)\n",
    "\n",
    "# Note that a dictionary indicating which containers IDs already exist can be accessed.\n",
    "for key, value in my_executor.containers.items():\n",
    "    print(\"Container ID : {0}\".format(key))"
   ]
  },
  {
   "cell_type": "markdown",
   "metadata": {},
   "source": [
    "You may view the **logs** of a specific simulation as follows:"
   ]
  },
  {
   "cell_type": "code",
   "execution_count": 4,
   "metadata": {
    "scrolled": false
   },
   "outputs": [
    {
     "name": "stdout",
     "output_type": "stream",
     "text": [
      "04:06:22.049 DEBUG beam.utils.BeamConfigUtils$ - Loading beam config from fixed-data/siouxfalls/siouxfalls-1k.conf.\n",
      "04:06:24.407 DEBUG b.sim.config.MatSimBeamConfigBuilder - Couldn't instantiate MatsimParameters  'org.matsim.run.OldToNewPlanCalcScoreConfigGroup.ModeParams'. It doesn't have default public constructor.Falling back to setAccessible(). Cause : Class beam.sim.config.MatSimBeamConfigBuilder$$anonfun$1 can not access a member of class org.matsim.run.OldToNewPlanCalcScoreConfigGroup$ModeParams with modifiers \"\"\n",
      "04:06:24.492 DEBUG b.sim.config.MatSimBeamConfigBuilder - Couldn't instantiate MatsimParameters  'org.matsim.core.config.groups.PlanCalcScoreConfigGroup.ModeParams'. It doesn't have default public constructor.Falling back to setAccessible(). Cause : Class beam.sim.config.MatSimBeamConfigBuilder$$anonfun$1 can not access a member of class org.matsim.core.config.groups.PlanCalcScoreConfigGroup$ModeParams with modifiers \"\"\n",
      "04:06:24.827 DEBUG beam.utils.FileUtils$ - Beam output directory is: /output/siouxfalls/siouxfalls-1k__2018-12-15_04-06-24\n",
      "04:06:24.927 INFO  beam.competition.run.RunCompetition$ - Starting beam on branch master at commit HEAD.\n",
      "04:06:25.057 INFO  beam.competition.run.RunCompetition$ - Config [siouxfalls-1k] copied to /output/siouxfalls/siouxfalls-1k__2018-12-15_04-06-24/beam.conf.\n",
      "04:06:25.114 INFO  b.r.r.FrequencyAdjustingNetworkCoordinator - Initializing router by reading network from: /fixed-data/siouxfalls/r5/network.dat\n",
      "\n"
     ]
    }
   ],
   "source": [
    "logs = my_executor.output_simulation_logs('my_submission')"
   ]
  },
  {
   "cell_type": "markdown",
   "metadata": {},
   "source": [
    "Submissions run for a certain amount of time. If you interrupt it before the end, you will not get any outputs. You can **check if a submission is finished** with the following method:"
   ]
  },
  {
   "cell_type": "code",
   "execution_count": 5,
   "metadata": {},
   "outputs": [
    {
     "data": {
      "text/plain": [
       "False"
      ]
     },
     "execution_count": 5,
     "metadata": {},
     "output_type": "execute_result"
    }
   ],
   "source": [
    "my_executor.check_if_submission_complete('my_submission')"
   ]
  },
  {
   "cell_type": "markdown",
   "metadata": {},
   "source": [
    "When a simulation run is done, you can import its **results**:"
   ]
  },
  {
   "cell_type": "code",
   "execution_count": 6,
   "metadata": {},
   "outputs": [
    {
     "ename": "NameError",
     "evalue": "Simulation my_submission is still running.",
     "output_type": "error",
     "traceback": [
      "\u001b[0;31m---------------------------------------------------------------------------\u001b[0m",
      "\u001b[0;31mNameError\u001b[0m                                 Traceback (most recent call last)",
      "\u001b[0;32m<ipython-input-6-6fd05ba173ab>\u001b[0m in \u001b[0;36m<module>\u001b[0;34m()\u001b[0m\n\u001b[0;32m----> 1\u001b[0;31m \u001b[0mscores\u001b[0m\u001b[0;34m,\u001b[0m \u001b[0mstats\u001b[0m \u001b[0;34m=\u001b[0m \u001b[0mmy_executor\u001b[0m\u001b[0;34m.\u001b[0m\u001b[0mget_submission_scores_and_stats\u001b[0m\u001b[0;34m(\u001b[0m\u001b[0;34m'my_submission'\u001b[0m\u001b[0;34m)\u001b[0m\u001b[0;34m\u001b[0m\u001b[0m\n\u001b[0m",
      "\u001b[0;32m~/current_code/others/prize_starter_kit/utilities/competition_executor.py\u001b[0m in \u001b[0;36mwrapper\u001b[0;34m(*args, **kwargs)\u001b[0m\n\u001b[1;32m    247\u001b[0m             \u001b[0;32mraise\u001b[0m \u001b[0mValueError\u001b[0m\u001b[0;34m(\u001b[0m\u001b[0;34m\"Container not executed using this interface.\"\u001b[0m\u001b[0;34m)\u001b[0m\u001b[0;34m\u001b[0m\u001b[0m\n\u001b[1;32m    248\u001b[0m         \u001b[0;32melse\u001b[0m\u001b[0;34m:\u001b[0m\u001b[0;34m\u001b[0m\u001b[0m\n\u001b[0;32m--> 249\u001b[0;31m             \u001b[0;32mreturn\u001b[0m \u001b[0mfunc\u001b[0m\u001b[0;34m(\u001b[0m\u001b[0;34m*\u001b[0m\u001b[0margs\u001b[0m\u001b[0;34m,\u001b[0m \u001b[0;34m**\u001b[0m\u001b[0mkwargs\u001b[0m\u001b[0;34m)\u001b[0m\u001b[0;34m\u001b[0m\u001b[0m\n\u001b[0m\u001b[1;32m    250\u001b[0m \u001b[0;34m\u001b[0m\u001b[0m\n\u001b[1;32m    251\u001b[0m     \u001b[0;32mreturn\u001b[0m \u001b[0mwrapper\u001b[0m\u001b[0;34m\u001b[0m\u001b[0m\n",
      "\u001b[0;32m~/current_code/others/prize_starter_kit/utilities/competition_executor.py\u001b[0m in \u001b[0;36mget_submission_scores_and_stats\u001b[0;34m(self, submission_id)\u001b[0m\n\u001b[1;32m    401\u001b[0m             \u001b[0;32mreturn\u001b[0m \u001b[0mscores\u001b[0m\u001b[0;34m,\u001b[0m \u001b[0mstats\u001b[0m\u001b[0;34m\u001b[0m\u001b[0m\n\u001b[1;32m    402\u001b[0m         \u001b[0;32melse\u001b[0m\u001b[0;34m:\u001b[0m\u001b[0;34m\u001b[0m\u001b[0m\n\u001b[0;32m--> 403\u001b[0;31m             \u001b[0;32mraise\u001b[0m \u001b[0mNameError\u001b[0m\u001b[0;34m(\u001b[0m\u001b[0;34m\"Simulation {0} is still running.\"\u001b[0m\u001b[0;34m.\u001b[0m\u001b[0mformat\u001b[0m\u001b[0;34m(\u001b[0m\u001b[0msubmission_id\u001b[0m\u001b[0;34m)\u001b[0m\u001b[0;34m)\u001b[0m\u001b[0;34m\u001b[0m\u001b[0m\n\u001b[0m\u001b[1;32m    404\u001b[0m \u001b[0;34m\u001b[0m\u001b[0m\n\u001b[1;32m    405\u001b[0m     \u001b[0;32mdef\u001b[0m \u001b[0mstop_all_simulations\u001b[0m\u001b[0;34m(\u001b[0m\u001b[0mself\u001b[0m\u001b[0;34m,\u001b[0m \u001b[0mremove\u001b[0m\u001b[0;34m=\u001b[0m\u001b[0;32mTrue\u001b[0m\u001b[0;34m)\u001b[0m\u001b[0;34m:\u001b[0m\u001b[0;34m\u001b[0m\u001b[0m\n",
      "\u001b[0;31mNameError\u001b[0m: Simulation my_submission is still running."
     ]
    }
   ],
   "source": [
    "scores, stats = my_executor.get_submission_scores_and_stats('my_submission')"
   ]
  },
  {
   "cell_type": "markdown",
   "metadata": {},
   "source": [
    "The **scores** and **statistics** are stored in pandas DataFrames which contains the information described [here](https://github.com/vgolfier/Uber-Prize-Starter-Kit/blob/master/docs/Understanding_the_outputs_and_the%20scoring_function.md)."
   ]
  },
  {
   "cell_type": "markdown",
   "metadata": {},
   "source": [
    "At the end of any run and to avoid any conflicts between submission ids (particularly if you want to reuse names), it is advised to **clean up containers** calling the following method:"
   ]
  },
  {
   "cell_type": "code",
   "execution_count": 7,
   "metadata": {},
   "outputs": [],
   "source": [
    "my_executor.stop_all_simulations()"
   ]
  },
  {
   "cell_type": "markdown",
   "metadata": {},
   "source": [
    "## The `input_sampler` module:"
   ]
  },
  {
   "cell_type": "markdown",
   "metadata": {},
   "source": [
    "Randomly sampled data may be used to either initialize the re-planning algorithm or otherwise test the simulation. The `input_sampler` has been provided towards this end. This subsection provides an example of how synthetic random input files may be generated for each of the available input policies to the simulation."
   ]
  },
  {
   "cell_type": "code",
   "execution_count": 33,
   "metadata": {},
   "outputs": [],
   "source": [
    "from input_sampler import *\n",
    "# Specify the common string for the scenario name \n",
    "# (currently only \"siouxfalls\", which refers to the Sioux Falls scenario).\n",
    "SCENARIO_NAME = 'sioux_faux'\n",
    "agency = 'sioux_faux_bus_lines'\n",
    "\n",
    "# Set the paths appropriately\n",
    "DIR = Path(__name__).absolute().parent.parent\n",
    "sys.path.append(str(DIR))\n",
    "DATA_DIR = DIR / 'reference-data/'\n",
    "\n",
    "agency_dict = scenario_agencies(DATA_DIR,SCENARIO_NAME)\n",
    "    # Create a lazy cache of GTFS data for the agency:\n",
    "sf_gtfs_manager = AgencyGtfsDataManager(agency_dict[agency])\n",
    "\n",
    "# Sample each input five (5) times (naming of functions is indicative of type of input sampled).\n",
    "freq_df = sample_frequency_adjustment_input(5, sf_gtfs_manager)\n",
    "mode_subsidy_df = sample_mode_subsidies_input(5)\n",
    "vehicle_fleet_mix_df = sample_vehicle_fleet_mix_input(5, sf_gtfs_manager)\n",
    "\n",
    "# Generated inputs may now be saved in, say, /submission-inputs or some other directory. \n",
    "# Remember the location of this directory when executing new simulations."
   ]
  },
  {
   "cell_type": "code",
   "execution_count": 34,
   "metadata": {},
   "outputs": [
    {
     "data": {
      "text/html": [
       "<div>\n",
       "<style scoped>\n",
       "    .dataframe tbody tr th:only-of-type {\n",
       "        vertical-align: middle;\n",
       "    }\n",
       "\n",
       "    .dataframe tbody tr th {\n",
       "        vertical-align: top;\n",
       "    }\n",
       "\n",
       "    .dataframe thead th {\n",
       "        text-align: right;\n",
       "    }\n",
       "</style>\n",
       "<table border=\"1\" class=\"dataframe\">\n",
       "  <thead>\n",
       "    <tr style=\"text-align: right;\">\n",
       "      <th></th>\n",
       "      <th>routeId</th>\n",
       "      <th>agencyId</th>\n",
       "      <th>vehicleType</th>\n",
       "    </tr>\n",
       "  </thead>\n",
       "  <tbody>\n",
       "    <tr>\n",
       "      <th>0</th>\n",
       "      <td>1351</td>\n",
       "      <td>217</td>\n",
       "      <td>CAR-TYPE-DEFAULT</td>\n",
       "    </tr>\n",
       "    <tr>\n",
       "      <th>1</th>\n",
       "      <td>1343</td>\n",
       "      <td>217</td>\n",
       "      <td>CAR-TYPE-DEFAULT</td>\n",
       "    </tr>\n",
       "    <tr>\n",
       "      <th>2</th>\n",
       "      <td>1344</td>\n",
       "      <td>217</td>\n",
       "      <td>BUS-STD-ART</td>\n",
       "    </tr>\n",
       "    <tr>\n",
       "      <th>3</th>\n",
       "      <td>1341</td>\n",
       "      <td>217</td>\n",
       "      <td>BUS-SMALL-HD</td>\n",
       "    </tr>\n",
       "    <tr>\n",
       "      <th>4</th>\n",
       "      <td>1345</td>\n",
       "      <td>217</td>\n",
       "      <td>BUS-STD-HD</td>\n",
       "    </tr>\n",
       "  </tbody>\n",
       "</table>\n",
       "</div>"
      ],
      "text/plain": [
       "   routeId  agencyId       vehicleType\n",
       "0     1351       217  CAR-TYPE-DEFAULT\n",
       "1     1343       217  CAR-TYPE-DEFAULT\n",
       "2     1344       217       BUS-STD-ART\n",
       "3     1341       217      BUS-SMALL-HD\n",
       "4     1345       217        BUS-STD-HD"
      ]
     },
     "execution_count": 34,
     "metadata": {},
     "output_type": "execute_result"
    }
   ],
   "source": [
    "vehicle_fleet_mix_df"
   ]
  },
  {
   "cell_type": "code",
   "execution_count": null,
   "metadata": {},
   "outputs": [],
   "source": []
  }
 ],
 "metadata": {
  "kernelspec": {
   "display_name": "Python 3",
   "language": "python",
   "name": "python3"
  },
  "language_info": {
   "codemirror_mode": {
    "name": "ipython",
    "version": 3
   },
   "file_extension": ".py",
   "mimetype": "text/x-python",
   "name": "python",
   "nbconvert_exporter": "python",
   "pygments_lexer": "ipython3",
   "version": "3.6.5"
  },
  "varInspector": {
   "cols": {
    "lenName": 16,
    "lenType": 16,
    "lenVar": 40
   },
   "kernels_config": {
    "python": {
     "delete_cmd_postfix": "",
     "delete_cmd_prefix": "del ",
     "library": "var_list.py",
     "varRefreshCmd": "print(var_dic_list())"
    },
    "r": {
     "delete_cmd_postfix": ") ",
     "delete_cmd_prefix": "rm(",
     "library": "var_list.r",
     "varRefreshCmd": "cat(var_dic_list()) "
    }
   },
   "types_to_exclude": [
    "module",
    "function",
    "builtin_function_or_method",
    "instance",
    "_Feature"
   ],
   "window_display": false
  }
 },
 "nbformat": 4,
 "nbformat_minor": 2
}
