{
 "cells": [
  {
   "cell_type": "markdown",
   "metadata": {},
   "source": [
    "# Uber Prize Starter Kit Python Utilities: Tutorial"
   ]
  },
  {
   "cell_type": "markdown",
   "metadata": {},
   "source": [
    "To simplify interaction with the Docker-based simulation execution and evaluation, we've provided a set of Python utilities (located in the `/utilities` folder of the Starter-Kit repository). This notebook demonstrates how they may be used to accomplish the following tasks:\n",
    "\n",
    " - Starting a simulation or several simulations\n",
    " - Checking simulation completion\n",
    " - Retrieving the simulation score in a convenient Pandas `DataFrame` format.\n",
    " - Generating fake data \n",
    "\n",
    "*Note*: It is assumed that this notebook is started from the `/examples` folder."
   ]
  },
  {
   "cell_type": "code",
   "execution_count": 1,
   "metadata": {},
   "outputs": [],
   "source": [
    "# Adding the module to the path for future import\n",
    "import sys\n",
    "import os\n",
    "import docker\n",
    "from pathlib import Path\n",
    "# Note that the following is idempotent when this notebook is run from \"/examples\"\n",
    "os.chdir('../utilities')\n",
    "%load_ext autoreload\n",
    "%autoreload 2"
   ]
  },
  {
   "cell_type": "markdown",
   "metadata": {},
   "source": [
    "## Running a simulation: the `competition_executor` module"
   ]
  },
  {
   "cell_type": "markdown",
   "metadata": {},
   "source": [
    "A `CompetitionContainerExecutor` object may be used to start, stop, and gather information about containers running simulations and/or completed simulation scores and stats."
   ]
  },
  {
   "cell_type": "code",
   "execution_count": 61,
   "metadata": {},
   "outputs": [],
   "source": [
    "from competition_executor import CompetitionContainerExecutor\n",
    "\n",
    "path_input = (Path(Path.cwd()).parent / \"submission-inputs\").absolute()\n",
    "path_ouput = (Path(Path.cwd()).parent / \"output\").absolute()\n",
    "\n",
    "my_executor = CompetitionContainerExecutor(input_root=path_input,\n",
    "                                  output_root=path_ouput)\n",
    "\n",
    "# Note: Instantiating a CompetitionContainerExecutor with path arguments is not strictly necessary. Each simulation\n",
    "# can be run with its own set of input and/or output arguments. However, if you prefer to designate\n",
    "# a single directory for inputs and/or a single directory for outputs, then, for convenience, \n",
    "# you may pass those arguments in here and avoid re-entering them for each simulation run."
   ]
  },
  {
   "cell_type": "markdown",
   "metadata": {},
   "source": [
    "Run the simulation using the `run_sumulation` method. For example:"
   ]
  },
  {
   "cell_type": "code",
   "execution_count": 63,
   "metadata": {},
   "outputs": [
    {
     "name": "stdout",
     "output_type": "stream",
     "text": [
      "Found container from previous run, removing and creating new sim container...\n",
      "Container ID : my_submission\n"
     ]
    }
   ],
   "source": [
    "# Note: the `submission_id`s for each run must be unique; however, this cell may be run idempotently\n",
    "try:\n",
    "    my_submission = my_executor.client.containers.get('my_submission')\n",
    "    my_submission.stop()\n",
    "    my_submission.remove()\n",
    "    print(\"Found container from previous run, removing and creating new sim container...\")\n",
    "except docker.errors.NotFound:\n",
    "    print(\"Creating new simulation container...\")\n",
    "    \n",
    "my_executor.run_simulation('my_submission', num_iterations=2, num_cpus=4)\n",
    "\n",
    "# Note that a dictionary indicating which containers IDs already exist can be accessed.\n",
    "for key, value in my_executor.containers.items():\n",
    "    print(\"Container ID : {0}\".format(key))"
   ]
  },
  {
   "cell_type": "markdown",
   "metadata": {},
   "source": [
    "You may view the **debug logs** of a specific simulation as follows:"
   ]
  },
  {
   "cell_type": "code",
   "execution_count": 68,
   "metadata": {
    "scrolled": true
   },
   "outputs": [
    {
     "name": "stdout",
     "output_type": "stream",
     "text": [
      "Dependency Service(s) Init Complete\n",
      "7:C 02 Feb 03:54:46.985 # Warning: no config file specified, using the default config. In order to specify a config file use redis-server /path/to/redis.conf\n",
      "                _._                                                  \n",
      "           _.-``__ ''-._                                             \n",
      "      _.-``    `.  `_.  ''-._           Redis 3.2.6 (00000000/0) 64 bit\n",
      "  .-`` .-```.  ```\\/    _.,_ ''-._                                   \n",
      " (    '      ,       .-`  | `,    )     Running in standalone mode\n",
      " |`-._`-...-` __...-.``-._|'` _.-'|     Port: 6379\n",
      " |    `-._   `._    /     _.-'    |     PID: 7\n",
      "  `-._    `-._  `-./  _.-'    _.-'                                   \n",
      " |`-._`-._    `-.__.-'    _.-'_.-'|                                  \n",
      " |    `-._`-._        _.-'_.-'    |           http://redis.io        \n",
      "  `-._    `-._`-.__.-'_.-'    _.-'                                   \n",
      " |`-._`-._    `-.__.-'    _.-'_.-'|                                  \n",
      " |    `-._`-._        _.-'_.-'    |                                  \n",
      "  `-._    `-._`-.__.-'_.-'    _.-'                                   \n",
      "      `-._    `-.__.-'    _.-'                                       \n",
      "          `-._        _.-'                                           \n",
      "              `-.__.-'                                               \n",
      "\n",
      "7:M 02 Feb 03:54:47.179 # WARNING: The TCP backlog setting of 511 cannot be enforced because /proc/sys/net/core/somaxconn is set to the lower value of 128.\n",
      "7:M 02 Feb 03:54:47.179 # Server started, Redis version 3.2.6\n",
      "7:M 02 Feb 03:54:47.180 # WARNING you have Transparent Huge Pages (THP) support enabled in your kernel. This will create latency and memory usage issues with Redis. To fix this issue run the command 'echo never > /sys/kernel/mm/transparent_hugepage/enabled' as root, and add it to your /etc/rc.local in order to retain the setting after a reboot. Redis must be restarted after THP is disabled.\n",
      "7:M 02 Feb 03:54:47.186 * The server is now ready to accept connections on port 6379\n",
      "03:54:50.941 DEBUG beam.utils.BeamConfigUtils$ - Loading beam config from fixed-data/sioux_faux/sioux_faux-15k.conf.\n",
      "03:54:52.722 DEBUG b.sim.config.MatSimBeamConfigBuilder - Couldn't instantiate MatsimParameters  'org.matsim.core.config.groups.PlanCalcScoreConfigGroup.ModeParams'. It doesn't have default public constructor.Falling back to setAccessible(). Cause : Class beam.sim.config.MatSimBeamConfigBuilder$$anonfun$1 can not access a member of class org.matsim.core.config.groups.PlanCalcScoreConfigGroup$ModeParams with modifiers \"\"\n",
      "03:54:52.730 DEBUG b.sim.config.MatSimBeamConfigBuilder - Couldn't instantiate MatsimParameters  'org.matsim.run.OldToNewPlanCalcScoreConfigGroup.ModeParams'. It doesn't have default public constructor.Falling back to setAccessible(). Cause : Class beam.sim.config.MatSimBeamConfigBuilder$$anonfun$1 can not access a member of class org.matsim.run.OldToNewPlanCalcScoreConfigGroup$ModeParams with modifiers \"\"\n",
      "03:54:52.871 DEBUG beam.utils.FileUtils$ - Beam output directory is: /output/sioux_faux/sioux_faux-15k__2019-02-02_03-54-52\n",
      "03:54:52.988 INFO  beam.competition.run.RunCompetition$ - Starting beam on branch master at commit HEAD.\n",
      "03:54:53.046 INFO  beam.competition.run.RunCompetition$ - Config [sioux_faux-15k] copied to /output/sioux_faux/sioux_faux-15k__2019-02-02_03-54-52/beam.conf.\n",
      "03:54:53.097 INFO  b.r.r.FrequencyAdjustingNetworkCoordinator - Initializing router by reading network from: /fixed-data/sioux_faux/r5/network.dat\n",
      "03:55:00.163 INFO  hsqldb.db.HSQLDB4AD417742A.ENGINE - dataFileCache open start\n",
      "03:55:04.752 INFO  beam.sim.BeamWarmStart - Population successfully warm started from /tmp/sioux_faux-15k__warm-start/ITERS/it.100/100.plans.xml.gz\n",
      "03:55:15.656 INFO  beam.utils.NetworkHelperImpl - Build linkId2LinkWithIndex with size: 5918 of type class java.util.HashMap\n",
      "03:55:15.664 INFO  beam.utils.NetworkHelperImpl - Build index2LinkId with size: 5918\n",
      "03:55:15.666 INFO  beam.utils.NetworkHelperImpl - NetworkHelperImpl initialized in 91 ms\n",
      "03:55:18.958 INFO  b.sim.LoggingParallelEventsManager - Created ParallelEventsManagerImpl with hashcode: 195388128\n",
      "03:55:22.083 INFO  beam.router.osm.TollCalculator - tollsByLinkId size: 0\n",
      "03:55:22.084 INFO  beam.router.osm.TollCalculator - tollsByWayId size: 0\n",
      "03:55:22.192 DEBUG beam.utils.FileUtils$ - Beam output directory is: /output/sioux_faux/sioux_faux-15k__2019-02-02_03-54-52\n",
      "[INFO] [02/02/2019 03:55:31.114] [ClusterSystem-akka.actor.default-dispatcher-4] [akka://ClusterSystem/user/router] BeamRouter: akka://ClusterSystem/user/router\n",
      "[INFO] [02/02/2019 03:55:31.164] [ClusterSystem-akka.actor.default-dispatcher-3] [akka://ClusterSystem/user/router/router-worker] R5RoutingWorker_v2[1898812937] `akka://ClusterSystem/user/router/router-worker` is ready\n",
      "[INFO] [02/02/2019 03:55:31.165] [ClusterSystem-akka.actor.default-dispatcher-3] [akka://ClusterSystem/user/router/router-worker] Num of available processors: 4. Will use: 2\n",
      "[INFO] [02/02/2019 03:55:31.201] [ClusterSystem-akka.actor.default-dispatcher-3] [akka://ClusterSystem/user/router/router-worker] linkIdMap is built in 36 ms\n",
      "[INFO] [02/02/2019 03:55:51.430] [ClusterSystem-akka.actor.default-dispatcher-2] [akka://ClusterSystem/user/BeamMobsim.iteration/population] Initialized 6225 households\n",
      "[INFO] [02/02/2019 03:55:53.592] [ClusterSystem-akka.actor.default-dispatcher-4] [akka://ClusterSystem/user/BeamMobsim.iteration] Transit schedule has been initialized\n",
      "[INFO] [02/02/2019 03:55:53.662] [ClusterSystem-akka.actor.default-dispatcher-3] [akka://ClusterSystem/user/BeamMobsim.iteration/RideHailManager] Initialized 750 ride hailing agents\n",
      "[INFO] [02/02/2019 03:55:55.633] [ClusterSystem-akka.actor.default-dispatcher-3] [akka://ClusterSystem/user/router/router-worker] R5RoutingWorker_v2[1898812937], Path: `akka://ClusterSystem/user/router/router-worker` UpdateTravelTimeLocal. Set new travel time\n",
      "[INFO] [02/02/2019 03:55:55.680] [ClusterSystem-akka.actor.default-dispatcher-4] [akka://ClusterSystem/user/BeamMobsim.iteration] Running BEAM Mobsim\n",
      "[INFO] [02/02/2019 03:55:55.680] [ClusterSystem-akka.actor.default-dispatcher-4] [akka://ClusterSystem/user/BeamMobsim.iteration] Preparing new Iteration (End)\n",
      "[INFO] [02/02/2019 03:55:55.681] [ClusterSystem-akka.actor.default-dispatcher-4] [akka://ClusterSystem/user/BeamMobsim.iteration] Starting Agentsim\n",
      "[INFO] [02/02/2019 03:55:55.682] [ClusterSystem-akka.actor.default-dispatcher-12] [akka://ClusterSystem/user/BeamMobsim.iteration/scheduler] starting scheduler at iteration 0\n",
      "[INFO] [02/02/2019 03:56:05.452] [ClusterSystem-akka.actor.default-dispatcher-7] [akka://ClusterSystem/user/BeamMobsim.iteration/scheduler] Hour 0.5 completed. 0.4(GB)\n",
      "[INFO] [02/02/2019 03:56:05.453] [ClusterSystem-akka.actor.default-dispatcher-7] [akka://ClusterSystem/user/BeamMobsim.iteration/scheduler] Hour 1.0 completed. 0.4(GB)\n",
      "[INFO] [02/02/2019 03:56:05.455] [ClusterSystem-akka.actor.default-dispatcher-7] [akka://ClusterSystem/user/BeamMobsim.iteration/scheduler] Hour 1.5 completed. 0.4(GB)\n",
      "[INFO] [02/02/2019 03:56:05.457] [ClusterSystem-akka.actor.default-dispatcher-7] [akka://ClusterSystem/user/BeamMobsim.iteration/scheduler] Hour 2.0 completed. 0.4(GB)\n",
      "[INFO] [02/02/2019 03:56:05.459] [ClusterSystem-akka.actor.default-dispatcher-7] [akka://ClusterSystem/user/BeamMobsim.iteration/scheduler] Hour 2.5 completed. 0.4(GB)\n",
      "[INFO] [02/02/2019 03:56:05.460] [ClusterSystem-akka.actor.default-dispatcher-7] [akka://ClusterSystem/user/BeamMobsim.iteration/scheduler] Hour 3.0 completed. 0.4(GB)\n",
      "[INFO] [02/02/2019 03:56:05.463] [ClusterSystem-akka.actor.default-dispatcher-7] [akka://ClusterSystem/user/BeamMobsim.iteration/scheduler] Hour 3.5 completed. 0.4(GB)\n",
      "[INFO] [02/02/2019 03:56:05.466] [ClusterSystem-akka.actor.default-dispatcher-7] [akka://ClusterSystem/user/BeamMobsim.iteration/scheduler] Hour 4.0 completed. 0.4(GB)\n",
      "[INFO] [02/02/2019 03:56:05.469] [ClusterSystem-akka.actor.default-dispatcher-7] [akka://ClusterSystem/user/BeamMobsim.iteration/scheduler] Hour 4.5 completed. 0.4(GB)\n",
      "[INFO] [02/02/2019 03:56:05.471] [ClusterSystem-akka.actor.default-dispatcher-7] [akka://ClusterSystem/user/BeamMobsim.iteration/scheduler] Hour 5.0 completed. 0.4(GB)\n",
      "[INFO] [02/02/2019 03:56:05.638] [ClusterSystem-akka.actor.default-dispatcher-3] [akka://ClusterSystem/user/BeamMobsim.iteration/scheduler] Hour 5.5 completed. 0.4(GB)\n",
      "[INFO] [02/02/2019 03:56:05.940] [ClusterSystem-akka.actor.default-dispatcher-3] [akka://ClusterSystem/user/BeamMobsim.iteration/scheduler] Hour 6.0 completed. 0.4(GB)\n",
      "[INFO] [02/02/2019 03:56:06.140] [ClusterSystem-akka.actor.default-dispatcher-5] [akka://ClusterSystem/user/BeamMobsim.iteration/scheduler] Hour 6.5 completed. 0.4(GB)\n",
      "[INFO] [02/02/2019 03:56:07.890] [ClusterSystem-akka.actor.default-dispatcher-9] [akka://ClusterSystem/user/BeamMobsim.iteration/scheduler] Hour 7.0 completed. 0.4(GB)\n",
      "[INFO] [02/02/2019 03:56:11.421] [ClusterSystem-akka.actor.default-dispatcher-13] [akka://ClusterSystem/user/BeamMobsim.iteration/scheduler] Hour 7.5 completed. 0.7(GB)\n",
      "[INFO] [02/02/2019 03:56:20.213] [ClusterSystem-akka.actor.default-dispatcher-2] [akka://ClusterSystem/user/BeamMobsim.iteration/scheduler] Hour 8.0 completed. 0.6(GB)\n",
      "\n"
     ]
    }
   ],
   "source": [
    "logs = my_executor.output_simulation_logs('my_submission')"
   ]
  },
  {
   "cell_type": "markdown",
   "metadata": {},
   "source": [
    "Submissions run for a certain amount of time. If you interrupt it before the end, you will not get any outputs. You can **check if a submission is finished** with the following method:"
   ]
  },
  {
   "cell_type": "code",
   "execution_count": 58,
   "metadata": {},
   "outputs": [
    {
     "data": {
      "text/plain": [
       "True"
      ]
     },
     "execution_count": 58,
     "metadata": {},
     "output_type": "execute_result"
    }
   ],
   "source": [
    "my_executor.check_if_submission_complete('my_submission')"
   ]
  },
  {
   "cell_type": "markdown",
   "metadata": {},
   "source": [
    "When a simulation run is done, you can import its **results**:"
   ]
  },
  {
   "cell_type": "code",
   "execution_count": 62,
   "metadata": {},
   "outputs": [
    {
     "ename": "ValueError",
     "evalue": "Container not executed using this interface.",
     "traceback": [
      "\u001b[0;31m---------------------------------------------------------------------------\u001b[0m",
      "\u001b[0;31mValueError\u001b[0m                                Traceback (most recent call last)",
      "\u001b[0;32m<ipython-input-62-6fd05ba173ab>\u001b[0m in \u001b[0;36m<module>\u001b[0;34m\u001b[0m\n\u001b[0;32m----> 1\u001b[0;31m \u001b[0mscores\u001b[0m\u001b[0;34m,\u001b[0m \u001b[0mstats\u001b[0m \u001b[0;34m=\u001b[0m \u001b[0mmy_executor\u001b[0m\u001b[0;34m.\u001b[0m\u001b[0mget_submission_scores_and_stats\u001b[0m\u001b[0;34m(\u001b[0m\u001b[0;34m'my_submission'\u001b[0m\u001b[0;34m)\u001b[0m\u001b[0;34m\u001b[0m\u001b[0;34m\u001b[0m\u001b[0m\n\u001b[0m",
      "\u001b[0;32m~/current_code/others/prize_starter_kit/utilities/competition_executor.py\u001b[0m in \u001b[0;36mwrapper\u001b[0;34m(*args, **kwargs)\u001b[0m\n\u001b[1;32m    259\u001b[0m         \u001b[0mself\u001b[0m\u001b[0;34m,\u001b[0m \u001b[0msubmission_id\u001b[0m \u001b[0;34m=\u001b[0m \u001b[0margs\u001b[0m\u001b[0;34m\u001b[0m\u001b[0;34m\u001b[0m\u001b[0m\n\u001b[1;32m    260\u001b[0m         \u001b[0;32mif\u001b[0m \u001b[0msubmission_id\u001b[0m \u001b[0;32mnot\u001b[0m \u001b[0;32min\u001b[0m \u001b[0mself\u001b[0m\u001b[0;34m.\u001b[0m\u001b[0mcontainers\u001b[0m\u001b[0;34m:\u001b[0m\u001b[0;34m\u001b[0m\u001b[0;34m\u001b[0m\u001b[0m\n\u001b[0;32m--> 261\u001b[0;31m             \u001b[0;32mraise\u001b[0m \u001b[0mValueError\u001b[0m\u001b[0;34m(\u001b[0m\u001b[0;34m\"Container not executed using this interface.\"\u001b[0m\u001b[0;34m)\u001b[0m\u001b[0;34m\u001b[0m\u001b[0;34m\u001b[0m\u001b[0m\n\u001b[0m\u001b[1;32m    262\u001b[0m         \u001b[0;32melse\u001b[0m\u001b[0;34m:\u001b[0m\u001b[0;34m\u001b[0m\u001b[0;34m\u001b[0m\u001b[0m\n\u001b[1;32m    263\u001b[0m             \u001b[0;32mreturn\u001b[0m \u001b[0mfunc\u001b[0m\u001b[0;34m(\u001b[0m\u001b[0;34m*\u001b[0m\u001b[0margs\u001b[0m\u001b[0;34m,\u001b[0m \u001b[0;34m**\u001b[0m\u001b[0mkwargs\u001b[0m\u001b[0;34m)\u001b[0m\u001b[0;34m\u001b[0m\u001b[0;34m\u001b[0m\u001b[0m\n",
      "\u001b[0;31mValueError\u001b[0m: Container not executed using this interface."
     ],
     "output_type": "error"
    }
   ],
   "source": [
    "scores, stats = my_executor.get_submission_scores_and_stats('my_submission')"
   ]
  },
  {
   "cell_type": "markdown",
   "metadata": {},
   "source": [
    "The **scores** and **statistics** are stored in pandas DataFrames which contains the information described [here](https://github.com/vgolfier/Uber-Prize-Starter-Kit/blob/master/docs/Understanding_the_outputs_and_the%20scoring_function.md)."
   ]
  },
  {
   "cell_type": "markdown",
   "metadata": {},
   "source": [
    "At the end of any run and to avoid any conflicts between submission ids (particularly if you want to reuse names), it is advised to **clean up containers** calling the following method:"
   ]
  },
  {
   "cell_type": "code",
   "execution_count": 35,
   "metadata": {},
   "outputs": [],
   "source": [
    "my_executor.stop_all_simulations()"
   ]
  },
  {
   "cell_type": "markdown",
   "metadata": {},
   "source": [
    "## The `input_sampler` module:"
   ]
  },
  {
   "cell_type": "markdown",
   "metadata": {},
   "source": [
    "Randomly sampled data may be used to either initialize the re-planning algorithm or otherwise test the simulation. The `input_sampler` has been provided towards this end. This subsection provides an example of how synthetic random input files may be generated for each of the available input policies to the simulation."
   ]
  },
  {
   "cell_type": "code",
   "execution_count": 10,
   "metadata": {},
   "outputs": [],
   "source": [
    "from input_sampler import *\n",
    "# Specify the common string for the scenario name \n",
    "# (currently only \"siouxfalls\", which refers to the Sioux Falls scenario).\n",
    "SCENARIO_NAME = 'sioux_faux'\n",
    "agency = 'sioux_faux_bus_lines'\n",
    "\n",
    "# Set the paths appropriately\n",
    "DIR = Path(__name__).absolute().parent.parent\n",
    "sys.path.append(str(DIR))\n",
    "DATA_DIR = DIR / 'reference-data/'\n",
    "\n",
    "agency_dict = scenario_agencies(DATA_DIR,SCENARIO_NAME)\n",
    "    # Create a lazy cache of GTFS data for the agency:\n",
    "sf_gtfs_manager = AgencyGtfsDataManager(agency_dict[agency])\n",
    "\n",
    "# Sample each input five (5) times (naming of functions is indicative of type of input sampled).\n",
    "freq_df = sample_frequency_adjustment_input(5, sf_gtfs_manager)\n",
    "mode_subsidy_df = sample_mode_subsidies_input(5)\n",
    "vehicle_fleet_mix_df = sample_vehicle_fleet_mix_input(5, sf_gtfs_manager)\n",
    "\n",
    "# Generated inputs may now be saved in, say, /submission-inputs or some other directory. \n",
    "# Remember the location of this directory when executing new simulations."
   ]
  }
 ],
 "metadata": {
  "kernelspec": {
   "display_name": "Python 3",
   "language": "python",
   "name": "python3"
  },
  "language_info": {
   "codemirror_mode": {
    "name": "ipython",
    "version": 3
   },
   "file_extension": ".py",
   "mimetype": "text/x-python",
   "name": "python",
   "nbconvert_exporter": "python",
   "pygments_lexer": "ipython3",
   "version": "3.7.2"
  },
  "varInspector": {
   "cols": {
    "lenName": 16.0,
    "lenType": 16.0,
    "lenVar": 40.0
   },
   "kernels_config": {
    "python": {
     "delete_cmd_postfix": "",
     "delete_cmd_prefix": "del ",
     "library": "var_list.py",
     "varRefreshCmd": "print(var_dic_list())"
    },
    "r": {
     "delete_cmd_postfix": ") ",
     "delete_cmd_prefix": "rm(",
     "library": "var_list.r",
     "varRefreshCmd": "cat(var_dic_list()) "
    }
   },
   "types_to_exclude": [
    "module",
    "function",
    "builtin_function_or_method",
    "instance",
    "_Feature"
   ],
   "window_display": false
  }
 },
 "nbformat": 4,
 "nbformat_minor": 2
}
