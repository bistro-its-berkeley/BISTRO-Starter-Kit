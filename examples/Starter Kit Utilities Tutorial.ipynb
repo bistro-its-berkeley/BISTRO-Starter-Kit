{
 "cells": [
  {
   "cell_type": "markdown",
   "metadata": {},
   "source": [
    "# Uber Prize Starter Kit Python Utilities: Tutorial"
   ]
  },
  {
   "cell_type": "markdown",
   "metadata": {},
   "source": [
    "To simplify interaction with the Docker-based simulation execution and evaluation, we've provided a set of Python utilities (located in the `/utilities` folder of the Starter-Kit repository). This notebook demonstrates how they may be used to accomplish the following tasks:\n",
    "\n",
    " - Starting a simulation or several simulations\n",
    " - Checking simulation completion\n",
    " - Retrieving the simulation score in a convenient Pandas `DataFrame` format.\n",
    " - Generating fake data \n",
    "\n",
    "*Note*: It is assumed that this notebook is started from the `/examples` folder."
   ]
  },
  {
   "cell_type": "code",
   "execution_count": 3,
   "metadata": {},
   "outputs": [],
   "source": [
    "# Adding the module to the path for future import\n",
    "import sys\n",
    "import os\n",
    "import docker\n",
    "from pathlib import Path\n",
    "# Note that the following is idempotent when this notebook is run from \"/examples\"\n",
    "os.chdir('../utilities')\n",
    "%load_ext autoreload\n",
    "%autoreload 2"
   ]
  },
  {
   "cell_type": "markdown",
   "metadata": {},
   "source": [
    "## Running a simulation: the `competition_executor` module"
   ]
  },
  {
   "cell_type": "markdown",
   "metadata": {},
   "source": [
    "A `CompetitionContainerExecutor` object may be used to start, stop, and gather information about containers running simulations and/or completed simulation scores and stats."
   ]
  },
  {
   "cell_type": "code",
   "execution_count": 4,
   "metadata": {},
   "outputs": [],
   "source": [
    "from competition_executor import CompetitionContainerExecutor\n",
    "\n",
    "path_input = (Path(Path.cwd()).parent / \"submission-inputs\").absolute()\n",
    "path_ouput = (Path(Path.cwd()).parent / \"output\").absolute()\n",
    "\n",
    "my_executor = CompetitionContainerExecutor(input_root=path_input,\n",
    "                                  output_root=path_ouput)\n",
    "\n",
    "# Note: Instantiating a CompetitionContainerExecutor with path arguments is not strictly necessary. Each simulation\n",
    "# can be run with its own set of input and/or output arguments. However, if you prefer to designate\n",
    "# a single directory for inputs and/or a single directory for outputs, then, for convenience, \n",
    "# you may pass those arguments in here and avoid re-entering them for each simulation run."
   ]
  },
  {
   "cell_type": "markdown",
   "metadata": {},
   "source": [
    "Run the simulation using the `run_sumulation` method. For example:"
   ]
  },
  {
   "cell_type": "code",
   "execution_count": 38,
   "metadata": {},
   "outputs": [
    {
     "name": "stdout",
     "output_type": "stream",
     "text": [
      "Found container from previous run, removing and creating new sim container...\n",
      "Container ID : my_submission\n"
     ]
    }
   ],
   "source": [
    "# Note: the `submission_id`s for each run must be unique; however, this cell may be run idempotently\n",
    "try:\n",
    "    my_submission = my_executor.client.containers.get('my_submission')\n",
    "    my_submission.stop()\n",
    "    my_submission.remove()\n",
    "    print(\"Found container from previous run, removing and creating new sim container...\")\n",
    "except docker.errors.NotFound:\n",
    "    print(\"Creating new simulation container...\")\n",
    "    \n",
    "my_executor.run_simulation('my_submission', num_iterations=1, num_cpus=4, sample_size=\"15k\")\n",
    "\n",
    "# Note that a dictionary indicating which containers IDs already exist can be accessed.\n",
    "for key, value in my_executor.containers.items():\n",
    "    print(\"Container ID : {0}\".format(key))"
   ]
  },
  {
   "cell_type": "markdown",
   "metadata": {},
   "source": [
    "You may view the **debug logs** of a specific simulation as follows:"
   ]
  },
  {
   "cell_type": "code",
   "execution_count": 89,
   "metadata": {
    "scrolled": true
   },
   "outputs": [
    {
     "name": "stdout",
     "output_type": "stream",
     "text": [
      "Dependency Service(s) Init Complete\n",
      "6:C 07 Feb 01:19:11.952 # Warning: no config file specified, using the default config. In order to specify a config file use redis-server /path/to/redis.conf\n",
      "                _._                                                  \n",
      "           _.-``__ ''-._                                             \n",
      "      _.-``    `.  `_.  ''-._           Redis 3.2.6 (00000000/0) 64 bit\n",
      "  .-`` .-```.  ```\\/    _.,_ ''-._                                   \n",
      " (    '      ,       .-`  | `,    )     Running in standalone mode\n",
      " |`-._`-...-` __...-.``-._|'` _.-'|     Port: 6379\n",
      " |    `-._   `._    /     _.-'    |     PID: 6\n",
      "  `-._    `-._  `-./  _.-'    _.-'                                   \n",
      " |`-._`-._    `-.__.-'    _.-'_.-'|                                  \n",
      " |    `-._`-._        _.-'_.-'    |           http://redis.io        \n",
      "  `-._    `-._`-.__.-'_.-'    _.-'                                   \n",
      " |`-._`-._    `-.__.-'    _.-'_.-'|                                  \n",
      " |    `-._`-._        _.-'_.-'    |                                  \n",
      "  `-._    `-._`-.__.-'_.-'    _.-'                                   \n",
      "      `-._    `-.__.-'    _.-'                                       \n",
      "          `-._        _.-'                                           \n",
      "              `-.__.-'                                               \n",
      "\n",
      "6:M 07 Feb 01:19:11.968 # WARNING: The TCP backlog setting of 511 cannot be enforced because /proc/sys/net/core/somaxconn is set to the lower value of 128.\n",
      "6:M 07 Feb 01:19:11.968 # Server started, Redis version 3.2.6\n",
      "6:M 07 Feb 01:19:11.968 # WARNING you have Transparent Huge Pages (THP) support enabled in your kernel. This will create latency and memory usage issues with Redis. To fix this issue run the command 'echo never > /sys/kernel/mm/transparent_hugepage/enabled' as root, and add it to your /etc/rc.local in order to retain the setting after a reboot. Redis must be restarted after THP is disabled.\n",
      "6:M 07 Feb 01:19:11.968 * The server is now ready to accept connections on port 6379\n",
      "01:19:17.246 DEBUG beam.utils.BeamConfigUtils$ - Loading beam config from fixed-data/sioux_faux/sioux_faux-1k.conf.\n",
      "01:19:19.269 DEBUG b.sim.config.MatSimBeamConfigBuilder - Couldn't instantiate MatsimParameters  'org.matsim.run.OldToNewPlanCalcScoreConfigGroup.ModeParams'. It doesn't have default public constructor.Falling back to setAccessible(). Cause : Class beam.sim.config.MatSimBeamConfigBuilder$$anonfun$1 can not access a member of class org.matsim.run.OldToNewPlanCalcScoreConfigGroup$ModeParams with modifiers \"\"\n",
      "01:19:19.298 DEBUG b.sim.config.MatSimBeamConfigBuilder - Couldn't instantiate MatsimParameters  'org.matsim.core.config.groups.PlanCalcScoreConfigGroup.ModeParams'. It doesn't have default public constructor.Falling back to setAccessible(). Cause : Class beam.sim.config.MatSimBeamConfigBuilder$$anonfun$1 can not access a member of class org.matsim.core.config.groups.PlanCalcScoreConfigGroup$ModeParams with modifiers \"\"\n",
      "01:19:19.558 DEBUG beam.utils.FileUtils$ - Beam output directory is: /output/sioux_faux/sioux_faux-1k__2019-02-07_01-19-19\n",
      "01:19:19.703 INFO  beam.competition.run.RunCompetition$ - Starting beam on branch master at commit HEAD.\n",
      "01:19:19.812 INFO  beam.competition.run.RunCompetition$ - Config [sioux_faux-1k] copied to /output/sioux_faux/sioux_faux-1k__2019-02-07_01-19-19/beam.conf.\n",
      "01:19:19.867 INFO  b.r.r.FrequencyAdjustingNetworkCoordinator - Initializing router by reading network from: /fixed-data/sioux_faux/r5/network.dat\n",
      "01:19:26.841 INFO  hsqldb.db.HSQLDB4AD417742A.ENGINE - dataFileCache open start\n",
      "01:19:35.197 INFO  beam.utils.NetworkHelperImpl - Build linkId2LinkWithIndex with size: 5918 of type class java.util.HashMap\n",
      "01:19:35.221 INFO  beam.utils.NetworkHelperImpl - Build index2LinkId with size: 5918\n",
      "01:19:35.223 INFO  beam.utils.NetworkHelperImpl - NetworkHelperImpl initialized in 129 ms\n",
      "01:19:39.184 INFO  b.sim.LoggingParallelEventsManager - Created ParallelEventsManagerImpl with hashcode: 1423900009\n",
      "01:19:41.802 INFO  beam.router.osm.TollCalculator - tollsByLinkId size: 0\n",
      "01:19:41.803 INFO  beam.router.osm.TollCalculator - tollsByWayId size: 0\n",
      "01:19:41.964 DEBUG beam.utils.FileUtils$ - Beam output directory is: /output/sioux_faux/sioux_faux-1k__2019-02-07_01-19-19\n",
      "[INFO] [02/07/2019 01:19:48.749] [ClusterSystem-akka.actor.default-dispatcher-3] [akka://ClusterSystem/user/router] BeamRouter: akka://ClusterSystem/user/router\n",
      "[INFO] [02/07/2019 01:19:48.791] [ClusterSystem-akka.actor.default-dispatcher-4] [akka://ClusterSystem/user/router/router-worker] R5RoutingWorker_v2[2079135435] `akka://ClusterSystem/user/router/router-worker` is ready\n",
      "[INFO] [02/07/2019 01:19:48.791] [ClusterSystem-akka.actor.default-dispatcher-4] [akka://ClusterSystem/user/router/router-worker] Num of available processors: 4. Will use: 2\n",
      "[INFO] [02/07/2019 01:19:48.873] [ClusterSystem-akka.actor.default-dispatcher-4] [akka://ClusterSystem/user/router/router-worker] linkIdMap is built in 82 ms\n",
      "[INFO] [02/07/2019 01:19:52.025] [ClusterSystem-akka.actor.default-dispatcher-6] [akka://ClusterSystem/user/BeamMobsim.iteration/$b] Memory use after GC: 0.1(GB)\n",
      "[INFO] [02/07/2019 01:19:52.873] [ClusterSystem-akka.actor.default-dispatcher-2] [akka://ClusterSystem/user/BeamMobsim.iteration/population] Initialized 409 households\n",
      "[INFO] [02/07/2019 01:19:55.325] [ClusterSystem-akka.actor.default-dispatcher-3] [akka://ClusterSystem/user/BeamMobsim.iteration/RideHailManager] Initialized 100 ride hailing agents\n",
      "[INFO] [02/07/2019 01:19:55.736] [ClusterSystem-akka.actor.default-dispatcher-4] [akka://ClusterSystem/user/BeamMobsim.iteration] Transit schedule has been initialized\n",
      "[INFO] [02/07/2019 01:19:55.789] [ClusterSystem-akka.actor.default-dispatcher-8] [akka://ClusterSystem/user/router/router-worker] R5RoutingWorker_v2[2079135435], Path: `akka://ClusterSystem/user/router/router-worker` UpdateTravelTimeLocal. Set new travel time\n",
      "[INFO] [02/07/2019 01:19:55.826] [ClusterSystem-akka.actor.default-dispatcher-4] [akka://ClusterSystem/user/BeamMobsim.iteration] Running BEAM Mobsim\n",
      "[INFO] [02/07/2019 01:19:55.828] [ClusterSystem-akka.actor.default-dispatcher-4] [akka://ClusterSystem/user/BeamMobsim.iteration] Preparing new Iteration (End)\n",
      "[INFO] [02/07/2019 01:19:55.829] [ClusterSystem-akka.actor.default-dispatcher-4] [akka://ClusterSystem/user/BeamMobsim.iteration] Starting Agentsim\n",
      "[INFO] [02/07/2019 01:19:55.831] [ClusterSystem-akka.actor.default-dispatcher-4] [akka://ClusterSystem/user/BeamMobsim.iteration/scheduler] starting scheduler at iteration 0\n",
      "[INFO] [02/07/2019 01:19:57.480] [ClusterSystem-akka.actor.default-dispatcher-13] [akka://ClusterSystem/user/BeamMobsim.iteration/scheduler] Hour 0.5 completed. 0.3(GB)\n",
      "[INFO] [02/07/2019 01:19:57.490] [ClusterSystem-akka.actor.default-dispatcher-13] [akka://ClusterSystem/user/BeamMobsim.iteration/scheduler] Hour 1.0 completed. 0.3(GB)\n",
      "[INFO] [02/07/2019 01:19:57.490] [ClusterSystem-akka.actor.default-dispatcher-13] [akka://ClusterSystem/user/BeamMobsim.iteration/scheduler] Hour 1.5 completed. 0.3(GB)\n",
      "[INFO] [02/07/2019 01:19:57.490] [ClusterSystem-akka.actor.default-dispatcher-13] [akka://ClusterSystem/user/BeamMobsim.iteration/scheduler] Hour 2.0 completed. 0.3(GB)\n",
      "[INFO] [02/07/2019 01:19:57.490] [ClusterSystem-akka.actor.default-dispatcher-13] [akka://ClusterSystem/user/BeamMobsim.iteration/scheduler] Hour 2.5 completed. 0.3(GB)\n",
      "[INFO] [02/07/2019 01:19:57.490] [ClusterSystem-akka.actor.default-dispatcher-13] [akka://ClusterSystem/user/BeamMobsim.iteration/scheduler] Hour 3.0 completed. 0.3(GB)\n",
      "[INFO] [02/07/2019 01:19:57.490] [ClusterSystem-akka.actor.default-dispatcher-13] [akka://ClusterSystem/user/BeamMobsim.iteration/scheduler] Hour 3.5 completed. 0.3(GB)\n",
      "[INFO] [02/07/2019 01:19:57.490] [ClusterSystem-akka.actor.default-dispatcher-13] [akka://ClusterSystem/user/BeamMobsim.iteration/scheduler] Hour 4.0 completed. 0.3(GB)\n",
      "[INFO] [02/07/2019 01:19:57.491] [ClusterSystem-akka.actor.default-dispatcher-13] [akka://ClusterSystem/user/BeamMobsim.iteration/scheduler] Hour 4.5 completed. 0.3(GB)\n",
      "[INFO] [02/07/2019 01:19:57.506] [ClusterSystem-akka.actor.default-dispatcher-13] [akka://ClusterSystem/user/BeamMobsim.iteration/scheduler] Hour 5.0 completed. 0.3(GB)\n",
      "[INFO] [02/07/2019 01:19:57.637] [ClusterSystem-akka.actor.default-dispatcher-6] [akka://ClusterSystem/user/BeamMobsim.iteration/scheduler] Hour 5.5 completed. 0.3(GB)\n",
      "[INFO] [02/07/2019 01:19:57.742] [ClusterSystem-akka.actor.default-dispatcher-7] [akka://ClusterSystem/user/BeamMobsim.iteration/scheduler] Hour 6.0 completed. 0.3(GB)\n",
      "[INFO] [02/07/2019 01:19:58.146] [ClusterSystem-akka.actor.default-dispatcher-4] [akka://ClusterSystem/user/BeamMobsim.iteration/scheduler] Hour 6.5 completed. 0.3(GB)\n",
      "[INFO] [02/07/2019 01:19:59.965] [ClusterSystem-akka.actor.default-dispatcher-10] [akka://ClusterSystem/user/BeamMobsim.iteration/scheduler] Hour 7.0 completed. 0.4(GB)\n",
      "[INFO] [02/07/2019 01:20:02.231] [ClusterSystem-akka.actor.default-dispatcher-5] [akka://ClusterSystem/user/BeamMobsim.iteration/scheduler] Hour 7.5 completed. 0.6(GB)\n",
      "[INFO] [02/07/2019 01:20:12.413] [ClusterSystem-akka.actor.default-dispatcher-12] [akka://ClusterSystem/user/BeamMobsim.iteration/scheduler] Hour 8.0 completed. 0.8(GB)\n",
      "[INFO] [02/07/2019 01:20:19.143] [ClusterSystem-akka.actor.default-dispatcher-6] [akka://ClusterSystem/user/BeamMobsim.iteration/scheduler] Hour 8.5 completed. 0.6(GB)\n",
      "[INFO] [02/07/2019 01:20:22.590] [ClusterSystem-akka.actor.default-dispatcher-9] [akka://ClusterSystem/user/BeamMobsim.iteration/scheduler] Hour 9.0 completed. 0.7(GB)\n",
      "[INFO] [02/07/2019 01:20:24.362] [ClusterSystem-akka.actor.default-dispatcher-7] [akka://ClusterSystem/user/BeamMobsim.iteration/scheduler] Hour 9.5 completed. 1.1(GB)\n",
      "[INFO] [02/07/2019 01:20:25.428] [ClusterSystem-akka.actor.default-dispatcher-8] [akka://ClusterSystem/user/BeamMobsim.iteration/scheduler] Hour 10.0 completed. 0.3(GB)\n",
      "[INFO] [02/07/2019 01:20:26.133] [ClusterSystem-akka.actor.default-dispatcher-12] [akka://ClusterSystem/user/BeamMobsim.iteration/scheduler] Hour 10.5 completed. 0.6(GB)\n",
      "[WARN] [02/07/2019 01:20:26.223] [ClusterSystem-akka.actor.default-dispatcher-9] [akka://ClusterSystem/user/router/TransitDriverAgent-siouxareametro-sd-us:t_75362_b_219_tn_1] Driver did not find a leg at currentLegPassengerScheduleIndex.\n",
      "[WARN] [02/07/2019 01:20:26.224] [ClusterSystem-akka.actor.default-dispatcher-9] [akka://ClusterSystem/user/router/TransitDriverAgent-siouxareametro-sd-us:t_75362_b_219_tn_1] Driver did not find a leg at currentLegPassengerScheduleIndex.\n",
      "[INFO] [02/07/2019 01:20:26.917] [ClusterSystem-akka.actor.default-dispatcher-10] [akka://ClusterSystem/user/BeamMobsim.iteration/scheduler] Hour 11.0 completed. 0.8(GB)\n",
      "[INFO] [02/07/2019 01:20:27.607] [ClusterSystem-akka.actor.default-dispatcher-14] [akka://ClusterSystem/user/BeamMobsim.iteration/scheduler] Hour 11.5 completed. 1.0(GB)\n",
      "[INFO] [02/07/2019 01:20:28.109] [ClusterSystem-akka.actor.default-dispatcher-10] [akka://ClusterSystem/user/BeamMobsim.iteration/scheduler] Hour 12.0 completed. 1.1(GB)\n",
      "[INFO] [02/07/2019 01:20:29.036] [ClusterSystem-akka.actor.default-dispatcher-13] [akka://ClusterSystem/user/BeamMobsim.iteration/scheduler] Hour 12.5 completed. 0.4(GB)\n",
      "[INFO] [02/07/2019 01:20:30.056] [ClusterSystem-akka.actor.default-dispatcher-4] [akka://ClusterSystem/user/BeamMobsim.iteration/scheduler] Hour 13.0 completed. 0.7(GB)\n",
      "[INFO] [02/07/2019 01:20:31.083] [ClusterSystem-akka.actor.default-dispatcher-11] [akka://ClusterSystem/user/BeamMobsim.iteration/scheduler] Hour 13.5 completed. 0.9(GB)\n",
      "[INFO] [02/07/2019 01:20:32.341] [ClusterSystem-akka.actor.default-dispatcher-9] [akka://ClusterSystem/user/BeamMobsim.iteration/scheduler] Hour 14.0 completed. 0.2(GB)\n",
      "[INFO] [02/07/2019 01:20:33.466] [ClusterSystem-akka.actor.default-dispatcher-5] [akka://ClusterSystem/user/BeamMobsim.iteration/scheduler] Hour 14.5 completed. 0.4(GB)\n",
      "[INFO] [02/07/2019 01:20:34.939] [ClusterSystem-akka.actor.default-dispatcher-9] [akka://ClusterSystem/user/BeamMobsim.iteration/scheduler] Hour 15.0 completed. 0.6(GB)\n",
      "[INFO] [02/07/2019 01:20:35.720] [ClusterSystem-akka.actor.default-dispatcher-8] [akka://ClusterSystem/user/BeamMobsim.iteration/scheduler] Hour 15.5 completed. 0.7(GB)\n",
      "[INFO] [02/07/2019 01:20:36.360] [ClusterSystem-akka.actor.default-dispatcher-9] [akka://ClusterSystem/user/BeamMobsim.iteration/scheduler] Hour 16.0 completed. 0.9(GB)\n",
      "[INFO] [02/07/2019 01:20:37.620] [ClusterSystem-akka.actor.default-dispatcher-2] [akka://ClusterSystem/user/BeamMobsim.iteration/scheduler] Hour 16.5 completed. 0.3(GB)\n",
      "[INFO] [02/07/2019 01:20:38.799] [ClusterSystem-akka.actor.default-dispatcher-6] [akka://ClusterSystem/user/BeamMobsim.iteration/scheduler] Hour 17.0 completed. 0.7(GB)\n",
      "[INFO] [02/07/2019 01:20:40.697] [ClusterSystem-akka.actor.default-dispatcher-10] [akka://ClusterSystem/user/BeamMobsim.iteration/scheduler] Hour 17.5 completed. 0.3(GB)\n",
      "[INFO] [02/07/2019 01:20:42.458] [ClusterSystem-akka.actor.default-dispatcher-14] [akka://ClusterSystem/user/BeamMobsim.iteration/scheduler] Hour 18.0 completed. 0.7(GB)\n",
      "[INFO] [02/07/2019 01:20:43.675] [ClusterSystem-akka.actor.default-dispatcher-13] [akka://ClusterSystem/user/BeamMobsim.iteration/scheduler] Hour 18.5 completed. 1.0(GB)\n",
      "[INFO] [02/07/2019 01:20:44.941] [ClusterSystem-akka.actor.default-dispatcher-11] [akka://ClusterSystem/user/BeamMobsim.iteration/scheduler] Hour 19.0 completed. 0.2(GB)\n",
      "[INFO] [02/07/2019 01:20:45.221] [ClusterSystem-akka.actor.default-dispatcher-5] [akka://ClusterSystem/user/BeamMobsim.iteration/scheduler] Hour 19.5 completed. 0.3(GB)\n",
      "[INFO] [02/07/2019 01:20:45.517] [ClusterSystem-akka.actor.default-dispatcher-4] [akka://ClusterSystem/user/BeamMobsim.iteration/scheduler] Hour 20.0 completed. 0.4(GB)\n",
      "[INFO] [02/07/2019 01:20:45.601] [ClusterSystem-akka.actor.default-dispatcher-11] [akka://ClusterSystem/user/BeamMobsim.iteration/scheduler] Hour 20.5 completed. 0.4(GB)\n",
      "[INFO] [02/07/2019 01:20:45.647] [ClusterSystem-akka.actor.default-dispatcher-8] [akka://ClusterSystem/user/BeamMobsim.iteration/scheduler] Hour 21.0 completed. 0.4(GB)\n",
      "[INFO] [02/07/2019 01:20:45.918] [ClusterSystem-akka.actor.default-dispatcher-5] [akka://ClusterSystem/user/BeamMobsim.iteration/scheduler] Hour 21.5 completed. 0.4(GB)\n",
      "[INFO] [02/07/2019 01:20:45.927] [ClusterSystem-akka.actor.default-dispatcher-14] [akka://ClusterSystem/user/BeamMobsim.iteration/scheduler] Hour 22.0 completed. 0.4(GB)\n",
      "[INFO] [02/07/2019 01:20:45.929] [ClusterSystem-akka.actor.default-dispatcher-14] [akka://ClusterSystem/user/BeamMobsim.iteration/scheduler] Hour 22.5 completed. 0.4(GB)\n",
      "[INFO] [02/07/2019 01:20:45.929] [ClusterSystem-akka.actor.default-dispatcher-14] [akka://ClusterSystem/user/BeamMobsim.iteration/scheduler] Hour 23.0 completed. 0.4(GB)\n",
      "[INFO] [02/07/2019 01:20:45.929] [ClusterSystem-akka.actor.default-dispatcher-14] [akka://ClusterSystem/user/BeamMobsim.iteration/scheduler] Hour 23.5 completed. 0.4(GB)\n",
      "[INFO] [02/07/2019 01:20:45.929] [ClusterSystem-akka.actor.default-dispatcher-14] [akka://ClusterSystem/user/BeamMobsim.iteration/scheduler] Hour 24.0 completed. 0.4(GB)\n",
      "[INFO] [02/07/2019 01:20:45.929] [ClusterSystem-akka.actor.default-dispatcher-14] [akka://ClusterSystem/user/BeamMobsim.iteration/scheduler] Hour 24.5 completed. 0.4(GB)\n",
      "[INFO] [02/07/2019 01:20:45.929] [ClusterSystem-akka.actor.default-dispatcher-14] [akka://ClusterSystem/user/BeamMobsim.iteration/scheduler] Hour 25.0 completed. 0.4(GB)\n",
      "[INFO] [02/07/2019 01:20:45.930] [ClusterSystem-akka.actor.default-dispatcher-14] [akka://ClusterSystem/user/BeamMobsim.iteration/scheduler] Hour 25.5 completed. 0.4(GB)\n",
      "[INFO] [02/07/2019 01:20:45.930] [ClusterSystem-akka.actor.default-dispatcher-14] [akka://ClusterSystem/user/BeamMobsim.iteration/scheduler] Hour 26.0 completed. 0.4(GB)\n",
      "[INFO] [02/07/2019 01:20:45.930] [ClusterSystem-akka.actor.default-dispatcher-14] [akka://ClusterSystem/user/BeamMobsim.iteration/scheduler] Hour 26.5 completed. 0.4(GB)\n",
      "[INFO] [02/07/2019 01:20:45.930] [ClusterSystem-akka.actor.default-dispatcher-14] [akka://ClusterSystem/user/BeamMobsim.iteration/scheduler] Hour 27.0 completed. 0.4(GB)\n",
      "[INFO] [02/07/2019 01:20:45.930] [ClusterSystem-akka.actor.default-dispatcher-14] [akka://ClusterSystem/user/BeamMobsim.iteration/scheduler] Hour 27.5 completed. 0.4(GB)\n",
      "[INFO] [02/07/2019 01:20:45.930] [ClusterSystem-akka.actor.default-dispatcher-14] [akka://ClusterSystem/user/BeamMobsim.iteration/scheduler] Hour 28.0 completed. 0.4(GB)\n",
      "[INFO] [02/07/2019 01:20:45.930] [ClusterSystem-akka.actor.default-dispatcher-14] [akka://ClusterSystem/user/BeamMobsim.iteration/scheduler] Hour 28.5 completed. 0.4(GB)\n",
      "[INFO] [02/07/2019 01:20:45.930] [ClusterSystem-akka.actor.default-dispatcher-14] [akka://ClusterSystem/user/BeamMobsim.iteration/scheduler] Hour 29.0 completed. 0.4(GB)\n",
      "[INFO] [02/07/2019 01:20:45.930] [ClusterSystem-akka.actor.default-dispatcher-14] [akka://ClusterSystem/user/BeamMobsim.iteration/scheduler] Hour 29.5 completed. 0.4(GB)\n",
      "[INFO] [02/07/2019 01:20:45.930] [ClusterSystem-akka.actor.default-dispatcher-14] [akka://ClusterSystem/user/BeamMobsim.iteration/scheduler] Hour 30.0 completed. 0.4(GB)\n",
      "[INFO] [02/07/2019 01:20:45.930] [ClusterSystem-akka.actor.default-dispatcher-14] [akka://ClusterSystem/user/BeamMobsim.iteration/scheduler] Stopping BeamAgentScheduler @ tick 108001. Iteration 0 executed in 50 seconds\n",
      "[INFO] [02/07/2019 01:20:45.934] [ClusterSystem-akka.actor.default-dispatcher-5] [akka://ClusterSystem/user/BeamMobsim.iteration] Scheduler is finished.\n",
      "[INFO] [02/07/2019 01:20:45.934] [ClusterSystem-akka.actor.default-dispatcher-5] [akka://ClusterSystem/user/BeamMobsim.iteration] Ending Agentsim\n",
      "[INFO] [02/07/2019 01:20:45.934] [ClusterSystem-akka.actor.default-dispatcher-5] [akka://ClusterSystem/user/BeamMobsim.iteration] Processing Agentsim Events (Start)\n",
      "[INFO] [02/07/2019 01:20:46.043] [ClusterSystem-akka.actor.default-dispatcher-4] [akka://ClusterSystem/user/BeamMobsim.iteration/scheduler] aroundPostStop. Stopping all scheduled tasks...\n",
      "[INFO] [02/07/2019 01:20:56.535] [ClusterSystem-akka.actor.default-dispatcher-2] [akka://ClusterSystem/user/router/router-worker] R5RoutingWorker_v2[2079135435], Path: `akka://ClusterSystem/user/router/router-worker` UpdateTravelTimeLocal. Set new travel time\n",
      "[INFO] [02/07/2019 01:21:11.920] [ClusterSystem-akka.actor.default-dispatcher-2] [akka://ClusterSystem/user/BeamMobsim.iteration/$b] Memory use after GC: 0.1(GB)\n",
      "[INFO] [02/07/2019 01:21:12.098] [ClusterSystem-akka.actor.default-dispatcher-5] [akka://ClusterSystem/user/BeamMobsim.iteration/population] Initialized 409 households\n",
      "[INFO] [02/07/2019 01:21:13.123] [ClusterSystem-akka.actor.default-dispatcher-10] [akka://ClusterSystem/user/BeamMobsim.iteration] Transit schedule has been initialized\n",
      "[INFO] [02/07/2019 01:21:13.123] [ClusterSystem-akka.actor.default-dispatcher-10] [akka://ClusterSystem/user/BeamMobsim.iteration] Running BEAM Mobsim\n",
      "[INFO] [02/07/2019 01:21:13.123] [ClusterSystem-akka.actor.default-dispatcher-10] [akka://ClusterSystem/user/BeamMobsim.iteration] Preparing new Iteration (End)\n",
      "[INFO] [02/07/2019 01:21:13.123] [ClusterSystem-akka.actor.default-dispatcher-10] [akka://ClusterSystem/user/BeamMobsim.iteration] Starting Agentsim\n",
      "[INFO] [02/07/2019 01:21:13.124] [ClusterSystem-akka.actor.default-dispatcher-17] [akka://ClusterSystem/user/BeamMobsim.iteration/scheduler] starting scheduler at iteration 1\n",
      "[INFO] [02/07/2019 01:21:13.690] [ClusterSystem-akka.actor.default-dispatcher-14] [akka://ClusterSystem/user/BeamMobsim.iteration/RideHailManager] Initialized 100 ride hailing agents\n",
      "[INFO] [02/07/2019 01:21:13.698] [ClusterSystem-akka.actor.default-dispatcher-13] [akka://ClusterSystem/user/BeamMobsim.iteration/scheduler] Hour 0.5 completed. 0.4(GB)\n",
      "[INFO] [02/07/2019 01:21:13.698] [ClusterSystem-akka.actor.default-dispatcher-13] [akka://ClusterSystem/user/BeamMobsim.iteration/scheduler] Hour 1.0 completed. 0.4(GB)\n",
      "[INFO] [02/07/2019 01:21:13.698] [ClusterSystem-akka.actor.default-dispatcher-13] [akka://ClusterSystem/user/BeamMobsim.iteration/scheduler] Hour 1.5 completed. 0.4(GB)\n",
      "[INFO] [02/07/2019 01:21:13.698] [ClusterSystem-akka.actor.default-dispatcher-13] [akka://ClusterSystem/user/BeamMobsim.iteration/scheduler] Hour 2.0 completed. 0.4(GB)\n",
      "[INFO] [02/07/2019 01:21:13.698] [ClusterSystem-akka.actor.default-dispatcher-13] [akka://ClusterSystem/user/BeamMobsim.iteration/scheduler] Hour 2.5 completed. 0.4(GB)\n",
      "[INFO] [02/07/2019 01:21:13.699] [ClusterSystem-akka.actor.default-dispatcher-13] [akka://ClusterSystem/user/BeamMobsim.iteration/scheduler] Hour 3.0 completed. 0.4(GB)\n",
      "[INFO] [02/07/2019 01:21:13.703] [ClusterSystem-akka.actor.default-dispatcher-13] [akka://ClusterSystem/user/BeamMobsim.iteration/scheduler] Hour 3.5 completed. 0.4(GB)\n",
      "[INFO] [02/07/2019 01:21:13.703] [ClusterSystem-akka.actor.default-dispatcher-13] [akka://ClusterSystem/user/BeamMobsim.iteration/scheduler] Hour 4.0 completed. 0.4(GB)\n",
      "[INFO] [02/07/2019 01:21:13.704] [ClusterSystem-akka.actor.default-dispatcher-13] [akka://ClusterSystem/user/BeamMobsim.iteration/scheduler] Hour 4.5 completed. 0.4(GB)\n",
      "[INFO] [02/07/2019 01:21:13.704] [ClusterSystem-akka.actor.default-dispatcher-13] [akka://ClusterSystem/user/BeamMobsim.iteration/scheduler] Hour 5.0 completed. 0.4(GB)\n",
      "[INFO] [02/07/2019 01:21:13.711] [ClusterSystem-akka.actor.default-dispatcher-14] [akka://ClusterSystem/user/BeamMobsim.iteration/scheduler] Hour 5.5 completed. 0.4(GB)\n",
      "[INFO] [02/07/2019 01:21:14.093] [ClusterSystem-akka.actor.default-dispatcher-5] [akka://ClusterSystem/user/BeamMobsim.iteration/scheduler] Hour 6.0 completed. 0.4(GB)\n",
      "[INFO] [02/07/2019 01:21:14.524] [ClusterSystem-akka.actor.default-dispatcher-9] [akka://ClusterSystem/user/BeamMobsim.iteration/scheduler] Hour 6.5 completed. 0.4(GB)\n",
      "[INFO] [02/07/2019 01:21:14.823] [ClusterSystem-akka.actor.default-dispatcher-13] [akka://ClusterSystem/user/BeamMobsim.iteration/scheduler] Hour 7.0 completed. 0.4(GB)\n",
      "[INFO] [02/07/2019 01:21:15.224] [ClusterSystem-akka.actor.default-dispatcher-17] [akka://ClusterSystem/user/BeamMobsim.iteration/scheduler] Hour 7.5 completed. 0.4(GB)\n",
      "[INFO] [02/07/2019 01:21:16.521] [ClusterSystem-akka.actor.default-dispatcher-5] [akka://ClusterSystem/user/BeamMobsim.iteration/scheduler] Hour 8.0 completed. 0.6(GB)\n",
      "[INFO] [02/07/2019 01:21:18.433] [ClusterSystem-akka.actor.default-dispatcher-16] [akka://ClusterSystem/user/BeamMobsim.iteration/scheduler] Hour 8.5 completed. 0.2(GB)\n",
      "[INFO] [02/07/2019 01:21:19.449] [ClusterSystem-akka.actor.default-dispatcher-14] [akka://ClusterSystem/user/BeamMobsim.iteration/scheduler] Hour 9.0 completed. 0.4(GB)\n",
      "[INFO] [02/07/2019 01:21:19.884] [ClusterSystem-akka.actor.default-dispatcher-7] [akka://ClusterSystem/user/BeamMobsim.iteration/scheduler] Hour 9.5 completed. 0.5(GB)\n",
      "[INFO] [02/07/2019 01:21:20.270] [ClusterSystem-akka.actor.default-dispatcher-16] [akka://ClusterSystem/user/BeamMobsim.iteration/scheduler] Hour 10.0 completed. 0.6(GB)\n",
      "[INFO] [02/07/2019 01:21:20.502] [ClusterSystem-akka.actor.default-dispatcher-9] [akka://ClusterSystem/user/BeamMobsim.iteration/scheduler] Hour 10.5 completed. 0.7(GB)\n",
      "[INFO] [02/07/2019 01:21:20.728] [ClusterSystem-akka.actor.default-dispatcher-5] [akka://ClusterSystem/user/BeamMobsim.iteration/scheduler] Hour 11.0 completed. 0.8(GB)\n",
      "[INFO] [02/07/2019 01:21:21.124] [ClusterSystem-akka.actor.default-dispatcher-5] [akka://ClusterSystem/user/BeamMobsim.iteration/scheduler] Hour 11.5 completed. 0.9(GB)\n",
      "[INFO] [02/07/2019 01:21:21.370] [ClusterSystem-akka.actor.default-dispatcher-15] [akka://ClusterSystem/user/BeamMobsim.iteration/scheduler] Hour 12.0 completed. 0.9(GB)\n",
      "[INFO] [02/07/2019 01:21:22.171] [ClusterSystem-akka.actor.default-dispatcher-16] [akka://ClusterSystem/user/BeamMobsim.iteration/scheduler] Hour 12.5 completed. 0.2(GB)\n",
      "[INFO] [02/07/2019 01:21:22.701] [ClusterSystem-akka.actor.default-dispatcher-17] [akka://ClusterSystem/user/BeamMobsim.iteration/scheduler] Hour 13.0 completed. 0.3(GB)\n",
      "[INFO] [02/07/2019 01:21:23.215] [ClusterSystem-akka.actor.default-dispatcher-6] [akka://ClusterSystem/user/BeamMobsim.iteration/scheduler] Hour 13.5 completed. 0.5(GB)\n",
      "[INFO] [02/07/2019 01:21:23.613] [ClusterSystem-akka.actor.default-dispatcher-14] [akka://ClusterSystem/user/BeamMobsim.iteration/scheduler] Hour 14.0 completed. 0.5(GB)\n",
      "[INFO] [02/07/2019 01:21:23.868] [ClusterSystem-akka.actor.default-dispatcher-15] [akka://ClusterSystem/user/BeamMobsim.iteration/scheduler] Hour 14.5 completed. 0.6(GB)\n",
      "[INFO] [02/07/2019 01:21:24.765] [ClusterSystem-akka.actor.default-dispatcher-9] [akka://ClusterSystem/user/BeamMobsim.iteration/scheduler] Hour 15.0 completed. 0.7(GB)\n",
      "[INFO] [02/07/2019 01:21:25.277] [ClusterSystem-akka.actor.default-dispatcher-15] [akka://ClusterSystem/user/BeamMobsim.iteration/scheduler] Hour 15.5 completed. 0.7(GB)\n",
      "[INFO] [02/07/2019 01:21:25.571] [ClusterSystem-akka.actor.default-dispatcher-7] [akka://ClusterSystem/user/BeamMobsim.iteration/scheduler] Hour 16.0 completed. 0.8(GB)\n",
      "[INFO] [02/07/2019 01:21:25.922] [ClusterSystem-akka.actor.default-dispatcher-2] [akka://ClusterSystem/user/BeamMobsim.iteration/scheduler] Hour 16.5 completed. 0.9(GB)\n",
      "[INFO] [02/07/2019 01:21:27.173] [ClusterSystem-akka.actor.default-dispatcher-6] [akka://ClusterSystem/user/BeamMobsim.iteration/scheduler] Hour 17.0 completed. 0.2(GB)\n",
      "[INFO] [02/07/2019 01:21:28.752] [ClusterSystem-akka.actor.default-dispatcher-5] [akka://ClusterSystem/user/BeamMobsim.iteration/scheduler] Hour 17.5 completed. 0.4(GB)\n",
      "[INFO] [02/07/2019 01:21:30.300] [ClusterSystem-akka.actor.default-dispatcher-6] [akka://ClusterSystem/user/BeamMobsim.iteration/scheduler] Hour 18.0 completed. 0.8(GB)\n",
      "[INFO] [02/07/2019 01:21:31.856] [ClusterSystem-akka.actor.default-dispatcher-14] [akka://ClusterSystem/user/BeamMobsim.iteration/scheduler] Hour 18.5 completed. 0.3(GB)\n",
      "[INFO] [02/07/2019 01:21:32.271] [ClusterSystem-akka.actor.default-dispatcher-7] [akka://ClusterSystem/user/BeamMobsim.iteration/scheduler] Hour 19.0 completed. 0.4(GB)\n",
      "[INFO] [02/07/2019 01:21:32.455] [ClusterSystem-akka.actor.default-dispatcher-15] [akka://ClusterSystem/user/BeamMobsim.iteration/scheduler] Hour 19.5 completed. 0.4(GB)\n",
      "[INFO] [02/07/2019 01:21:32.630] [ClusterSystem-akka.actor.default-dispatcher-9] [akka://ClusterSystem/user/BeamMobsim.iteration/scheduler] Hour 20.0 completed. 0.5(GB)\n",
      "[INFO] [02/07/2019 01:21:32.686] [ClusterSystem-akka.actor.default-dispatcher-17] [akka://ClusterSystem/user/BeamMobsim.iteration/scheduler] Hour 20.5 completed. 0.5(GB)\n",
      "[INFO] [02/07/2019 01:21:32.703] [ClusterSystem-akka.actor.default-dispatcher-17] [akka://ClusterSystem/user/BeamMobsim.iteration/scheduler] Hour 21.0 completed. 0.5(GB)\n",
      "[INFO] [02/07/2019 01:21:32.751] [ClusterSystem-akka.actor.default-dispatcher-7] [akka://ClusterSystem/user/BeamMobsim.iteration/scheduler] Hour 21.5 completed. 0.5(GB)\n",
      "[INFO] [02/07/2019 01:21:32.768] [ClusterSystem-akka.actor.default-dispatcher-8] [akka://ClusterSystem/user/BeamMobsim.iteration/scheduler] Hour 22.0 completed. 0.5(GB)\n",
      "[INFO] [02/07/2019 01:21:32.768] [ClusterSystem-akka.actor.default-dispatcher-2] [akka://ClusterSystem/user/BeamMobsim.iteration/scheduler] Hour 22.5 completed. 0.5(GB)\n",
      "[INFO] [02/07/2019 01:21:32.769] [ClusterSystem-akka.actor.default-dispatcher-2] [akka://ClusterSystem/user/BeamMobsim.iteration/scheduler] Hour 23.0 completed. 0.5(GB)\n",
      "[INFO] [02/07/2019 01:21:32.769] [ClusterSystem-akka.actor.default-dispatcher-2] [akka://ClusterSystem/user/BeamMobsim.iteration/scheduler] Hour 23.5 completed. 0.5(GB)\n",
      "[INFO] [02/07/2019 01:21:32.769] [ClusterSystem-akka.actor.default-dispatcher-2] [akka://ClusterSystem/user/BeamMobsim.iteration/scheduler] Hour 24.0 completed. 0.5(GB)\n",
      "[INFO] [02/07/2019 01:21:32.769] [ClusterSystem-akka.actor.default-dispatcher-2] [akka://ClusterSystem/user/BeamMobsim.iteration/scheduler] Hour 24.5 completed. 0.5(GB)\n",
      "[INFO] [02/07/2019 01:21:32.769] [ClusterSystem-akka.actor.default-dispatcher-2] [akka://ClusterSystem/user/BeamMobsim.iteration/scheduler] Hour 25.0 completed. 0.5(GB)\n",
      "[INFO] [02/07/2019 01:21:32.769] [ClusterSystem-akka.actor.default-dispatcher-2] [akka://ClusterSystem/user/BeamMobsim.iteration/scheduler] Hour 25.5 completed. 0.5(GB)\n",
      "[INFO] [02/07/2019 01:21:32.769] [ClusterSystem-akka.actor.default-dispatcher-2] [akka://ClusterSystem/user/BeamMobsim.iteration/scheduler] Hour 26.0 completed. 0.5(GB)\n",
      "[INFO] [02/07/2019 01:21:32.769] [ClusterSystem-akka.actor.default-dispatcher-2] [akka://ClusterSystem/user/BeamMobsim.iteration/scheduler] Hour 26.5 completed. 0.5(GB)\n",
      "[INFO] [02/07/2019 01:21:32.769] [ClusterSystem-akka.actor.default-dispatcher-2] [akka://ClusterSystem/user/BeamMobsim.iteration/scheduler] Hour 27.0 completed. 0.5(GB)\n",
      "[INFO] [02/07/2019 01:21:32.769] [ClusterSystem-akka.actor.default-dispatcher-2] [akka://ClusterSystem/user/BeamMobsim.iteration/scheduler] Hour 27.5 completed. 0.5(GB)\n",
      "[INFO] [02/07/2019 01:21:32.769] [ClusterSystem-akka.actor.default-dispatcher-2] [akka://ClusterSystem/user/BeamMobsim.iteration/scheduler] Hour 28.0 completed. 0.5(GB)\n",
      "[INFO] [02/07/2019 01:21:32.769] [ClusterSystem-akka.actor.default-dispatcher-2] [akka://ClusterSystem/user/BeamMobsim.iteration/scheduler] Hour 28.5 completed. 0.5(GB)\n",
      "[INFO] [02/07/2019 01:21:32.769] [ClusterSystem-akka.actor.default-dispatcher-2] [akka://ClusterSystem/user/BeamMobsim.iteration/scheduler] Hour 29.0 completed. 0.5(GB)\n",
      "[INFO] [02/07/2019 01:21:32.770] [ClusterSystem-akka.actor.default-dispatcher-2] [akka://ClusterSystem/user/BeamMobsim.iteration/scheduler] Hour 29.5 completed. 0.5(GB)\n",
      "[INFO] [02/07/2019 01:21:32.770] [ClusterSystem-akka.actor.default-dispatcher-2] [akka://ClusterSystem/user/BeamMobsim.iteration/scheduler] Hour 30.0 completed. 0.5(GB)\n",
      "[INFO] [02/07/2019 01:21:32.770] [ClusterSystem-akka.actor.default-dispatcher-2] [akka://ClusterSystem/user/BeamMobsim.iteration/scheduler] Stopping BeamAgentScheduler @ tick 108001. Iteration 1 executed in 19 seconds\n",
      "[INFO] [02/07/2019 01:21:32.771] [ClusterSystem-akka.actor.default-dispatcher-5] [akka://ClusterSystem/user/BeamMobsim.iteration] Scheduler is finished.\n",
      "[INFO] [02/07/2019 01:21:32.771] [ClusterSystem-akka.actor.default-dispatcher-5] [akka://ClusterSystem/user/BeamMobsim.iteration] Ending Agentsim\n",
      "[INFO] [02/07/2019 01:21:32.771] [ClusterSystem-akka.actor.default-dispatcher-5] [akka://ClusterSystem/user/BeamMobsim.iteration] Processing Agentsim Events (Start)\n",
      "[INFO] [02/07/2019 01:21:32.780] [ClusterSystem-akka.actor.default-dispatcher-13] [akka://ClusterSystem/user/BeamMobsim.iteration/scheduler] aroundPostStop. Stopping all scheduled tasks...\n",
      "[INFO] [02/07/2019 01:21:37.261] [ClusterSystem-akka.actor.default-dispatcher-13] [akka://ClusterSystem/user/router/router-worker] R5RoutingWorker_v2[2079135435], Path: `akka://ClusterSystem/user/router/router-worker` UpdateTravelTimeLocal. Set new travel time\n",
      "Exception in thread \"main\" java.nio.file.NoSuchFileException: /output/sioux_faux/sioux_faux-1k__2019-02-07_01-19-19/ITERS/it.1/1.linkstats.csv.gz\n",
      "\tat sun.nio.fs.UnixException.translateToIOException(UnixException.java:86)\n",
      "\tat sun.nio.fs.UnixException.rethrowAsIOException(UnixException.java:102)\n",
      "\tat sun.nio.fs.UnixException.rethrowAsIOException(UnixException.java:107)\n",
      "\tat sun.nio.fs.UnixCopyFile.copy(UnixCopyFile.java:526)\n",
      "\tat sun.nio.fs.UnixFileSystemProvider.copy(UnixFileSystemProvider.java:253)\n",
      "\tat java.nio.file.Files.copy(Files.java:1274)\n",
      "\tat beam.competition.evaluation.AccessibilityScoreComputation.prepareAccessibilityComputation(AccessibilityScoreComputation.scala:46)\n",
      "\tat beam.competition.evaluation.AccessibilityScoreComputation.<init>(AccessibilityScoreComputation.scala:26)\n",
      "\tat beam.competition.evaluation.SubmissionEvaluator.accessibilityScores$lzycompute(SubmissionEvaluator.scala:105)\n",
      "\tat beam.competition.evaluation.SubmissionEvaluator.accessibilityScores(SubmissionEvaluator.scala:103)\n",
      "\tat beam.competition.evaluation.SubmissionEvaluator.scoreSubmission(SubmissionEvaluator.scala:114)\n",
      "\tat beam.competition.run.CompetitionHelper.runCompetitionWithConfig(CompetitionHelper.scala:203)\n",
      "\tat beam.competition.run.CompetitionHelper.runCompetitionWithConfig$(CompetitionHelper.scala:134)\n",
      "\tat beam.competition.run.RunCompetition$.runCompetitionWithConfig(RunCompetition.scala:4)\n",
      "\tat beam.competition.run.CompetitionHelper.runCompetition(CompetitionHelper.scala:131)\n",
      "\tat beam.competition.run.CompetitionHelper.runCompetition$(CompetitionHelper.scala:121)\n",
      "\tat beam.competition.run.RunCompetition$.runCompetition(RunCompetition.scala:4)\n",
      "\tat beam.competition.run.RunCompetition$.delayedEndpoint$beam$competition$run$RunCompetition$1(RunCompetition.scala:7)\n",
      "\tat beam.competition.run.RunCompetition$delayedInit$body.apply(RunCompetition.scala:4)\n",
      "\tat scala.Function0.apply$mcV$sp(Function0.scala:39)\n",
      "\tat scala.Function0.apply$mcV$sp$(Function0.scala:39)\n",
      "\tat scala.runtime.AbstractFunction0.apply$mcV$sp(AbstractFunction0.scala:17)\n",
      "\tat scala.App.$anonfun$main$1$adapted(App.scala:80)\n",
      "\tat scala.collection.immutable.List.foreach(List.scala:392)\n",
      "\tat scala.App.main(App.scala:80)\n",
      "\tat scala.App.main$(App.scala:78)\n",
      "\tat beam.competition.run.RunCompetition$.main(RunCompetition.scala:4)\n",
      "\tat beam.competition.run.RunCompetition.main(RunCompetition.scala)\n",
      "\n"
     ]
    }
   ],
   "source": [
    "logs = my_executor.output_simulation_logs('my_submission')"
   ]
  },
  {
   "cell_type": "markdown",
   "metadata": {},
   "source": [
    "Submissions run for a certain amount of time. If you interrupt it before the end, you will not get any outputs. You can **check if a submission is finished** with the following method:"
   ]
  },
  {
   "cell_type": "code",
   "execution_count": 90,
   "metadata": {},
   "outputs": [
    {
     "data": {
      "text/plain": [
       "False"
      ]
     },
     "execution_count": 90,
     "metadata": {},
     "output_type": "execute_result"
    }
   ],
   "source": [
    "my_executor.check_if_submission_complete('my_submission')"
   ]
  },
  {
   "cell_type": "markdown",
   "metadata": {},
   "source": [
    "When a simulation run is done, you can import its **results**:"
   ]
  },
  {
   "cell_type": "code",
   "execution_count": 37,
   "metadata": {},
   "outputs": [
    {
     "ename": "KeyError",
     "evalue": "'Weight'",
     "output_type": "error",
     "traceback": [
      "\u001b[0;31m---------------------------------------------------------------------------\u001b[0m",
      "\u001b[0;31mKeyError\u001b[0m                                  Traceback (most recent call last)",
      "\u001b[0;32m<ipython-input-37-6fd05ba173ab>\u001b[0m in \u001b[0;36m<module>\u001b[0;34m\u001b[0m\n\u001b[0;32m----> 1\u001b[0;31m \u001b[0mscores\u001b[0m\u001b[0;34m,\u001b[0m \u001b[0mstats\u001b[0m \u001b[0;34m=\u001b[0m \u001b[0mmy_executor\u001b[0m\u001b[0;34m.\u001b[0m\u001b[0mget_submission_scores_and_stats\u001b[0m\u001b[0;34m(\u001b[0m\u001b[0;34m'my_submission'\u001b[0m\u001b[0;34m)\u001b[0m\u001b[0;34m\u001b[0m\u001b[0;34m\u001b[0m\u001b[0m\n\u001b[0m",
      "\u001b[0;32m~/current_code/others/prize_starter_kit/utilities/competition_executor.py\u001b[0m in \u001b[0;36mwrapper\u001b[0;34m(*args, **kwargs)\u001b[0m\n\u001b[1;32m    239\u001b[0m             \u001b[0;32mraise\u001b[0m \u001b[0mValueError\u001b[0m\u001b[0;34m(\u001b[0m\u001b[0;34m\"Container not executed using this interface.\"\u001b[0m\u001b[0;34m)\u001b[0m\u001b[0;34m\u001b[0m\u001b[0;34m\u001b[0m\u001b[0m\n\u001b[1;32m    240\u001b[0m         \u001b[0;32melse\u001b[0m\u001b[0;34m:\u001b[0m\u001b[0;34m\u001b[0m\u001b[0;34m\u001b[0m\u001b[0m\n\u001b[0;32m--> 241\u001b[0;31m             \u001b[0;32mreturn\u001b[0m \u001b[0mfunc\u001b[0m\u001b[0;34m(\u001b[0m\u001b[0;34m*\u001b[0m\u001b[0margs\u001b[0m\u001b[0;34m,\u001b[0m \u001b[0;34m**\u001b[0m\u001b[0mkwargs\u001b[0m\u001b[0;34m)\u001b[0m\u001b[0;34m\u001b[0m\u001b[0;34m\u001b[0m\u001b[0m\n\u001b[0m\u001b[1;32m    242\u001b[0m \u001b[0;34m\u001b[0m\u001b[0m\n\u001b[1;32m    243\u001b[0m     \u001b[0;32mreturn\u001b[0m \u001b[0mwrapper\u001b[0m\u001b[0;34m\u001b[0m\u001b[0;34m\u001b[0m\u001b[0m\n",
      "\u001b[0;32m~/current_code/others/prize_starter_kit/utilities/competition_executor.py\u001b[0m in \u001b[0;36mget_submission_scores_and_stats\u001b[0;34m(self, submission_id)\u001b[0m\n\u001b[1;32m    413\u001b[0m             \u001b[0mcontainer\u001b[0m\u001b[0;34m.\u001b[0m\u001b[0mstop\u001b[0m\u001b[0;34m(\u001b[0m\u001b[0;34m)\u001b[0m\u001b[0;34m\u001b[0m\u001b[0;34m\u001b[0m\u001b[0m\n\u001b[1;32m    414\u001b[0m             \u001b[0;32mif\u001b[0m \u001b[0mremove\u001b[0m\u001b[0;34m:\u001b[0m\u001b[0;34m\u001b[0m\u001b[0;34m\u001b[0m\u001b[0m\n\u001b[0;32m--> 415\u001b[0;31m                 \u001b[0mcontainer\u001b[0m\u001b[0;34m.\u001b[0m\u001b[0mremove\u001b[0m\u001b[0;34m(\u001b[0m\u001b[0;34m)\u001b[0m\u001b[0;34m\u001b[0m\u001b[0;34m\u001b[0m\u001b[0m\n\u001b[0m\u001b[1;32m    416\u001b[0m         \u001b[0mself\u001b[0m\u001b[0;34m.\u001b[0m\u001b[0mcontainers\u001b[0m\u001b[0;34m.\u001b[0m\u001b[0mclear\u001b[0m\u001b[0;34m(\u001b[0m\u001b[0;34m)\u001b[0m\u001b[0;34m\u001b[0m\u001b[0;34m\u001b[0m\u001b[0m\n\u001b[1;32m    417\u001b[0m \u001b[0;34m\u001b[0m\u001b[0m\n",
      "\u001b[0;32m~/current_code/others/prize_starter_kit/utilities/competition_executor.py\u001b[0m in \u001b[0;36m_lazy_property\u001b[0;34m(self)\u001b[0m\n\u001b[1;32m     34\u001b[0m     \u001b[0;32mdef\u001b[0m \u001b[0m_lazy_property\u001b[0m\u001b[0;34m(\u001b[0m\u001b[0mself\u001b[0m\u001b[0;34m)\u001b[0m\u001b[0;34m:\u001b[0m\u001b[0;34m\u001b[0m\u001b[0;34m\u001b[0m\u001b[0m\n\u001b[1;32m     35\u001b[0m         \u001b[0;32mif\u001b[0m \u001b[0;32mnot\u001b[0m \u001b[0mhasattr\u001b[0m\u001b[0;34m(\u001b[0m\u001b[0mself\u001b[0m\u001b[0;34m,\u001b[0m \u001b[0mattr_name\u001b[0m\u001b[0;34m)\u001b[0m\u001b[0;34m:\u001b[0m\u001b[0;34m\u001b[0m\u001b[0;34m\u001b[0m\u001b[0m\n\u001b[0;32m---> 36\u001b[0;31m             \u001b[0msetattr\u001b[0m\u001b[0;34m(\u001b[0m\u001b[0mself\u001b[0m\u001b[0;34m,\u001b[0m \u001b[0mattr_name\u001b[0m\u001b[0;34m,\u001b[0m \u001b[0mfn\u001b[0m\u001b[0;34m(\u001b[0m\u001b[0mself\u001b[0m\u001b[0;34m)\u001b[0m\u001b[0;34m)\u001b[0m\u001b[0;34m\u001b[0m\u001b[0;34m\u001b[0m\u001b[0m\n\u001b[0m\u001b[1;32m     37\u001b[0m         \u001b[0;32mreturn\u001b[0m \u001b[0mgetattr\u001b[0m\u001b[0;34m(\u001b[0m\u001b[0mself\u001b[0m\u001b[0;34m,\u001b[0m \u001b[0mattr_name\u001b[0m\u001b[0;34m)\u001b[0m\u001b[0;34m\u001b[0m\u001b[0;34m\u001b[0m\u001b[0m\n\u001b[1;32m     38\u001b[0m \u001b[0;34m\u001b[0m\u001b[0m\n",
      "\u001b[0;32m~/current_code/others/prize_starter_kit/utilities/competition_executor.py\u001b[0m in \u001b[0;36mscores\u001b[0;34m(self)\u001b[0m\n\u001b[1;32m     82\u001b[0m         \"\"\"\n\u001b[1;32m     83\u001b[0m \u001b[0;34m\u001b[0m\u001b[0m\n\u001b[0;32m---> 84\u001b[0;31m         \u001b[0msummary_file\u001b[0m \u001b[0;34m=\u001b[0m \u001b[0mpath\u001b[0m\u001b[0;34m.\u001b[0m\u001b[0mjoin\u001b[0m\u001b[0;34m(\u001b[0m\u001b[0mself\u001b[0m\u001b[0;34m.\u001b[0m\u001b[0moutput_directory\u001b[0m\u001b[0;34m,\u001b[0m \u001b[0mSUMMARY_STATS_CSV\u001b[0m\u001b[0;34m)\u001b[0m\u001b[0;34m\u001b[0m\u001b[0;34m\u001b[0m\u001b[0m\n\u001b[0m\u001b[1;32m     85\u001b[0m         \u001b[0msummary_stats\u001b[0m \u001b[0;34m=\u001b[0m \u001b[0mpd\u001b[0m\u001b[0;34m.\u001b[0m\u001b[0mread_csv\u001b[0m\u001b[0;34m(\u001b[0m\u001b[0msummary_file\u001b[0m\u001b[0;34m)\u001b[0m\u001b[0;34m\u001b[0m\u001b[0;34m\u001b[0m\u001b[0m\n\u001b[1;32m     86\u001b[0m         \u001b[0;32mreturn\u001b[0m \u001b[0msummary_stats\u001b[0m\u001b[0;34m\u001b[0m\u001b[0;34m\u001b[0m\u001b[0m\n",
      "\u001b[0;32m/anaconda3/lib/python3.7/site-packages/pandas/core/reshape/pivot.py\u001b[0m in \u001b[0;36mpivot_table\u001b[0;34m(data, values, index, columns, aggfunc, fill_value, margins, dropna, margins_name)\u001b[0m\n\u001b[1;32m     59\u001b[0m         \u001b[0;32mfor\u001b[0m \u001b[0mi\u001b[0m \u001b[0;32min\u001b[0m \u001b[0mvalues\u001b[0m\u001b[0;34m:\u001b[0m\u001b[0;34m\u001b[0m\u001b[0;34m\u001b[0m\u001b[0m\n\u001b[1;32m     60\u001b[0m             \u001b[0;32mif\u001b[0m \u001b[0mi\u001b[0m \u001b[0;32mnot\u001b[0m \u001b[0;32min\u001b[0m \u001b[0mdata\u001b[0m\u001b[0;34m:\u001b[0m\u001b[0;34m\u001b[0m\u001b[0;34m\u001b[0m\u001b[0m\n\u001b[0;32m---> 61\u001b[0;31m                 \u001b[0;32mraise\u001b[0m \u001b[0mKeyError\u001b[0m\u001b[0;34m(\u001b[0m\u001b[0mi\u001b[0m\u001b[0;34m)\u001b[0m\u001b[0;34m\u001b[0m\u001b[0;34m\u001b[0m\u001b[0m\n\u001b[0m\u001b[1;32m     62\u001b[0m \u001b[0;34m\u001b[0m\u001b[0m\n\u001b[1;32m     63\u001b[0m         \u001b[0mto_filter\u001b[0m \u001b[0;34m=\u001b[0m \u001b[0;34m[\u001b[0m\u001b[0;34m]\u001b[0m\u001b[0;34m\u001b[0m\u001b[0;34m\u001b[0m\u001b[0m\n",
      "\u001b[0;31mKeyError\u001b[0m: 'Weight'"
     ]
    }
   ],
   "source": [
    "scores, stats = my_executor.get_submission_scores_and_stats('my_submission')"
   ]
  },
  {
   "cell_type": "markdown",
   "metadata": {},
   "source": [
    "The **scores** and **statistics** are stored in pandas DataFrames which contains the information described [here](https://github.com/vgolfier/Uber-Prize-Starter-Kit/blob/master/docs/Understanding_the_outputs_and_the%20scoring_function.md)."
   ]
  },
  {
   "cell_type": "markdown",
   "metadata": {},
   "source": [
    "At the end of any run and to avoid any conflicts between submission ids (particularly if you want to reuse names), it is advised to **clean up containers** calling the following method:"
   ]
  },
  {
   "cell_type": "code",
   "execution_count": 35,
   "metadata": {},
   "outputs": [],
   "source": [
    "my_executor.stop_all_simulations()"
   ]
  },
  {
   "cell_type": "markdown",
   "metadata": {},
   "source": [
    "## The `input_sampler` module:"
   ]
  },
  {
   "cell_type": "markdown",
   "metadata": {},
   "source": [
    "Randomly sampled data may be used to either initialize the re-planning algorithm or otherwise test the simulation. The `input_sampler` has been provided towards this end. This subsection provides an example of how synthetic random input files may be generated for each of the available input policies to the simulation."
   ]
  },
  {
   "cell_type": "code",
   "execution_count": 10,
   "metadata": {},
   "outputs": [],
   "source": [
    "from input_sampler import *\n",
    "# Specify the common string for the scenario name \n",
    "# (currently only \"siouxfalls\", which refers to the Sioux Falls scenario).\n",
    "SCENARIO_NAME = 'sioux_faux'\n",
    "agency = 'sioux_faux_bus_lines'\n",
    "\n",
    "# Set the paths appropriately\n",
    "DIR = Path(__name__).absolute().parent.parent\n",
    "sys.path.append(str(DIR))\n",
    "DATA_DIR = DIR / 'reference-data/'\n",
    "\n",
    "agency_dict = scenario_agencies(DATA_DIR,SCENARIO_NAME)\n",
    "    # Create a lazy cache of GTFS data for the agency:\n",
    "sf_gtfs_manager = AgencyGtfsDataManager(agency_dict[agency])\n",
    "\n",
    "# Sample each input five (5) times (naming of functions is indicative of type of input sampled).\n",
    "freq_df = sample_frequency_adjustment_input(5, sf_gtfs_manager)\n",
    "mode_incentive_df = sample_mode_subsidies_input(5)\n",
    "vehicle_fleet_mix_df = sample_vehicle_fleet_mix_input(5, sf_gtfs_manager)\n",
    "\n",
    "# Generated inputs may now be saved in, say, /submission-inputs or some other directory. \n",
    "# Remember the location of this directory when executing new simulations."
   ]
  }
 ],
 "metadata": {
  "kernelspec": {
   "display_name": "Python 3",
   "language": "python",
   "name": "python3"
  },
  "language_info": {
   "codemirror_mode": {
    "name": "ipython",
    "version": 3
   },
   "file_extension": ".py",
   "mimetype": "text/x-python",
   "name": "python",
   "nbconvert_exporter": "python",
   "pygments_lexer": "ipython3",
   "version": "3.7.1"
  },
  "varInspector": {
   "cols": {
    "lenName": 16,
    "lenType": 16,
    "lenVar": 40
   },
   "kernels_config": {
    "python": {
     "delete_cmd_postfix": "",
     "delete_cmd_prefix": "del ",
     "library": "var_list.py",
     "varRefreshCmd": "print(var_dic_list())"
    },
    "r": {
     "delete_cmd_postfix": ") ",
     "delete_cmd_prefix": "rm(",
     "library": "var_list.r",
     "varRefreshCmd": "cat(var_dic_list()) "
    }
   },
   "types_to_exclude": [
    "module",
    "function",
    "builtin_function_or_method",
    "instance",
    "_Feature"
   ],
   "window_display": false
  }
 },
 "nbformat": 4,
 "nbformat_minor": 2
}
