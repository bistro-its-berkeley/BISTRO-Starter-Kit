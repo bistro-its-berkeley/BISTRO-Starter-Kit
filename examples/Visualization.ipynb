{
 "cells": [
  {
   "cell_type": "markdown",
   "metadata": {},
   "source": [
    "# Visualization of the simulation outputs"
   ]
  },
  {
   "cell_type": "markdown",
   "metadata": {},
   "source": [
    "To understand the concrete impacts of a set of policy inputs on the transporation network, we have provided an utility called `visualization.py` (located in the `/utilities` folder) to:\n",
    "\n",
    "- **Visualize** the inputs and outputs of each BISTRO run\n",
    "- **Compare** the inputs and outputs of each BISTRO run **to the BAU scenario**. <br> \n",
    "\n",
    "In this notebook, we demonstrate the use of the script with the outputs of a random run located in the `examples/example_run_output_folder` folder but you can use it for any other BISTRO run by adapting the paths accordingly.\n",
    "\n",
    "*Note 1*: This notebook and accompanying utilities are written in Python 3.6.8. Please install associated requirements using the provided `requirements.txt` in the root folder.\n",
    "\n",
    "*Note 2*: It is assumed that this notebook is started from the `/examples` folder.\n",
    "\n",
    "The notebook is organized as follows:<br><br>"
   ]
  },
  {
   "cell_type": "markdown",
   "metadata": {
    "toc": true
   },
   "source": [
    "<h1>Table of Contents<span class=\"tocSkip\"></span></h1>\n",
    "<div class=\"toc\"><ul class=\"toc-item\"><li><span><a href=\"#Importing-the-data\" data-toc-modified-id=\"Importing-the-data-1\"><span class=\"toc-item-num\">1&nbsp;&nbsp;</span>Importing the data</a></span></li><li><span><a href=\"#Inputs\" data-toc-modified-id=\"Inputs-2\"><span class=\"toc-item-num\">2&nbsp;&nbsp;</span>Inputs</a></span><ul class=\"toc-item\"><li><span><a href=\"#Incentives\" data-toc-modified-id=\"Incentives-2.1\"><span class=\"toc-item-num\">2.1&nbsp;&nbsp;</span>Incentives</a></span></li><li><span><a href=\"#FleetMix\" data-toc-modified-id=\"FleetMix-2.2\"><span class=\"toc-item-num\">2.2&nbsp;&nbsp;</span>FleetMix</a></span></li><li><span><a href=\"#Fares\" data-toc-modified-id=\"Fares-2.3\"><span class=\"toc-item-num\">2.3&nbsp;&nbsp;</span>Fares</a></span></li><li><span><a href=\"#Bus-frequency\" data-toc-modified-id=\"Bus-frequency-2.4\"><span class=\"toc-item-num\">2.4&nbsp;&nbsp;</span>Bus frequency</a></span></li></ul></li><li><span><a href=\"#Scores\" data-toc-modified-id=\"Scores-3\"><span class=\"toc-item-num\">3&nbsp;&nbsp;</span>Scores</a></span></li><li><span><a href=\"#Mode-choice\" data-toc-modified-id=\"Mode-choice-4\"><span class=\"toc-item-num\">4&nbsp;&nbsp;</span>Mode choice</a></span><ul class=\"toc-item\"><li><span><a href=\"#Overall-mode-choice\" data-toc-modified-id=\"Overall-mode-choice-4.1\"><span class=\"toc-item-num\">4.1&nbsp;&nbsp;</span>Overall mode choice</a></span></li><li><span><a href=\"#Mode-Choice-by-hour-of-the-day\" data-toc-modified-id=\"Mode-Choice-by-hour-of-the-day-4.2\"><span class=\"toc-item-num\">4.2&nbsp;&nbsp;</span>Mode Choice by hour of the day</a></span></li><li><span><a href=\"#Mode-Choice-per-income-group\" data-toc-modified-id=\"Mode-Choice-per-income-group-4.3\"><span class=\"toc-item-num\">4.3&nbsp;&nbsp;</span>Mode Choice per income group</a></span></li><li><span><a href=\"#Mode-Choice-per-age-group\" data-toc-modified-id=\"Mode-Choice-per-age-group-4.4\"><span class=\"toc-item-num\">4.4&nbsp;&nbsp;</span>Mode Choice per age group</a></span></li></ul></li><li><span><a href=\"#Accessibility\" data-toc-modified-id=\"Accessibility-5\"><span class=\"toc-item-num\">5&nbsp;&nbsp;</span>Accessibility</a></span><ul class=\"toc-item\"><li><span><a href=\"#Work-based-trips\" data-toc-modified-id=\"Work-based-trips-5.1\"><span class=\"toc-item-num\">5.1&nbsp;&nbsp;</span>Work-based trips</a></span></li><li><span><a href=\"#Secondary-locations-trips\" data-toc-modified-id=\"Secondary-locations-trips-5.2\"><span class=\"toc-item-num\">5.2&nbsp;&nbsp;</span>Secondary locations trips</a></span></li></ul></li><li><span><a href=\"#Level-of-service\" data-toc-modified-id=\"Level-of-service-6\"><span class=\"toc-item-num\">6&nbsp;&nbsp;</span>Level of service</a></span><ul class=\"toc-item\"><li><span><a href=\"#Travel-expenditure\" data-toc-modified-id=\"Travel-expenditure-6.1\"><span class=\"toc-item-num\">6.1&nbsp;&nbsp;</span>Travel expenditure</a></span></li><li><span><a href=\"#Bus-crowding\" data-toc-modified-id=\"Bus-crowding-6.2\"><span class=\"toc-item-num\">6.2&nbsp;&nbsp;</span>Bus crowding</a></span></li></ul></li><li><span><a href=\"#Congestion\" data-toc-modified-id=\"Congestion-7\"><span class=\"toc-item-num\">7&nbsp;&nbsp;</span>Congestion</a></span><ul class=\"toc-item\"><li><span><a href=\"#Average-travel-time-by-mode\" data-toc-modified-id=\"Average-travel-time-by-mode-7.1\"><span class=\"toc-item-num\">7.1&nbsp;&nbsp;</span>Average travel time by mode</a></span></li><li><span><a href=\"#Travel-time-by-mode-over-the-day\" data-toc-modified-id=\"Travel-time-by-mode-over-the-day-7.2\"><span class=\"toc-item-num\">7.2&nbsp;&nbsp;</span>Travel time by mode over the day</a></span></li></ul></li><li><span><a href=\"#Costs-and-Benefits-of-Mass-Transit-Level-of-Service-Intervention\" data-toc-modified-id=\"Costs-and-Benefits-of-Mass-Transit-Level-of-Service-Intervention-8\"><span class=\"toc-item-num\">8&nbsp;&nbsp;</span>Costs and Benefits of Mass Transit Level of Service Intervention</a></span></li><li><span><a href=\"#Sustainability\" data-toc-modified-id=\"Sustainability-9\"><span class=\"toc-item-num\">9&nbsp;&nbsp;</span>Sustainability</a></span></li></ul></div>"
   ]
  },
  {
   "cell_type": "code",
   "execution_count": 84,
   "metadata": {},
   "outputs": [
    {
     "name": "stdout",
     "output_type": "stream",
     "text": [
      "The autoreload extension is already loaded. To reload it, use:\n",
      "  %reload_ext autoreload\n"
     ]
    }
   ],
   "source": [
    "import pandas as pd\n",
    "pd.set_option('display.max_colwidth', -1)\n",
    "import numpy as np\n",
    "import matplotlib.pyplot as plt\n",
    "from matplotlib import cm\n",
    "from matplotlib.cm import ScalarMappable\n",
    "import seaborn as sns\n",
    "sns.set()\n",
    "%matplotlib inline\n",
    "\n",
    "# Adding the module to the path for future import\n",
    "# Note that the following is idempotent when this notebook is run from \"/examples\"\n",
    "import sys\n",
    "import os\n",
    "from os import path\n",
    "from pathlib import Path\n",
    "os.chdir('../utilities')\n",
    "import visualization as viz\n",
    "import plans_parser as parser\n",
    "from fixed_data_visualization import *\n",
    "\n",
    "import math\n",
    "\n",
    "# To parse .xml output files\n",
    "from lxml import etree\n",
    "\n",
    "\n",
    "%load_ext autoreload\n",
    "%autoreload 2"
   ]
  },
  {
   "cell_type": "markdown",
   "metadata": {},
   "source": [
    "## Importing the data "
   ]
  },
  {
   "cell_type": "markdown",
   "metadata": {},
   "source": [
    "To use this notebook for other scenarios than the BAU, change: <br> \n",
    "* the `path_output_folder` of the run (`sioux_faux-<sample_size>__<date and time>` folder) <br>\n",
    "* the `iter_number` (number of iterations of the run: integer)\n",
    "* the `sample_size` (sample size of the simulated scenario: string, '1k' or '15k')"
   ]
  },
  {
   "cell_type": "code",
   "execution_count": null,
   "metadata": {},
   "outputs": [],
   "source": [
    "# ********** CHANGE SAMPLE_SIZE (string) *******************#\n",
    "# '1k' or '15k'\n",
    "sample_size = '15k'\n",
    "\n",
    "# ********** CHANGE iter_number (integer) *******************#\n",
    "iter_number = 20\n",
    "ITER_FOLDER = f\"it.{iter_number}\"\n",
    "\n",
    "# ********** CHANGE PATH OUTPUT FOLDER (pathlib.Path object)*****************#\n",
    "path_output_folder = Path.cwd().parent / EXAMPLES / \"example_run_output_folder\"\n"
   ]
  },
  {
   "cell_type": "markdown",
   "metadata": {},
   "source": [
    "Create instances of the classes ReferenceData and ResultFiles to import fixed data needed further. <br> <br>\n",
    "The process generates the `.csv` files from the parsed `.xml` files for the **BAU scenario** (`path_output_folder_bau`). <br> <br> *Note:* This process might take up to 10 minutes to parse if it was not already done for the scenario. Once it has been parsed on time, the generated csv files are stored in the output_folder so the parssing process will not take place again if the cell is rerun. If you want to improve the speed of the plans_parser.py module, feel free to submit some code in a Pull Request. It will give you points for the Citizenship Prize! ;-)"
   ]
  },
  {
   "cell_type": "code",
   "execution_count": null,
   "metadata": {},
   "outputs": [],
   "source": [
    "ref = ReferenceData(sample_size)"
   ]
  },
  {
   "cell_type": "code",
   "execution_count": null,
   "metadata": {},
   "outputs": [],
   "source": [
    "# For the BAU scenario\n",
    "res_bau = ResultFiles(ref.path_output_folder_bau, 100, ref)"
   ]
  },
  {
   "cell_type": "code",
   "execution_count": null,
   "metadata": {},
   "outputs": [],
   "source": [
    "# For the new scenario\n",
    "res_scenario = ResultFiles(path_output_folder, iter_number, ref)"
   ]
  },
  {
   "cell_type": "markdown",
   "metadata": {},
   "source": [
    "Import resulting dataframes **for the BAU scenario.**"
   ]
  },
  {
   "cell_type": "code",
   "execution_count": null,
   "metadata": {},
   "outputs": [],
   "source": [
    "trips_df_bau = res_bau.trips_df\n",
    "person_df_bau = res_bau.person_df\n",
    "activities_df_bau = res_bau.activities_df\n",
    "legs_df_bau = res_bau.legs_df\n",
    "paths_traversals_df_bau = res_bau.paths_traversals_df"
   ]
  },
  {
   "cell_type": "markdown",
   "metadata": {},
   "source": [
    "Import resulting dataframes **for the new scenario**."
   ]
  },
  {
   "cell_type": "code",
   "execution_count": null,
   "metadata": {},
   "outputs": [],
   "source": [
    "trips_df = res_scenario.trips_df\n",
    "person_df = res_scenario.person_df\n",
    "activities_df = res_scenario.activities_df\n",
    "legs_df = res_scenario.legs_df\n",
    "paths_traversals_df = res_scenario.paths_traversals_df"
   ]
  },
  {
   "cell_type": "markdown",
   "metadata": {
    "heading_collapsed": true
   },
   "source": [
    "## Inputs"
   ]
  },
  {
   "cell_type": "markdown",
   "metadata": {
    "heading_collapsed": true,
    "hidden": true
   },
   "source": [
    "### Incentives"
   ]
  },
  {
   "cell_type": "markdown",
   "metadata": {
    "hidden": true
   },
   "source": [
    "Importing the `ModeIncentives.csv ` input file for the BAU scenario and your new scenario."
   ]
  },
  {
   "cell_type": "code",
   "execution_count": null,
   "metadata": {
    "hidden": true
   },
   "outputs": [],
   "source": [
    "incentives_data_bau = res_bau.incentives_data\n",
    "incentives_data = res_scenario.incentives_data"
   ]
  },
  {
   "cell_type": "markdown",
   "metadata": {
    "hidden": true
   },
   "source": [
    "Plotting the `incentives` inputs for the BAU scenario and your new scenario. <br>For the BAU, no incentives are provided. "
   ]
  },
  {
   "cell_type": "code",
   "execution_count": null,
   "metadata": {
    "hidden": true
   },
   "outputs": [],
   "source": [
    "_ = viz.plot_incentives_inputs(incentives_data_bau, max_incentive, max_age, max_income, \"BAU\")\n",
    "_ = viz.plot_incentives_inputs(incentives_data, max_incentive, max_age, max_income, \"Your Submission\")"
   ]
  },
  {
   "cell_type": "markdown",
   "metadata": {
    "heading_collapsed": true,
    "hidden": true
   },
   "source": [
    "### FleetMix"
   ]
  },
  {
   "cell_type": "markdown",
   "metadata": {
    "hidden": true
   },
   "source": [
    "Importing the `FleetMix.csv ` input file"
   ]
  },
  {
   "cell_type": "code",
   "execution_count": null,
   "metadata": {
    "hidden": true
   },
   "outputs": [],
   "source": [
    "fleet_mix_data_bau = res_bau.fleet_mix_data\n",
    "fleet_mix_data = res_scenario.fleet_mix_data"
   ]
  },
  {
   "cell_type": "markdown",
   "metadata": {
    "code_folding": [],
    "hidden": true
   },
   "source": [
    "Plotting the `vehicle fleet mix` inputs for the BAU scenario and your new scenario. <br>For the BAU, all bus lines are operating with `BUS-DEFAULT` buses. "
   ]
  },
  {
   "cell_type": "code",
   "execution_count": null,
   "metadata": {
    "hidden": true
   },
   "outputs": [],
   "source": [
    "_ = viz.plot_vehicle_fleet_mix_inputs(fleet_mix_data_bau, ref.route_ids, ref.buses_list, ref.agency_ids, \"BAU\")\n",
    "_ = viz.plot_vehicle_fleet_mix_inputs(fleet_mix_data, ref.route_ids, ref.buses_list, ref.agency_ids, \"Your Submission\")"
   ]
  },
  {
   "cell_type": "markdown",
   "metadata": {
    "heading_collapsed": true,
    "hidden": true
   },
   "source": [
    "### Fares"
   ]
  },
  {
   "cell_type": "markdown",
   "metadata": {
    "hidden": true
   },
   "source": [
    "Importing the `MassTransitFares.csv` input file for the BAU scenario and your new scenario."
   ]
  },
  {
   "cell_type": "code",
   "execution_count": null,
   "metadata": {
    "hidden": true
   },
   "outputs": [],
   "source": [
    "fares_data_bau = res_bau.bus_fares_data\n",
    "fares_data = res_scenario.bus_fares_data"
   ]
  },
  {
   "cell_type": "markdown",
   "metadata": {
    "hidden": true
   },
   "source": [
    "Plotting the Mass Transit Fares inputs for the BAU scenario and your new scenario. <br><br> For the BAU, the Sioux Faux bus fare policy works as follow: \n",
    "* Children 5 yrs. and under\\: FREE\n",
    "* Children 6 to 10 yrs.\\: \\$0.75\n",
    "* Children 11 to 18 yrs and Adults 65 yrs. and under: \\$1.50\n",
    "* Persons over 65 yrs\\: FREE"
   ]
  },
  {
   "cell_type": "code",
   "execution_count": 15,
   "metadata": {
    "hidden": true
   },
   "outputs": [
    {
     "data": {
      "image/png": "[encoded data removed]",
      "text/plain": [
       "<Figure size 504x360 with 2 Axes>"
      ]
     },
     "metadata": {
      "needs_background": "light"
     },
     "output_type": "display_data"
    },
    {
     "data": {
      "image/png": "[encoded data removed]",
      "text/plain": [
       "<Figure size 504x360 with 2 Axes>"
      ]
     },
     "metadata": {
      "needs_background": "light"
     },
     "output_type": "display_data"
    }
   ],
   "source": [
    "_ = viz.plot_mass_transit_fares_inputs(fares_data_bau, fares_data_bau, max_fare, ref.route_ids, \"BAU\")\n",
    "_ = viz.plot_mass_transit_fares_inputs(fares_data, fares_data_bau, max_fare, ref.route_ids, \"Your Submission\")"
   ]
  },
  {
   "cell_type": "markdown",
   "metadata": {
    "heading_collapsed": true,
    "hidden": true
   },
   "source": [
    "### Bus frequency"
   ]
  },
  {
   "cell_type": "markdown",
   "metadata": {
    "hidden": true
   },
   "source": [
    "Importing the `FrequencyAdjustment.csv` input files for the BAU scenario and the new run scenario."
   ]
  },
  {
   "cell_type": "code",
   "execution_count": null,
   "metadata": {
    "hidden": true
   },
   "outputs": [],
   "source": [
    "bus_frequencies_data = res_scenario.bus_frequency_data"
   ]
  },
  {
   "cell_type": "markdown",
   "metadata": {
    "hidden": true
   },
   "source": [
    "Note that the `FrequencyAdjustement.csv` input file of the BAU is empty as the BAU bus schedule is a non-frequency based schedule. There was not any function implemented to plot the frequencies.txt file of hte BAU bus schedule.\n",
    "<br> Thus, this section 2.4 will be useful to plot the `FrequencyAdjustement.csv` input file of new runs (with different inputs than the BAU) only."
   ]
  },
  {
   "cell_type": "markdown",
   "metadata": {
    "hidden": true
   },
   "source": [
    "Plotting the `Bus frequency` inputs for the new scenario."
   ]
  },
  {
   "cell_type": "code",
   "execution_count": null,
   "metadata": {
    "hidden": true
   },
   "outputs": [],
   "source": [
    "_ = viz.plot_bus_frequency(bus_frequencies_data, ref.route_ids, \"Your Submission\")"
   ]
  },
  {
   "cell_type": "markdown",
   "metadata": {
    "heading_collapsed": true
   },
   "source": [
    "## Scores"
   ]
  },
  {
   "cell_type": "markdown",
   "metadata": {
    "hidden": true
   },
   "source": [
    "Importing the `submissionScores.csv` file for the new scenario."
   ]
  },
  {
   "cell_type": "code",
   "execution_count": null,
   "metadata": {
    "hidden": true
   },
   "outputs": [],
   "source": [
    "scores_data = res_scenario.scores_data\n"
   ]
  },
  {
   "cell_type": "markdown",
   "metadata": {
    "code_folding": [],
    "hidden": true
   },
   "source": [
    "Plotting the `weighted scores` for the new scenario. <br> When the weighted subscore is smaller than 0, it means that the new scenario performs better than the BAU scenario."
   ]
  },
  {
   "cell_type": "code",
   "execution_count": null,
   "metadata": {
    "hidden": true
   },
   "outputs": [],
   "source": [
    "_ = viz.plot_weighted_scores(scores_data, \"Your Submission\")"
   ]
  },
  {
   "cell_type": "markdown",
   "metadata": {
    "heading_collapsed": true
   },
   "source": [
    "## Mode choice"
   ]
  },
  {
   "cell_type": "markdown",
   "metadata": {
    "heading_collapsed": true,
    "hidden": true
   },
   "source": [
    "### Overall mode choice"
   ]
  },
  {
   "cell_type": "markdown",
   "metadata": {
    "hidden": true
   },
   "source": [
    "Importing the `modeChoice.csv` output file for the BAU scenario and your new scenario."
   ]
  },
  {
   "cell_type": "code",
   "execution_count": null,
   "metadata": {
    "hidden": true
   },
   "outputs": [],
   "source": [
    "mode_choice_data_bau = res_bau.mode_choice_data\n",
    "mode_choice_data = res_scenario.mode_choice_data"
   ]
  },
  {
   "cell_type": "markdown",
   "metadata": {
    "hidden": true
   },
   "source": [
    "Plotting the `Overall Mode Choice` output for the BAU scenario and your new scenario."
   ]
  },
  {
   "cell_type": "code",
   "execution_count": null,
   "metadata": {
    "hidden": true
   },
   "outputs": [],
   "source": [
    "_ = viz.plot_overall_mode_choice(mode_choice_data_bau, \"BAU\")\n",
    "_ = viz.plot_overall_mode_choice(mode_choice_data, \"Your Submission\")"
   ]
  },
  {
   "cell_type": "markdown",
   "metadata": {
    "heading_collapsed": true,
    "hidden": true
   },
   "source": [
    "### Mode Choice by hour of the day"
   ]
  },
  {
   "cell_type": "markdown",
   "metadata": {
    "hidden": true
   },
   "source": [
    "Importing the `{iter_number}.modeChoice.csv`output file. <br> (For the BAU scenario, `iter_number` = 100)"
   ]
  },
  {
   "cell_type": "code",
   "execution_count": null,
   "metadata": {
    "hidden": true
   },
   "outputs": [],
   "source": [
    "mode_choice_path_bau = ref.path_output_folder_bau / ITERS / \"it.100\" / \"100.modeChoice.csv\"\n",
    "mode_choice_path = path_output_folder / ITERS / ITER_FOLDER / f\"{iter_number}.modeChoice.csv\"\n"
   ]
  },
  {
   "cell_type": "markdown",
   "metadata": {
    "hidden": true
   },
   "source": [
    "Plotting the `Mode Choice by hour of the day` output for the BAU scenario and your new scenario."
   ]
  },
  {
   "cell_type": "code",
   "execution_count": null,
   "metadata": {
    "hidden": true
   },
   "outputs": [],
   "source": [
    "_ = viz.plot_mode_choice_by_hour(mode_choice_path_bau, \"BAU\")\n",
    "_ = viz.plot_mode_choice_by_hour(mode_choice_path, \"Your Submission\")"
   ]
  },
  {
   "cell_type": "markdown",
   "metadata": {
    "heading_collapsed": true,
    "hidden": true
   },
   "source": [
    "### Mode Choice per income group"
   ]
  },
  {
   "cell_type": "markdown",
   "metadata": {
    "hidden": true
   },
   "source": [
    " Plotting `Mode choice per income group` output for the BAU scenario and your new scenario."
   ]
  },
  {
   "cell_type": "code",
   "execution_count": null,
   "metadata": {
    "hidden": true
   },
   "outputs": [],
   "source": [
    "_ = viz.plot_mode_choice_by_income_group(person_df_bau, trips_df_bau, \"BAU\")\n",
    "_ = viz.plot_mode_choice_by_income_group(person_df, trips_df, \"Your Submission\")"
   ]
  },
  {
   "cell_type": "markdown",
   "metadata": {
    "heading_collapsed": true,
    "hidden": true
   },
   "source": [
    "### Mode Choice per age group"
   ]
  },
  {
   "cell_type": "markdown",
   "metadata": {
    "hidden": true
   },
   "source": [
    "Plotting the `Mode choice per age group` output for the BAU scenario and your new scenario.."
   ]
  },
  {
   "cell_type": "code",
   "execution_count": null,
   "metadata": {
    "hidden": true
   },
   "outputs": [],
   "source": [
    "_ = viz.plot_mode_choice_by_age_group(person_df_bau, trips_df_bau, \"BAU\")\n",
    "_ = viz.plot_mode_choice_by_age_group(person_df, trips_df, \"Your Run\")"
   ]
  },
  {
   "cell_type": "markdown",
   "metadata": {
    "heading_collapsed": true
   },
   "source": [
    "## Accessibility"
   ]
  },
  {
   "cell_type": "markdown",
   "metadata": {
    "hidden": true
   },
   "source": [
    "The data needed for this plot has not been processed yet. Therefore, the plot will not be accessible for the Hackathon."
   ]
  },
  {
   "cell_type": "markdown",
   "metadata": {
    "heading_collapsed": true,
    "hidden": true
   },
   "source": [
    "### Work-based trips"
   ]
  },
  {
   "cell_type": "code",
   "execution_count": null,
   "metadata": {
    "hidden": true
   },
   "outputs": [],
   "source": [
    "_ = viz.plot_accessibility(sample_name, network_file, bau_linkstats_file, population_file, utm_zone, poi_types, time_ranges, max_time, morning_peak, evening_peak, \"BAU\")\n"
   ]
  },
  {
   "cell_type": "markdown",
   "metadata": {
    "heading_collapsed": true,
    "hidden": true
   },
   "source": [
    "### Secondary locations trips"
   ]
  },
  {
   "cell_type": "code",
   "execution_count": null,
   "metadata": {
    "hidden": true
   },
   "outputs": [],
   "source": []
  },
  {
   "cell_type": "markdown",
   "metadata": {
    "heading_collapsed": true
   },
   "source": [
    "## Level of service"
   ]
  },
  {
   "cell_type": "markdown",
   "metadata": {
    "heading_collapsed": true,
    "hidden": true
   },
   "source": [
    "### Travel expenditure"
   ]
  },
  {
   "cell_type": "markdown",
   "metadata": {
    "hidden": true
   },
   "source": [
    "The data needed for this plot has not been processed yet. Therefore, the plot will not be accessible for the Hackathon."
   ]
  },
  {
   "cell_type": "code",
   "execution_count": 32,
   "metadata": {
    "hidden": true
   },
   "outputs": [],
   "source": [
    "# _ = viz.plot_average_travel_expenditure_per_trip_per_mode_over_day(trips_df_bau, \"BAU\")\n",
    "# _ = viz.plot_average_travel_expenditure_per_trip_per_mode_over_day(trips_df, \"Your Run\")"
   ]
  },
  {
   "cell_type": "markdown",
   "metadata": {
    "heading_collapsed": true,
    "hidden": true
   },
   "source": [
    "### Bus crowding"
   ]
  },
  {
   "cell_type": "markdown",
   "metadata": {
    "hidden": true
   },
   "source": [
    "Plotting the `Average Hours of Bus Crowding` output for the BAU scenario and your new scenario."
   ]
  },
  {
   "cell_type": "code",
   "execution_count": 69,
   "metadata": {
    "hidden": true
   },
   "outputs": [
    {
     "data": {
      "image/png": "[encoded data removed]",
      "text/plain": [
       "<Figure size 720x432 with 1 Axes>"
      ]
     },
     "metadata": {
      "needs_background": "light"
     },
     "output_type": "display_data"
    },
    {
     "data": {
      "image/png": "[encoded data removed]",
      "text/plain": [
       "<Figure size 720x432 with 1 Axes>"
      ]
     },
     "metadata": {
      "needs_background": "light"
     },
     "output_type": "display_data"
    }
   ],
   "source": [
    "_ = viz.plot_average_bus_crowding_by_bus_route_by_period_of_day(paths_traversals_df_bau, ref.trip_to_route, ref.seating_capacities, ref.transit_scale_factor, \"BAU\")\n",
    "_ = viz.plot_average_bus_crowding_by_bus_route_by_period_of_day(paths_traversals_df, ref.trip_to_route, ref.seating_capacities,ref.transit_scale_factor, \"Your Run\")\n"
   ]
  },
  {
   "cell_type": "markdown",
   "metadata": {
    "heading_collapsed": true
   },
   "source": [
    "## Congestion"
   ]
  },
  {
   "cell_type": "markdown",
   "metadata": {
    "heading_collapsed": true,
    "hidden": true
   },
   "source": [
    "### Average travel time by mode"
   ]
  },
  {
   "cell_type": "markdown",
   "metadata": {
    "hidden": true
   },
   "source": [
    "Importing the `averageTravelTimes.csv` output file for the BAU scenario and your new scenario."
   ]
  },
  {
   "cell_type": "code",
   "execution_count": null,
   "metadata": {
    "hidden": true
   },
   "outputs": [],
   "source": [
    "travel_time_data_bau = ref.path_output_folder_bau / ITERS / \"it.100\" / \"100.averageTravelTimes.csv\"\n",
    "travel_time_data = path_output_folder / ITERS / ITER_FOLDER / f\"{iter_number}.averageTravelTimes.csv\""
   ]
  },
  {
   "cell_type": "markdown",
   "metadata": {
    "hidden": true
   },
   "source": [
    "Plotting the `Average travel time by mode` output."
   ]
  },
  {
   "cell_type": "code",
   "execution_count": null,
   "metadata": {
    "hidden": true
   },
   "outputs": [],
   "source": [
    "_ = viz.plot_travel_time_by_mode(travel_time_data_bau, \"BAU\")\n",
    "_ = viz.plot_travel_time_by_mode(travel_time_data, \"Your Submission\")"
   ]
  },
  {
   "cell_type": "markdown",
   "metadata": {
    "heading_collapsed": true,
    "hidden": true
   },
   "source": [
    "### Travel time by mode over the day"
   ]
  },
  {
   "cell_type": "markdown",
   "metadata": {
    "hidden": true
   },
   "source": [
    "Plotting the `Travel time by mode over the day` output for the BAU scenario and your new scenario."
   ]
  },
  {
   "cell_type": "code",
   "execution_count": null,
   "metadata": {
    "hidden": true
   },
   "outputs": [],
   "source": [
    "_ = viz.plot_travel_time_over_the_day(travel_time_data_bau, \"BAU\")\n",
    "_ = viz.plot_travel_time_over_the_day(travel_time_data, \"Your Submission\")\n"
   ]
  },
  {
   "cell_type": "markdown",
   "metadata": {
    "heading_collapsed": true
   },
   "source": [
    "## Costs and Benefits of Mass Transit Level of Service Intervention"
   ]
  },
  {
   "cell_type": "markdown",
   "metadata": {
    "hidden": true
   },
   "source": [
    "Plotting the `Costs and Benefits by route` output for the BAU scenario and your new scenario."
   ]
  },
  {
   "cell_type": "code",
   "execution_count": null,
   "metadata": {
    "hidden": true
   },
   "outputs": [],
   "source": [
    "_ = viz.plot_cost_benefits(paths_traversals_df_bau, legs_df_bau, ref.operational_costs, ref.trip_to_route, \"BAU\")\n",
    "_ = viz.plot_cost_benefits(paths_traversals_df, legs_df, ref.operational_costs, ref.trip_to_route, \"Run\")"
   ]
  },
  {
   "cell_type": "markdown",
   "metadata": {
    "heading_collapsed": true
   },
   "source": [
    "## Sustainability"
   ]
  },
  {
   "cell_type": "markdown",
   "metadata": {
    "hidden": true
   },
   "source": [
    "The data needed for this plot has not been processed yet. Therefore, the plot will not be accessible for the Hackathon."
   ]
  }
 ],
 "metadata": {
  "kernelspec": {
   "display_name": "Uber-Prize-Valentine",
   "language": "python",
   "name": "uber-prize-valentine"
  },
  "language_info": {
   "codemirror_mode": {
    "name": "ipython",
    "version": 3
   },
   "file_extension": ".py",
   "mimetype": "text/x-python",
   "name": "python",
   "nbconvert_exporter": "python",
   "pygments_lexer": "ipython3",
   "version": "3.6.8"
  },
  "toc": {
   "base_numbering": 1,
   "nav_menu": {},
   "number_sections": true,
   "sideBar": true,
   "skip_h1_title": true,
   "title_cell": "Table of Contents",
   "title_sidebar": "Contents",
   "toc_cell": true,
   "toc_position": {
    "height": "calc(100% - 180px)",
    "left": "10px",
    "top": "150px",
    "width": "165px"
   },
   "toc_section_display": true,
   "toc_window_display": true
  },
  "varInspector": {
   "cols": {
    "lenName": 16,
    "lenType": 16,
    "lenVar": 40
   },
   "kernels_config": {
    "python": {
     "delete_cmd_postfix": "",
     "delete_cmd_prefix": "del ",
     "library": "var_list.py",
     "varRefreshCmd": "print(var_dic_list())"
    },
    "r": {
     "delete_cmd_postfix": ") ",
     "delete_cmd_prefix": "rm(",
     "library": "var_list.r",
     "varRefreshCmd": "cat(var_dic_list()) "
    }
   },
   "types_to_exclude": [
    "module",
    "function",
    "builtin_function_or_method",
    "instance",
    "_Feature"
   ],
   "window_display": false
  }
 },
 "nbformat": 4,
 "nbformat_minor": 2
}
