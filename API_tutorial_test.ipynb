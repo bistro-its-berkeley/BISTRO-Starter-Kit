{
 "cells": [
  {
   "cell_type": "code",
   "execution_count": 57,
   "metadata": {},
   "outputs": [],
   "source": [
    "import pandas as pd\n",
    "import numpy as np\n",
    "import matplotlib.pyplot as plt\n",
    "%matplotlib inline\n",
    "import sys\n",
    "from importlib import reload\n",
    "import docker"
   ]
  },
  {
   "cell_type": "code",
   "execution_count": 10,
   "metadata": {},
   "outputs": [],
   "source": [
    "#Add path to sys.path\n",
    "path_competition_executor = \"/Users/vgolfi/Documents/GitHub/Uber-Prize-Starter-Kit/utilities\"\n",
    "sys.path.append(path_competition_executor)"
   ]
  },
  {
   "cell_type": "code",
   "execution_count": 26,
   "metadata": {},
   "outputs": [],
   "source": [
    "import competition_executor"
   ]
  },
  {
   "cell_type": "code",
   "execution_count": 152,
   "metadata": {},
   "outputs": [
    {
     "data": {
      "text/plain": [
       "<module 'competition_executor' from '/Users/vgolfi/Documents/GitHub/Uber-Prize-Starter-Kit/utilities/competition_executor.py'>"
      ]
     },
     "execution_count": 152,
     "metadata": {},
     "output_type": "execute_result"
    }
   ],
   "source": [
    "reload(competition_executor)"
   ]
  },
  {
   "cell_type": "code",
   "execution_count": 153,
   "metadata": {},
   "outputs": [
    {
     "data": {
      "text/plain": [
       "<competition_executor.CompetitionContainerExecutor at 0x11cb74d30>"
      ]
     },
     "execution_count": 153,
     "metadata": {},
     "output_type": "execute_result"
    }
   ],
   "source": [
    "# Example to demonstrate/test usage. Not a production script.\n",
    "import time\n",
    "import sys\n",
    "\n",
    "# Must use absolute paths here\n",
    "path_input = r\"/Users/vgolfi/Documents/GitHub/Uber-Prize-Starter-Kit/submission-inputs\"\n",
    "path_ouput = r\"/Users/vgolfi/Documents/GitHub/Uber-Prize-Starter-Kit/output\"\n",
    "\n",
    "ex = competition_executor.CompetitionContainerExecutor(input_root=path_input,\n",
    "                                  output_root=path_ouput)\n",
    "ex"
   ]
  },
  {
   "cell_type": "code",
   "execution_count": 154,
   "metadata": {},
   "outputs": [
    {
     "name": "stdout",
     "output_type": "stream",
     "text": [
      "Running Container\n",
      "Creating new simulation container...\n"
     ]
    }
   ],
   "source": [
    "CONTAINER_ID = 'uber3'\n",
    "\n",
    "print(\"Running Container\")\n",
    "\n",
    "try:\n",
    "    uber = ex.client.containers.get(CONTAINER_ID)\n",
    "    uber.stop()\n",
    "    uber.remove()\n",
    "    print(\"Found container from previous run, removing and creating new sim container...\")\n",
    "except docker.errors.NotFound:\n",
    "    print(\"Creating new simulation container...\")"
   ]
  },
  {
   "cell_type": "code",
   "execution_count": 155,
   "metadata": {},
   "outputs": [],
   "source": [
    "ex.run_simulation(CONTAINER_ID, num_iterations=1, num_cpus=10)"
   ]
  },
  {
   "cell_type": "code",
   "execution_count": 67,
   "metadata": {},
   "outputs": [
    {
     "name": "stdout",
     "output_type": "stream",
     "text": [
      "Running simulation for 40 seconds...\n"
     ]
    }
   ],
   "source": [
    "# Let it roll for a bit (hopefully at least one or two iterations!)\n",
    "if len(sys.argv) < 4:\n",
    "    print(\"Running simulation for 40 seconds...\")\n",
    "    time.sleep(40)\n",
    "else:\n",
    "    run_time = int(sys.argv[3])\n",
    "    print(\"Running simulation for {} seconds...\".format(str(run_time)))\n",
    "    time.sleep(int(run_time))"
   ]
  },
  {
   "cell_type": "code",
   "execution_count": 156,
   "metadata": {},
   "outputs": [
    {
     "ename": "ValueError",
     "evalue": "The simulation uber3 is still running, please import scores when check_if_submission_complete(sim_name) returns True.",
     "output_type": "error",
     "traceback": [
      "\u001b[0;31m---------------------------------------------------------------------------\u001b[0m",
      "\u001b[0;31mValueError\u001b[0m                                Traceback (most recent call last)",
      "\u001b[0;32m<ipython-input-156-682ffdb726a5>\u001b[0m in \u001b[0;36m<module>\u001b[0;34m()\u001b[0m\n\u001b[0;32m----> 1\u001b[0;31m \u001b[0mex\u001b[0m\u001b[0;34m.\u001b[0m\u001b[0mget_submission_scores_and_stats\u001b[0m\u001b[0;34m(\u001b[0m\u001b[0mCONTAINER_ID\u001b[0m\u001b[0;34m)\u001b[0m\u001b[0;34m\u001b[0m\u001b[0m\n\u001b[0m",
      "\u001b[0;32m~/Documents/GitHub/Uber-Prize-Starter-Kit/utilities/competition_executor.py\u001b[0m in \u001b[0;36mwrapper\u001b[0;34m(*args, **kwargs)\u001b[0m\n\u001b[1;32m    127\u001b[0m             \u001b[0;32mraise\u001b[0m \u001b[0mValueError\u001b[0m\u001b[0;34m(\u001b[0m\u001b[0;34m\"Container not executed using this interface.\"\u001b[0m\u001b[0;34m)\u001b[0m\u001b[0;34m\u001b[0m\u001b[0m\n\u001b[1;32m    128\u001b[0m         \u001b[0;32melse\u001b[0m\u001b[0;34m:\u001b[0m\u001b[0;34m\u001b[0m\u001b[0m\n\u001b[0;32m--> 129\u001b[0;31m             \u001b[0;32mreturn\u001b[0m \u001b[0mfunc\u001b[0m\u001b[0;34m(\u001b[0m\u001b[0;34m*\u001b[0m\u001b[0margs\u001b[0m\u001b[0;34m,\u001b[0m \u001b[0;34m**\u001b[0m\u001b[0mkwargs\u001b[0m\u001b[0;34m)\u001b[0m\u001b[0;34m\u001b[0m\u001b[0m\n\u001b[0m\u001b[1;32m    130\u001b[0m \u001b[0;34m\u001b[0m\u001b[0m\n\u001b[1;32m    131\u001b[0m     \u001b[0;32mreturn\u001b[0m \u001b[0mwrapper\u001b[0m\u001b[0;34m\u001b[0m\u001b[0m\n",
      "\u001b[0;32m~/Documents/GitHub/Uber-Prize-Starter-Kit/utilities/competition_executor.py\u001b[0m in \u001b[0;36mget_submission_scores_and_stats\u001b[0;34m(self, submission_id)\u001b[0m\n\u001b[1;32m    188\u001b[0m         \u001b[0;32melse\u001b[0m\u001b[0;34m:\u001b[0m\u001b[0;34m\u001b[0m\u001b[0m\n\u001b[1;32m    189\u001b[0m             raise ValueError(\"The simulation {0} is still running, please import scores when \"\n\u001b[0;32m--> 190\u001b[0;31m                              \"check_if_submission_complete(sim_name) returns True.\".format(submission_id))\n\u001b[0m\u001b[1;32m    191\u001b[0m \u001b[0;34m\u001b[0m\u001b[0m\n\u001b[1;32m    192\u001b[0m     \u001b[0;32mdef\u001b[0m \u001b[0mstop_all_simulations\u001b[0m\u001b[0;34m(\u001b[0m\u001b[0mself\u001b[0m\u001b[0;34m,\u001b[0m \u001b[0mremove\u001b[0m\u001b[0;34m=\u001b[0m\u001b[0;32mTrue\u001b[0m\u001b[0;34m)\u001b[0m\u001b[0;34m:\u001b[0m\u001b[0;34m\u001b[0m\u001b[0m\n",
      "\u001b[0;31mValueError\u001b[0m: The simulation uber3 is still running, please import scores when check_if_submission_complete(sim_name) returns True."
     ]
    }
   ],
   "source": [
    "ex.get_submission_scores_and_stats(CONTAINER_ID)"
   ]
  },
  {
   "cell_type": "code",
   "execution_count": 128,
   "metadata": {},
   "outputs": [
    {
     "name": "stdout",
     "output_type": "stream",
     "text": [
      "00:07:53.150 DEBUG beam.utils.BeamConfigUtils$ - Loading beam config from fixed-data/siouxfalls/siouxfalls-1k.conf.\n",
      "00:07:54.678 DEBUG b.sim.config.MatSimBeamConfigBuilder - Couldn't instantiate MatsimParameters  'org.matsim.run.OldToNewPlanCalcScoreConfigGroup.ModeParams'. It doesn't have default public constructor.Falling back to setAccessible(). Cause : Class beam.sim.config.MatSimBeamConfigBuilder$$anonfun$1 can not access a member of class org.matsim.run.OldToNewPlanCalcScoreConfigGroup$ModeParams with modifiers \"\"\n",
      "00:07:54.705 DEBUG b.sim.config.MatSimBeamConfigBuilder - Couldn't instantiate MatsimParameters  'org.matsim.core.config.groups.PlanCalcScoreConfigGroup.ModeParams'. It doesn't have default public constructor.Falling back to setAccessible(). Cause : Class beam.sim.config.MatSimBeamConfigBuilder$$anonfun$1 can not access a member of class org.matsim.core.config.groups.PlanCalcScoreConfigGroup$ModeParams with modifiers \"\"\n",
      "00:07:54.844 DEBUG beam.utils.FileUtils$ - Beam output directory is: /output/siouxfalls/siouxfalls-1k__2018-11-19_00-07-54\n",
      "00:07:54.894 INFO  beam.competition.run.RunCompetition$ - Starting beam on branch master at commit HEAD.\n",
      "00:07:54.940 INFO  beam.competition.run.RunCompetition$ - Config [siouxfalls-1k] copied to /output/siouxfalls/siouxfalls-1k__2018-11-19_00-07-54/beam.conf.\n",
      "00:07:54.981 INFO  b.r.r.FrequencyAdjustingNetworkCoordinator - Initializing router by reading network from: /fixed-data/siouxfalls/r5/network.dat\n",
      "00:07:59.740 INFO  hsqldb.db.HSQLDB4AD417742A.ENGINE - dataFileCache open start\n",
      "00:08:07.294 INFO  b.sim.LoggingParallelEventsManager - Created ParallelEventsManagerImpl with hashcode: 457245448\n",
      "00:08:09.193 DEBUG beam.utils.FileUtils$ - Beam output directory is: /output/siouxfalls/siouxfalls-1k__2018-11-19_00-07-54\n",
      "[INFO] [11/19/2018 00:08:13.238] [ClusterSystem-akka.actor.default-dispatcher-4] [akka://ClusterSystem/user/router] BeamRouter: akka://ClusterSystem/user/router\n",
      "[INFO] [11/19/2018 00:08:13.295] [ClusterSystem-akka.actor.default-dispatcher-3] [akka://ClusterSystem/user/router/router-worker] R5RoutingWorker_v2[759532967] `akka://ClusterSystem/user/router/router-worker` is ready\n",
      "[INFO] [11/19/2018 00:08:13.296] [ClusterSystem-akka.actor.default-dispatcher-3] [akka://ClusterSystem/user/router/router-worker] Num of available processors: 4. Will use: 2\n",
      "[INFO] [11/19/2018 00:08:13.351] [ClusterSystem-akka.actor.default-dispatcher-3] [akka://ClusterSystem/user/router/router-worker] linkIdMap is built in 55 ms\n",
      "[INFO] [11/19/2018 00:08:15.766] [ClusterSystem-akka.actor.default-dispatcher-6] [akka://ClusterSystem/user/BeamMobsim.iteration/$b] Memory use after GC: 0.2(GB)\n",
      "[INFO] [11/19/2018 00:08:17.707] [ClusterSystem-akka.actor.default-dispatcher-7] [akka://ClusterSystem/user/BeamMobsim.iteration/population] Initialized 409 households\n",
      "[INFO] [11/19/2018 00:08:20.513] [ClusterSystem-akka.actor.default-dispatcher-3] [akka://ClusterSystem/user/BeamMobsim.iteration] Initialized 1003 people\n",
      "[INFO] [11/19/2018 00:08:20.514] [ClusterSystem-akka.actor.default-dispatcher-3] [akka://ClusterSystem/user/BeamMobsim.iteration] Initialized 0 personal vehicles\n",
      "[INFO] [11/19/2018 00:08:20.515] [ClusterSystem-akka.actor.default-dispatcher-3] [akka://ClusterSystem/user/BeamMobsim.iteration] Initialized 250 ride hailing agents\n",
      "[INFO] [11/19/2018 00:08:21.692] [ClusterSystem-akka.actor.default-dispatcher-3] [akka://ClusterSystem/user/BeamMobsim.iteration] Transit schedule has been initialized\n",
      "[INFO] [11/19/2018 00:08:21.700] [ClusterSystem-akka.actor.default-dispatcher-3] [akka://ClusterSystem/user/BeamMobsim.iteration] rideHailManagerTimerScheduled\n",
      "[INFO] [11/19/2018 00:08:21.703] [ClusterSystem-akka.actor.default-dispatcher-3] [akka://ClusterSystem/user/BeamMobsim.iteration] Running BEAM Mobsim\n",
      "[INFO] [11/19/2018 00:08:21.704] [ClusterSystem-akka.actor.default-dispatcher-3] [akka://ClusterSystem/user/BeamMobsim.iteration] Preparing new Iteration (End)\n",
      "[INFO] [11/19/2018 00:08:21.704] [ClusterSystem-akka.actor.default-dispatcher-3] [akka://ClusterSystem/user/BeamMobsim.iteration] Starting Agentsim\n",
      "[INFO] [11/19/2018 00:08:21.707] [ClusterSystem-akka.actor.default-dispatcher-13] [akka://ClusterSystem/user/BeamMobsim.iteration/scheduler] starting scheduler at iteration 0\n",
      "[INFO] [11/19/2018 00:08:24.085] [ClusterSystem-akka.actor.default-dispatcher-13] [akka://ClusterSystem/user/BeamMobsim.iteration/scheduler] Hour 0.5 completed. 0.2(GB)\n",
      "[INFO] [11/19/2018 00:08:24.344] [ClusterSystem-akka.actor.default-dispatcher-9] [akka://ClusterSystem/user/BeamMobsim.iteration/scheduler] Hour 1.0 completed. 0.2(GB)\n",
      "[INFO] [11/19/2018 00:08:24.728] [ClusterSystem-akka.actor.default-dispatcher-4] [akka://ClusterSystem/user/BeamMobsim.iteration/scheduler] Hour 1.5 completed. 0.3(GB)\n",
      "[INFO] [11/19/2018 00:08:24.940] [ClusterSystem-akka.actor.default-dispatcher-3] [akka://ClusterSystem/user/BeamMobsim.iteration/scheduler] Hour 2.0 completed. 0.3(GB)\n",
      "[INFO] [11/19/2018 00:08:25.286] [ClusterSystem-akka.actor.default-dispatcher-3] [akka://ClusterSystem/user/BeamMobsim.iteration/scheduler] Hour 2.5 completed. 0.3(GB)\n",
      "[INFO] [11/19/2018 00:08:25.295] [ClusterSystem-akka.actor.default-dispatcher-11] [akka://ClusterSystem/user/router/router-worker] Receiving 83.33333333333333 per seconds of RoutingRequest with first message time set to Some(2018-11-19T00:08:22.139Z) for the next round\n",
      "[INFO] [11/19/2018 00:08:25.516] [ClusterSystem-akka.actor.default-dispatcher-3] [akka://ClusterSystem/user/BeamMobsim.iteration/scheduler] Hour 3.0 completed. 0.4(GB)\n",
      "[INFO] [11/19/2018 00:08:25.864] [ClusterSystem-akka.actor.default-dispatcher-4] [akka://ClusterSystem/user/BeamMobsim.iteration/scheduler] Hour 3.5 completed. 0.4(GB)\n",
      "[INFO] [11/19/2018 00:08:26.051] [ClusterSystem-akka.actor.default-dispatcher-7] [akka://ClusterSystem/user/BeamMobsim.iteration/scheduler] Hour 4.0 completed. 0.4(GB)\n",
      "[INFO] [11/19/2018 00:08:26.360] [ClusterSystem-akka.actor.default-dispatcher-4] [akka://ClusterSystem/user/BeamMobsim.iteration/scheduler] Hour 4.5 completed. 0.5(GB)\n",
      "[INFO] [11/19/2018 00:08:26.538] [ClusterSystem-akka.actor.default-dispatcher-4] [akka://ClusterSystem/user/BeamMobsim.iteration/scheduler] Hour 5.0 completed. 0.5(GB)\n",
      "[INFO] [11/19/2018 00:08:26.836] [ClusterSystem-akka.actor.default-dispatcher-8] [akka://ClusterSystem/user/BeamMobsim.iteration/scheduler] Hour 5.5 completed. 0.6(GB)\n",
      "[INFO] [11/19/2018 00:08:27.141] [ClusterSystem-akka.actor.default-dispatcher-12] [akka://ClusterSystem/user/BeamMobsim.iteration/scheduler] Hour 6.0 completed. 0.7(GB)\n",
      "[INFO] [11/19/2018 00:08:27.610] [ClusterSystem-akka.actor.default-dispatcher-8] [akka://ClusterSystem/user/BeamMobsim.iteration/scheduler] Hour 6.5 completed. 0.7(GB)\n",
      "[INFO] [11/19/2018 00:08:35.281] [ClusterSystem-akka.actor.default-dispatcher-12] [akka://ClusterSystem/user/router/router-worker] Receiving 19.53846153846154 per seconds of RoutingRequest with first message time set to Some(2018-11-19T00:08:22.139Z) for the next round\n",
      "[INFO] [11/19/2018 00:08:45.272] [ClusterSystem-akka.actor.default-dispatcher-5] [akka://ClusterSystem/user/router/router-worker] Receiving 11.043478260869565 per seconds of RoutingRequest with first message time set to Some(2018-11-19T00:08:22.139Z) for the next round\n",
      "[INFO] [11/19/2018 00:08:51.016] [ClusterSystem-akka.actor.default-dispatcher-5] [akka://ClusterSystem/user/BeamMobsim.iteration/scheduler] Hour 7.0 completed. 2.2(GB)\n",
      "[INFO] [11/19/2018 00:08:52.484] [ClusterSystem-akka.actor.default-dispatcher-12] [akka://ClusterSystem/user/BeamMobsim.iteration/scheduler] Hour 7.5 completed. 0.5(GB)\n",
      "[INFO] [11/19/2018 00:08:55.280] [ClusterSystem-akka.actor.default-dispatcher-9] [akka://ClusterSystem/user/router/router-worker] Receiving 20.939393939393938 per seconds of RoutingRequest with first message time set to Some(2018-11-19T00:08:22.139Z) for the next round\n",
      "[INFO] [11/19/2018 00:08:59.817] [ClusterSystem-akka.actor.default-dispatcher-2] [akka://ClusterSystem/user/BeamMobsim.iteration/scheduler] Hour 8.0 completed. 1.2(GB)\n",
      "[INFO] [11/19/2018 00:09:05.247] [ClusterSystem-akka.actor.default-dispatcher-6] [akka://ClusterSystem/user/router/router-worker] Receiving 50.372093023255815 per seconds of RoutingRequest with first message time set to Some(2018-11-19T00:08:22.139Z) for the next round\n",
      "[INFO] [11/19/2018 00:09:12.418] [ClusterSystem-akka.actor.default-dispatcher-7] [akka://ClusterSystem/user/BeamMobsim.iteration/scheduler] Hour 8.5 completed. 1.6(GB)\n",
      "[INFO] [11/19/2018 00:09:15.238] [ClusterSystem-akka.actor.default-dispatcher-11] [akka://ClusterSystem/user/router/router-worker] Receiving 59.735849056603776 per seconds of RoutingRequest with first message time set to Some(2018-11-19T00:08:22.139Z) for the next round\n",
      "[INFO] [11/19/2018 00:09:16.442] [ClusterSystem-akka.actor.default-dispatcher-7] [akka://ClusterSystem/user/BeamMobsim.iteration/$b] Memory use after GC: 0.1(GB)\n",
      "[INFO] [11/19/2018 00:09:19.253] [ClusterSystem-akka.actor.default-dispatcher-6] [akka://ClusterSystem/user/BeamMobsim.iteration/scheduler] Hour 9.0 completed. 1.4(GB)\n",
      "[INFO] [11/19/2018 00:09:21.843] [ClusterSystem-akka.actor.default-dispatcher-2] [akka://ClusterSystem/user/BeamMobsim.iteration/scheduler] Hour 9.5 completed. 2.4(GB)\n",
      "[INFO] [11/19/2018 00:09:22.929] [ClusterSystem-akka.actor.default-dispatcher-6] [akka://ClusterSystem/user/BeamMobsim.iteration/scheduler] Hour 10.0 completed. 0.3(GB)\n",
      "[INFO] [11/19/2018 00:09:24.198] [ClusterSystem-akka.actor.default-dispatcher-11] [akka://ClusterSystem/user/BeamMobsim.iteration/scheduler] Hour 10.5 completed. 0.6(GB)\n",
      "[INFO] [11/19/2018 00:09:25.238] [ClusterSystem-akka.actor.default-dispatcher-10] [akka://ClusterSystem/user/router/router-worker] Receiving 64.55555555555556 per seconds of RoutingRequest with first message time set to None for the next round\n",
      "[INFO] [11/19/2018 00:09:25.444] [ClusterSystem-akka.actor.default-dispatcher-13] [akka://ClusterSystem/user/BeamMobsim.iteration/scheduler] Hour 11.0 completed. 1.1(GB)\n",
      "[INFO] [11/19/2018 00:09:26.331] [ClusterSystem-akka.actor.default-dispatcher-11] [akka://ClusterSystem/user/BeamMobsim.iteration/scheduler] Hour 11.5 completed. 1.4(GB)\n",
      "[INFO] [11/19/2018 00:09:27.158] [ClusterSystem-akka.actor.default-dispatcher-7] [akka://ClusterSystem/user/BeamMobsim.iteration/scheduler] Hour 12.0 completed. 1.7(GB)\n",
      "[INFO] [11/19/2018 00:09:27.996] [ClusterSystem-akka.actor.default-dispatcher-10] [akka://ClusterSystem/user/BeamMobsim.iteration/scheduler] Hour 12.5 completed. 2.0(GB)\n",
      "[INFO] [11/19/2018 00:09:29.010] [ClusterSystem-akka.actor.default-dispatcher-12] [akka://ClusterSystem/user/BeamMobsim.iteration/scheduler] Hour 13.0 completed. 2.4(GB)\n",
      "[INFO] [11/19/2018 00:09:29.721] [ClusterSystem-akka.actor.default-dispatcher-8] [akka://ClusterSystem/user/BeamMobsim.iteration/scheduler] Hour 13.5 completed. 0.2(GB)\n",
      "[INFO] [11/19/2018 00:09:30.668] [ClusterSystem-akka.actor.default-dispatcher-13] [akka://ClusterSystem/user/BeamMobsim.iteration/scheduler] Hour 14.0 completed. 0.6(GB)\n",
      "[INFO] [11/19/2018 00:09:31.301] [ClusterSystem-akka.actor.default-dispatcher-4] [akka://ClusterSystem/user/BeamMobsim.iteration/scheduler] Hour 14.5 completed. 1.0(GB)\n",
      "[INFO] [11/19/2018 00:09:32.331] [ClusterSystem-akka.actor.default-dispatcher-11] [akka://ClusterSystem/user/BeamMobsim.iteration/scheduler] Hour 15.0 completed. 1.3(GB)\n",
      "[INFO] [11/19/2018 00:09:33.566] [ClusterSystem-akka.actor.default-dispatcher-12] [akka://ClusterSystem/user/BeamMobsim.iteration/scheduler] Hour 15.5 completed. 1.7(GB)\n",
      "[INFO] [11/19/2018 00:09:34.976] [ClusterSystem-akka.actor.default-dispatcher-6] [akka://ClusterSystem/user/BeamMobsim.iteration/scheduler] Hour 16.0 completed. 2.1(GB)\n",
      "[INFO] [11/19/2018 00:09:35.203] [ClusterSystem-akka.actor.default-dispatcher-13] [akka://ClusterSystem/user/router/router-worker] Receiving 114.44444444444444 per seconds of RoutingRequest with first message time set to Some(2018-11-19T00:09:25.328Z) for the next round\n",
      "[INFO] [11/19/2018 00:09:37.278] [ClusterSystem-akka.actor.default-dispatcher-13] [akka://ClusterSystem/user/BeamMobsim.iteration/scheduler] Hour 16.5 completed. 2.6(GB)\n",
      "[INFO] [11/19/2018 00:09:39.575] [ClusterSystem-akka.actor.default-dispatcher-10] [akka://ClusterSystem/user/BeamMobsim.iteration/scheduler] Hour 17.0 completed. 0.9(GB)\n",
      "[INFO] [11/19/2018 00:09:44.635] [ClusterSystem-akka.actor.default-dispatcher-11] [akka://ClusterSystem/user/BeamMobsim.iteration/scheduler] Hour 17.5 completed. 2.3(GB)\n",
      "[INFO] [11/19/2018 00:09:45.203] [ClusterSystem-akka.actor.default-dispatcher-8] [akka://ClusterSystem/user/router/router-worker] Receiving 96.3157894736842 per seconds of RoutingRequest with first message time set to Some(2018-11-19T00:09:25.328Z) for the next round\n",
      "[INFO] [11/19/2018 00:09:52.284] [ClusterSystem-akka.actor.default-dispatcher-11] [akka://ClusterSystem/user/BeamMobsim.iteration/scheduler] Hour 18.0 completed. 2.0(GB)\n",
      "[INFO] [11/19/2018 00:09:55.203] [ClusterSystem-akka.actor.default-dispatcher-4] [akka://ClusterSystem/user/router/router-worker] Receiving 89.41379310344827 per seconds of RoutingRequest with first message time set to Some(2018-11-19T00:09:25.328Z) for the next round\n",
      "[INFO] [11/19/2018 00:09:58.831] [ClusterSystem-akka.actor.default-dispatcher-10] [akka://ClusterSystem/user/BeamMobsim.iteration/scheduler] Hour 18.5 completed. 1.1(GB)\n",
      "[INFO] [11/19/2018 00:10:00.413] [ClusterSystem-akka.actor.default-dispatcher-2] [akka://ClusterSystem/user/BeamMobsim.iteration/scheduler] Hour 19.0 completed. 1.5(GB)\n",
      "[INFO] [11/19/2018 00:10:01.567] [ClusterSystem-akka.actor.default-dispatcher-11] [akka://ClusterSystem/user/BeamMobsim.iteration/scheduler] Hour 19.5 completed. 1.7(GB)\n",
      "[INFO] [11/19/2018 00:10:02.745] [ClusterSystem-akka.actor.default-dispatcher-12] [akka://ClusterSystem/user/BeamMobsim.iteration/scheduler] Hour 20.0 completed. 2.0(GB)\n",
      "[INFO] [11/19/2018 00:10:03.471] [ClusterSystem-akka.actor.default-dispatcher-10] [akka://ClusterSystem/user/BeamMobsim.iteration/scheduler] Hour 20.5 completed. 2.2(GB)\n",
      "[INFO] [11/19/2018 00:10:03.849] [ClusterSystem-akka.actor.default-dispatcher-7] [akka://ClusterSystem/user/BeamMobsim.iteration/scheduler] Hour 21.0 completed. 2.3(GB)\n",
      "[INFO] [11/19/2018 00:10:04.112] [ClusterSystem-akka.actor.default-dispatcher-6] [akka://ClusterSystem/user/BeamMobsim.iteration/scheduler] Hour 21.5 completed. 2.3(GB)\n",
      "[INFO] [11/19/2018 00:10:04.276] [ClusterSystem-akka.actor.default-dispatcher-12] [akka://ClusterSystem/user/BeamMobsim.iteration/scheduler] Hour 22.0 completed. 2.3(GB)\n",
      "[INFO] [11/19/2018 00:10:04.494] [ClusterSystem-akka.actor.default-dispatcher-9] [akka://ClusterSystem/user/BeamMobsim.iteration/scheduler] Hour 22.5 completed. 2.4(GB)\n",
      "[INFO] [11/19/2018 00:10:04.613] [ClusterSystem-akka.actor.default-dispatcher-9] [akka://ClusterSystem/user/BeamMobsim.iteration/scheduler] Hour 23.0 completed. 2.4(GB)\n",
      "[INFO] [11/19/2018 00:10:04.801] [ClusterSystem-akka.actor.default-dispatcher-11] [akka://ClusterSystem/user/BeamMobsim.iteration/scheduler] Hour 23.5 completed. 2.4(GB)\n",
      "[INFO] [11/19/2018 00:10:04.895] [ClusterSystem-akka.actor.default-dispatcher-3] [akka://ClusterSystem/user/BeamMobsim.iteration/scheduler] Hour 24.0 completed. 2.4(GB)\n",
      "[INFO] [11/19/2018 00:10:04.991] [ClusterSystem-akka.actor.default-dispatcher-6] [akka://ClusterSystem/user/BeamMobsim.iteration/scheduler] Hour 24.5 completed. 2.4(GB)\n",
      "[INFO] [11/19/2018 00:10:05.112] [ClusterSystem-akka.actor.default-dispatcher-13] [akka://ClusterSystem/user/BeamMobsim.iteration/scheduler] Hour 25.0 completed. 2.4(GB)\n",
      "[INFO] [11/19/2018 00:10:05.171] [ClusterSystem-akka.actor.default-dispatcher-6] [akka://ClusterSystem/user/router/router-worker] Receiving 81.23076923076923 per seconds of RoutingRequest with first message time set to Some(2018-11-19T00:09:25.328Z) for the next round\n",
      "[INFO] [11/19/2018 00:10:05.244] [ClusterSystem-akka.actor.default-dispatcher-2] [akka://ClusterSystem/user/BeamMobsim.iteration/scheduler] Hour 25.5 completed. 2.4(GB)\n",
      "[INFO] [11/19/2018 00:10:05.346] [ClusterSystem-akka.actor.default-dispatcher-4] [akka://ClusterSystem/user/BeamMobsim.iteration/scheduler] Hour 26.0 completed. 2.4(GB)\n",
      "[INFO] [11/19/2018 00:10:05.451] [ClusterSystem-akka.actor.default-dispatcher-12] [akka://ClusterSystem/user/BeamMobsim.iteration/scheduler] Hour 26.5 completed. 2.4(GB)\n",
      "[INFO] [11/19/2018 00:10:05.570] [ClusterSystem-akka.actor.default-dispatcher-6] [akka://ClusterSystem/user/BeamMobsim.iteration/scheduler] Hour 27.0 completed. 2.4(GB)\n",
      "[INFO] [11/19/2018 00:10:05.684] [ClusterSystem-akka.actor.default-dispatcher-12] [akka://ClusterSystem/user/BeamMobsim.iteration/scheduler] Hour 27.5 completed. 2.4(GB)\n",
      "[INFO] [11/19/2018 00:10:05.807] [ClusterSystem-akka.actor.default-dispatcher-2] [akka://ClusterSystem/user/BeamMobsim.iteration/scheduler] Hour 28.0 completed. 2.4(GB)\n",
      "[INFO] [11/19/2018 00:10:05.913] [ClusterSystem-akka.actor.default-dispatcher-8] [akka://ClusterSystem/user/BeamMobsim.iteration/scheduler] Hour 28.5 completed. 2.4(GB)\n",
      "[INFO] [11/19/2018 00:10:06.033] [ClusterSystem-akka.actor.default-dispatcher-4] [akka://ClusterSystem/user/BeamMobsim.iteration/scheduler] Hour 29.0 completed. 2.4(GB)\n",
      "[INFO] [11/19/2018 00:10:06.148] [ClusterSystem-akka.actor.default-dispatcher-4] [akka://ClusterSystem/user/BeamMobsim.iteration/scheduler] Hour 29.5 completed. 2.5(GB)\n",
      "[INFO] [11/19/2018 00:10:06.272] [ClusterSystem-akka.actor.default-dispatcher-8] [akka://ClusterSystem/user/BeamMobsim.iteration/scheduler] Hour 30.0 completed. 2.5(GB)\n",
      "[INFO] [11/19/2018 00:10:06.272] [ClusterSystem-akka.actor.default-dispatcher-8] [akka://ClusterSystem/user/BeamMobsim.iteration/scheduler] Stopping BeamAgentScheduler @ tick 108001. Iteration 0 executed in 104 seconds\n",
      "[INFO] [11/19/2018 00:10:06.440] [ClusterSystem-akka.actor.default-dispatcher-8] [akka://ClusterSystem/user/BeamMobsim.iteration/scheduler] Statistics about trigger: \n",
      " \n",
      "Type: class beam.agentsim.agents.modalbehaviors.DrivesVehicle$AlightVehicleTrigger\n",
      "Stats: numOfValues: 543, measureTimeMs: 42, [0.0, 25.0], median: 0.0, avg: 1.011049723756906, p75: 1.0, p95: 5.0, p99: 11.0, p99.95: 25.0, p99.99: 25.0, sum: 549.0\n",
      "\n",
      "Type: class beam.agentsim.agents.modalbehaviors.DrivesVehicle$StartLegTrigger\n",
      "Stats: numOfValues: 20703, measureTimeMs: 14, [0.0, 186.0], median: 0.0, avg: 1.989421822924214, p75: 0.0, p95: 2.0, p99: 108.0, p99.95: 155.48000000001048, p99.99: 185.6479999999974, sum: 41187.0\n",
      "\n",
      "Type: class beam.agentsim.agents.InitializeTrigger\n",
      "Stats: numOfValues: 1508, measureTimeMs: 2, [274.0, 584.0], median: 537.0, avg: 503.8839522546419, p75: 545.75, p95: 569.0, p99: 570.0, p99.95: 584.0, p99.99: 584.0, sum: 759857.0\n",
      "\n",
      "Type: class beam.agentsim.agents.modalbehaviors.DrivesVehicle$BoardVehicleTrigger\n",
      "Stats: numOfValues: 543, measureTimeMs: 1, [0.0, 51.0], median: 0.0, avg: 0.8471454880294659, p75: 0.0, p95: 3.0, p99: 22.0, p99.95: 51.0, p99.99: 51.0, sum: 460.0\n",
      "\n",
      "Type: class beam.agentsim.agents.PersonAgent$PersonDepartureTrigger\n",
      "Stats: numOfValues: 3136, measureTimeMs: 4, [0.0, 71.0], median: 0.0, avg: 1.1543367346938775, p75: 1.0, p95: 6.0, p99: 18.63000000000011, p99.95: 59.63000000000284, p99.99: 71.0, sum: 3620.0\n",
      "\n",
      "Type: class beam.agentsim.agents.modalbehaviors.DrivesVehicle$EndLegTrigger\n",
      "Stats: numOfValues: 20703, measureTimeMs: 18, [0.0, 22262.0], median: 0.0, avg: 66.95507897406173, p75: 2.0, p95: 563.0, p99: 1156.9199999999983, p99.95: 2301.1280000000115, p99.99: 2550.239999999987, sum: 1386171.0\n",
      "\n",
      "Type: class beam.agentsim.agents.ridehail.RideHailManager$RideHailAllocationManagerTimeout\n",
      "Stats: numOfValues: 361, measureTimeMs: 1, [0.0, 1578.0], median: 0.0, avg: 13.578947368421053, p75: 1.0, p95: 96.89999999999998, p99: 174.31999999999994, p99.95: 1578.0, p99.99: 1578.0, sum: 4902.0\n",
      "\n",
      "Type: class beam.agentsim.agents.ridehail.RideHailManager$BufferedRideHailRequestsTimeout\n",
      "Stats: numOfValues: 107824, measureTimeMs: 14, [0.0, 590.0], median: 0.0, avg: 0.07765432556759164, p75: 0.0, p95: 0.0, p99: 1.0, p99.95: 25.0, p99.99: 135.0, sum: 8373.0\n",
      "\n",
      "Type: class beam.agentsim.agents.PersonAgent$ActivityStartTrigger\n",
      "Stats: numOfValues: 1003, measureTimeMs: 0, [134.0, 465.0], median: 203.0, avg: 247.38484546360917, p75: 326.0, p95: 410.0, p99: 457.0, p99.95: 465.0, p99.99: 465.0, sum: 248127.0\n",
      "\n",
      "Type: class beam.agentsim.agents.PersonAgent$ActivityEndTrigger\n",
      "Stats: numOfValues: 3974, measureTimeMs: 0, [0.0, 1744.0], median: 16.0, avg: 144.5832913940614, p75: 97.0, p95: 907.0, p99: 1594.0, p99.95: 1744.0, p99.99: 1744.0, sum: 574574.0\n",
      "\n",
      "Max number of trigger messages per actor type\n",
      "\tRideHailAgent => 63\n",
      "\t\tclass beam.agentsim.agents.InitializeTrigger => 1\n",
      "\t\tclass beam.agentsim.agents.modalbehaviors.DrivesVehicle$StartLegTrigger => 31\n",
      "\t\tclass beam.agentsim.agents.modalbehaviors.DrivesVehicle$EndLegTrigger => 31\n",
      "\tRideHailManager => 108185\n",
      "\t\tclass beam.agentsim.agents.ridehail.RideHailManager$RideHailAllocationManagerTimeout => 361\n",
      "\t\tclass beam.agentsim.agents.ridehail.RideHailManager$BufferedRideHailRequestsTimeout => 107824\n",
      "\tTransitDriverAgent => 113\n",
      "\t\tclass beam.agentsim.agents.InitializeTrigger => 1\n",
      "\t\tclass beam.agentsim.agents.modalbehaviors.DrivesVehicle$StartLegTrigger => 56\n",
      "\t\tclass beam.agentsim.agents.modalbehaviors.DrivesVehicle$EndLegTrigger => 56\n",
      "\tPopulation => 171\n",
      "\t\tclass beam.agentsim.agents.PersonAgent$PersonDepartureTrigger => 14\n",
      "\t\tclass beam.agentsim.agents.InitializeTrigger => 1\n",
      "\t\tclass beam.agentsim.agents.modalbehaviors.DrivesVehicle$EndLegTrigger => 56\n",
      "\t\tclass beam.agentsim.agents.PersonAgent$ActivityStartTrigger => 1\n",
      "\t\tclass beam.agentsim.agents.modalbehaviors.DrivesVehicle$BoardVehicleTrigger => 14\n",
      "\t\tclass beam.agentsim.agents.modalbehaviors.DrivesVehicle$AlightVehicleTrigger => 14\n",
      "\t\tclass beam.agentsim.agents.PersonAgent$ActivityEndTrigger => 15\n",
      "\t\tclass beam.agentsim.agents.modalbehaviors.DrivesVehicle$StartLegTrigger => 56\n",
      "\n",
      "[INFO] [11/19/2018 00:10:06.445] [ClusterSystem-akka.actor.default-dispatcher-8] [akka://ClusterSystem/user/BeamMobsim.iteration] Scheduler is finished.\n",
      "[INFO] [11/19/2018 00:10:06.447] [ClusterSystem-akka.actor.default-dispatcher-12] [akka://ClusterSystem/user/BeamMobsim.iteration/RideHailManager] finish message received from BeamAgentScheduler\n",
      "[INFO] [11/19/2018 00:10:06.447] [ClusterSystem-akka.actor.default-dispatcher-12] [akka://ClusterSystem/user/BeamMobsim.iteration/RideHailManager] finish message received from BeamAgentScheduler\n",
      "[INFO] [11/19/2018 00:10:06.452] [ClusterSystem-akka.actor.default-dispatcher-8] [akka://ClusterSystem/user/BeamMobsim.iteration] Ending Agentsim\n",
      "[INFO] [11/19/2018 00:10:06.452] [ClusterSystem-akka.actor.default-dispatcher-8] [akka://ClusterSystem/user/BeamMobsim.iteration] Processing Agentsim Events (Start)\n",
      "[INFO] [11/19/2018 00:10:06.474] [ClusterSystem-akka.actor.default-dispatcher-12] [akka://ClusterSystem/user/BeamMobsim.iteration/scheduler] aroundPostStop. Stopping all scheduled tasks...\n",
      "[INFO] [11/19/2018 00:10:15.334] [ClusterSystem-akka.actor.default-dispatcher-12] [akka://ClusterSystem/user/router/router-worker] Receiving 63.36 per seconds of RoutingRequest with first message time set to Some(2018-11-19T00:09:25.328Z) for the next round\n",
      "[INFO] [11/19/2018 00:10:19.855] [ClusterSystem-akka.actor.default-dispatcher-3] [akka://ClusterSystem/user/router/router-worker] R5RoutingWorker_v2[759532967], Path: `akka://ClusterSystem/user/router/router-worker` UpdateTravelTimeLocal. Set new travel time\n",
      "[INFO] [11/19/2018 00:10:23.717] [ClusterSystem-akka.actor.default-dispatcher-5] [akka://ClusterSystem/user/BeamMobsim.iteration/$b] Memory use after GC: 0.1(GB)\n",
      "[INFO] [11/19/2018 00:10:24.032] [ClusterSystem-akka.actor.default-dispatcher-3] [akka://ClusterSystem/user/BeamMobsim.iteration/population] Initialized 409 households\n",
      "[INFO] [11/19/2018 00:10:25.170] [ClusterSystem-akka.actor.default-dispatcher-3] [akka://ClusterSystem/user/router/router-worker] Receiving 53.69491525423729 per seconds of RoutingRequest with first message time set to Some(2018-11-19T00:09:25.328Z) for the next round\n",
      "[INFO] [11/19/2018 00:10:25.680] [ClusterSystem-akka.actor.default-dispatcher-11] [akka://ClusterSystem/user/BeamMobsim.iteration] Initialized 1003 people\n",
      "[INFO] [11/19/2018 00:10:25.680] [ClusterSystem-akka.actor.default-dispatcher-11] [akka://ClusterSystem/user/BeamMobsim.iteration] Initialized 0 personal vehicles\n",
      "[INFO] [11/19/2018 00:10:25.680] [ClusterSystem-akka.actor.default-dispatcher-11] [akka://ClusterSystem/user/BeamMobsim.iteration] Initialized 250 ride hailing agents\n",
      "[INFO] [11/19/2018 00:10:25.911] [ClusterSystem-akka.actor.default-dispatcher-11] [akka://ClusterSystem/user/BeamMobsim.iteration] Transit schedule has been initialized\n",
      "[INFO] [11/19/2018 00:10:25.911] [ClusterSystem-akka.actor.default-dispatcher-11] [akka://ClusterSystem/user/BeamMobsim.iteration] rideHailManagerTimerScheduled\n",
      "[INFO] [11/19/2018 00:10:25.912] [ClusterSystem-akka.actor.default-dispatcher-11] [akka://ClusterSystem/user/BeamMobsim.iteration] Running BEAM Mobsim\n",
      "[INFO] [11/19/2018 00:10:25.912] [ClusterSystem-akka.actor.default-dispatcher-11] [akka://ClusterSystem/user/BeamMobsim.iteration] Preparing new Iteration (End)\n",
      "[INFO] [11/19/2018 00:10:25.912] [ClusterSystem-akka.actor.default-dispatcher-11] [akka://ClusterSystem/user/BeamMobsim.iteration] Starting Agentsim\n",
      "[INFO] [11/19/2018 00:10:25.913] [ClusterSystem-akka.actor.default-dispatcher-5] [akka://ClusterSystem/user/BeamMobsim.iteration/scheduler] starting scheduler at iteration 1\n",
      "[INFO] [11/19/2018 00:10:26.717] [ClusterSystem-akka.actor.default-dispatcher-7] [akka://ClusterSystem/user/BeamMobsim.iteration/scheduler] Hour 0.5 completed. 1.0(GB)\n",
      "[INFO] [11/19/2018 00:10:26.886] [ClusterSystem-akka.actor.default-dispatcher-11] [akka://ClusterSystem/user/BeamMobsim.iteration/scheduler] Hour 1.0 completed. 1.0(GB)\n",
      "[INFO] [11/19/2018 00:10:27.215] [ClusterSystem-akka.actor.default-dispatcher-3] [akka://ClusterSystem/user/BeamMobsim.iteration/scheduler] Hour 1.5 completed. 1.1(GB)\n",
      "[INFO] [11/19/2018 00:10:27.395] [ClusterSystem-akka.actor.default-dispatcher-10] [akka://ClusterSystem/user/BeamMobsim.iteration/scheduler] Hour 2.0 completed. 1.1(GB)\n",
      "[INFO] [11/19/2018 00:10:27.664] [ClusterSystem-akka.actor.default-dispatcher-5] [akka://ClusterSystem/user/BeamMobsim.iteration/scheduler] Hour 2.5 completed. 1.2(GB)\n",
      "[INFO] [11/19/2018 00:10:27.817] [ClusterSystem-akka.actor.default-dispatcher-7] [akka://ClusterSystem/user/BeamMobsim.iteration/scheduler] Hour 3.0 completed. 1.2(GB)\n",
      "[INFO] [11/19/2018 00:10:28.095] [ClusterSystem-akka.actor.default-dispatcher-14] [akka://ClusterSystem/user/BeamMobsim.iteration/scheduler] Hour 3.5 completed. 1.3(GB)\n",
      "[INFO] [11/19/2018 00:10:28.267] [ClusterSystem-akka.actor.default-dispatcher-9] [akka://ClusterSystem/user/BeamMobsim.iteration/scheduler] Hour 4.0 completed. 1.3(GB)\n",
      "[INFO] [11/19/2018 00:10:28.566] [ClusterSystem-akka.actor.default-dispatcher-12] [akka://ClusterSystem/user/BeamMobsim.iteration/scheduler] Hour 4.5 completed. 1.4(GB)\n",
      "[INFO] [11/19/2018 00:10:28.706] [ClusterSystem-akka.actor.default-dispatcher-2] [akka://ClusterSystem/user/BeamMobsim.iteration/scheduler] Hour 5.0 completed. 1.4(GB)\n",
      "[INFO] [11/19/2018 00:10:28.957] [ClusterSystem-akka.actor.default-dispatcher-12] [akka://ClusterSystem/user/BeamMobsim.iteration/scheduler] Hour 5.5 completed. 1.4(GB)\n",
      "[INFO] [11/19/2018 00:10:29.144] [ClusterSystem-akka.actor.default-dispatcher-2] [akka://ClusterSystem/user/BeamMobsim.iteration/scheduler] Hour 6.0 completed. 1.4(GB)\n",
      "[INFO] [11/19/2018 00:10:29.426] [ClusterSystem-akka.actor.default-dispatcher-15] [akka://ClusterSystem/user/BeamMobsim.iteration/scheduler] Hour 6.5 completed. 1.5(GB)\n",
      "[INFO] [11/19/2018 00:10:35.136] [ClusterSystem-akka.actor.default-dispatcher-4] [akka://ClusterSystem/user/router/router-worker] Receiving 49.53623188405797 per seconds of RoutingRequest with first message time set to None for the next round\n",
      "[INFO] [11/19/2018 00:10:48.307] [ClusterSystem-akka.actor.default-dispatcher-10] [akka://ClusterSystem/user/BeamMobsim.iteration/scheduler] Hour 7.0 completed. 0.9(GB)\n",
      "[INFO] [11/19/2018 00:10:48.868] [ClusterSystem-akka.actor.default-dispatcher-3] [akka://ClusterSystem/user/BeamMobsim.iteration/scheduler] Hour 7.5 completed. 1.1(GB)\n",
      "[INFO] [11/19/2018 00:10:51.325] [ClusterSystem-akka.actor.default-dispatcher-3] [akka://ClusterSystem/user/BeamMobsim.iteration/scheduler] Hour 8.0 completed. 1.9(GB)\n",
      "[INFO] [11/19/2018 00:10:55.135] [ClusterSystem-akka.actor.default-dispatcher-7] [akka://ClusterSystem/user/router/router-worker] Receiving 78.5 per seconds of RoutingRequest with first message time set to Some(2018-11-19T00:10:48.407Z) for the next round\n",
      "[INFO] [11/19/2018 00:10:56.592] [ClusterSystem-akka.actor.default-dispatcher-12] [akka://ClusterSystem/user/BeamMobsim.iteration/scheduler] Hour 8.5 completed. 1.2(GB)\n",
      "[INFO] [11/19/2018 00:11:01.167] [ClusterSystem-akka.actor.default-dispatcher-5] [akka://ClusterSystem/user/BeamMobsim.iteration/scheduler] Hour 9.0 completed. 0.3(GB)\n",
      "[INFO] [11/19/2018 00:11:03.678] [ClusterSystem-akka.actor.default-dispatcher-11] [akka://ClusterSystem/user/BeamMobsim.iteration/scheduler] Hour 9.5 completed. 1.1(GB)\n",
      "[INFO] [11/19/2018 00:11:04.881] [ClusterSystem-akka.actor.default-dispatcher-11] [akka://ClusterSystem/user/BeamMobsim.iteration/scheduler] Hour 10.0 completed. 1.4(GB)\n",
      "[INFO] [11/19/2018 00:11:05.102] [ClusterSystem-akka.actor.default-dispatcher-2] [akka://ClusterSystem/user/router/router-worker] Receiving 65.9375 per seconds of RoutingRequest with first message time set to Some(2018-11-19T00:10:48.407Z) for the next round\n",
      "[INFO] [11/19/2018 00:11:05.628] [ClusterSystem-akka.actor.default-dispatcher-14] [akka://ClusterSystem/user/BeamMobsim.iteration/scheduler] Hour 10.5 completed. 1.7(GB)\n",
      "[INFO] [11/19/2018 00:11:06.347] [ClusterSystem-akka.actor.default-dispatcher-15] [akka://ClusterSystem/user/BeamMobsim.iteration/scheduler] Hour 11.0 completed. 1.9(GB)\n",
      "[INFO] [11/19/2018 00:11:06.789] [ClusterSystem-akka.actor.default-dispatcher-13] [akka://ClusterSystem/user/BeamMobsim.iteration/scheduler] Hour 11.5 completed. 2.1(GB)\n",
      "[INFO] [11/19/2018 00:11:07.455] [ClusterSystem-akka.actor.default-dispatcher-13] [akka://ClusterSystem/user/BeamMobsim.iteration/scheduler] Hour 12.0 completed. 2.3(GB)\n",
      "[INFO] [11/19/2018 00:11:08.252] [ClusterSystem-akka.actor.default-dispatcher-3] [akka://ClusterSystem/user/BeamMobsim.iteration/scheduler] Hour 12.5 completed. 2.5(GB)\n",
      "[INFO] [11/19/2018 00:11:08.911] [ClusterSystem-akka.actor.default-dispatcher-12] [akka://ClusterSystem/user/BeamMobsim.iteration/scheduler] Hour 13.0 completed. 2.7(GB)\n",
      "[INFO] [11/19/2018 00:11:09.560] [ClusterSystem-akka.actor.default-dispatcher-14] [akka://ClusterSystem/user/BeamMobsim.iteration/scheduler] Hour 13.5 completed. 2.9(GB)\n",
      "[INFO] [11/19/2018 00:11:10.246] [ClusterSystem-akka.actor.default-dispatcher-15] [akka://ClusterSystem/user/BeamMobsim.iteration/scheduler] Hour 14.0 completed. 0.4(GB)\n",
      "[INFO] [11/19/2018 00:11:10.806] [ClusterSystem-akka.actor.default-dispatcher-7] [akka://ClusterSystem/user/BeamMobsim.iteration/scheduler] Hour 14.5 completed. 0.6(GB)\n",
      "[INFO] [11/19/2018 00:11:11.373] [ClusterSystem-akka.actor.default-dispatcher-14] [akka://ClusterSystem/user/BeamMobsim.iteration/scheduler] Hour 15.0 completed. 0.7(GB)\n",
      "[INFO] [11/19/2018 00:11:12.117] [ClusterSystem-akka.actor.default-dispatcher-12] [akka://ClusterSystem/user/BeamMobsim.iteration/scheduler] Hour 15.5 completed. 1.0(GB)\n",
      "[INFO] [11/19/2018 00:11:13.335] [ClusterSystem-akka.actor.default-dispatcher-12] [akka://ClusterSystem/user/BeamMobsim.iteration/scheduler] Hour 16.0 completed. 1.3(GB)\n",
      "[INFO] [11/19/2018 00:11:14.531] [ClusterSystem-akka.actor.default-dispatcher-4] [akka://ClusterSystem/user/BeamMobsim.iteration/scheduler] Hour 16.5 completed. 1.7(GB)\n",
      "[INFO] [11/19/2018 00:11:15.102] [ClusterSystem-akka.actor.default-dispatcher-3] [akka://ClusterSystem/user/router/router-worker] Receiving 58.03846153846154 per seconds of RoutingRequest with first message time set to Some(2018-11-19T00:10:48.407Z) for the next round\n",
      "[INFO] [11/19/2018 00:11:16.036] [ClusterSystem-akka.actor.default-dispatcher-10] [akka://ClusterSystem/user/BeamMobsim.iteration/scheduler] Hour 17.0 completed. 2.1(GB)\n",
      "[INFO] [11/19/2018 00:11:18.595] [ClusterSystem-akka.actor.default-dispatcher-7] [akka://ClusterSystem/user/BeamMobsim.iteration/scheduler] Hour 17.5 completed. 0.4(GB)\n",
      "[INFO] [11/19/2018 00:11:24.172] [ClusterSystem-akka.actor.default-dispatcher-9] [akka://ClusterSystem/user/BeamMobsim.iteration/$b] Memory use after GC: 0.2(GB)\n",
      "[INFO] [11/19/2018 00:11:24.251] [ClusterSystem-akka.actor.default-dispatcher-2] [akka://ClusterSystem/user/BeamMobsim.iteration/scheduler] Hour 18.0 completed. 0.2(GB)\n",
      "[INFO] [11/19/2018 00:11:25.102] [ClusterSystem-akka.actor.default-dispatcher-2] [akka://ClusterSystem/user/router/router-worker] Receiving 56.833333333333336 per seconds of RoutingRequest with first message time set to Some(2018-11-19T00:10:48.407Z) for the next round\n",
      "[INFO] [11/19/2018 00:11:29.622] [ClusterSystem-akka.actor.default-dispatcher-9] [akka://ClusterSystem/user/BeamMobsim.iteration/scheduler] Hour 18.5 completed. 1.8(GB)\n",
      "[INFO] [11/19/2018 00:11:31.350] [ClusterSystem-akka.actor.default-dispatcher-11] [akka://ClusterSystem/user/BeamMobsim.iteration/scheduler] Hour 19.0 completed. 2.4(GB)\n",
      "[INFO] [11/19/2018 00:11:32.509] [ClusterSystem-akka.actor.default-dispatcher-3] [akka://ClusterSystem/user/BeamMobsim.iteration/scheduler] Hour 19.5 completed. 2.7(GB)\n",
      "[INFO] [11/19/2018 00:11:33.622] [ClusterSystem-akka.actor.default-dispatcher-7] [akka://ClusterSystem/user/BeamMobsim.iteration/scheduler] Hour 20.0 completed. 0.5(GB)\n",
      "[INFO] [11/19/2018 00:11:34.263] [ClusterSystem-akka.actor.default-dispatcher-11] [akka://ClusterSystem/user/BeamMobsim.iteration/scheduler] Hour 20.5 completed. 0.7(GB)\n",
      "[INFO] [11/19/2018 00:11:34.586] [ClusterSystem-akka.actor.default-dispatcher-10] [akka://ClusterSystem/user/BeamMobsim.iteration/scheduler] Hour 21.0 completed. 0.7(GB)\n",
      "[INFO] [11/19/2018 00:11:34.781] [ClusterSystem-akka.actor.default-dispatcher-7] [akka://ClusterSystem/user/BeamMobsim.iteration/scheduler] Hour 21.5 completed. 0.8(GB)\n",
      "[INFO] [11/19/2018 00:11:34.975] [ClusterSystem-akka.actor.default-dispatcher-11] [akka://ClusterSystem/user/BeamMobsim.iteration/scheduler] Hour 22.0 completed. 0.8(GB)\n",
      "[INFO] [11/19/2018 00:11:35.068] [ClusterSystem-akka.actor.default-dispatcher-11] [akka://ClusterSystem/user/router/router-worker] Receiving 52.76086956521739 per seconds of RoutingRequest with first message time set to Some(2018-11-19T00:10:48.407Z) for the next round\n",
      "[INFO] [11/19/2018 00:11:35.159] [ClusterSystem-akka.actor.default-dispatcher-15] [akka://ClusterSystem/user/BeamMobsim.iteration/scheduler] Hour 22.5 completed. 0.8(GB)\n",
      "[INFO] [11/19/2018 00:11:35.356] [ClusterSystem-akka.actor.default-dispatcher-10] [akka://ClusterSystem/user/BeamMobsim.iteration/scheduler] Hour 23.0 completed. 0.9(GB)\n",
      "[INFO] [11/19/2018 00:11:35.609] [ClusterSystem-akka.actor.default-dispatcher-9] [akka://ClusterSystem/user/BeamMobsim.iteration/scheduler] Hour 23.5 completed. 0.9(GB)\n",
      "[INFO] [11/19/2018 00:11:35.734] [ClusterSystem-akka.actor.default-dispatcher-15] [akka://ClusterSystem/user/BeamMobsim.iteration/scheduler] Hour 24.0 completed. 0.9(GB)\n",
      "[INFO] [11/19/2018 00:11:35.896] [ClusterSystem-akka.actor.default-dispatcher-4] [akka://ClusterSystem/user/BeamMobsim.iteration/scheduler] Hour 24.5 completed. 0.9(GB)\n",
      "[INFO] [11/19/2018 00:11:36.018] [ClusterSystem-akka.actor.default-dispatcher-12] [akka://ClusterSystem/user/BeamMobsim.iteration/scheduler] Hour 25.0 completed. 1.0(GB)\n",
      "[INFO] [11/19/2018 00:11:36.144] [ClusterSystem-akka.actor.default-dispatcher-2] [akka://ClusterSystem/user/BeamMobsim.iteration/scheduler] Hour 25.5 completed. 1.0(GB)\n",
      "[INFO] [11/19/2018 00:11:36.257] [ClusterSystem-akka.actor.default-dispatcher-4] [akka://ClusterSystem/user/BeamMobsim.iteration/scheduler] Hour 26.0 completed. 1.0(GB)\n",
      "[INFO] [11/19/2018 00:11:36.367] [ClusterSystem-akka.actor.default-dispatcher-11] [akka://ClusterSystem/user/BeamMobsim.iteration/scheduler] Hour 26.5 completed. 1.0(GB)\n",
      "[INFO] [11/19/2018 00:11:36.494] [ClusterSystem-akka.actor.default-dispatcher-5] [akka://ClusterSystem/user/BeamMobsim.iteration/scheduler] Hour 27.0 completed. 1.0(GB)\n",
      "[INFO] [11/19/2018 00:11:36.612] [ClusterSystem-akka.actor.default-dispatcher-5] [akka://ClusterSystem/user/BeamMobsim.iteration/scheduler] Hour 27.5 completed. 1.0(GB)\n",
      "[INFO] [11/19/2018 00:11:36.734] [ClusterSystem-akka.actor.default-dispatcher-4] [akka://ClusterSystem/user/BeamMobsim.iteration/scheduler] Hour 28.0 completed. 1.0(GB)\n",
      "[INFO] [11/19/2018 00:11:36.845] [ClusterSystem-akka.actor.default-dispatcher-5] [akka://ClusterSystem/user/BeamMobsim.iteration/scheduler] Hour 28.5 completed. 1.0(GB)\n",
      "[INFO] [11/19/2018 00:11:36.961] [ClusterSystem-akka.actor.default-dispatcher-4] [akka://ClusterSystem/user/BeamMobsim.iteration/scheduler] Hour 29.0 completed. 1.0(GB)\n",
      "[INFO] [11/19/2018 00:11:37.074] [ClusterSystem-akka.actor.default-dispatcher-9] [akka://ClusterSystem/user/BeamMobsim.iteration/scheduler] Hour 29.5 completed. 1.0(GB)\n",
      "[INFO] [11/19/2018 00:11:37.202] [ClusterSystem-akka.actor.default-dispatcher-7] [akka://ClusterSystem/user/BeamMobsim.iteration/scheduler] Hour 30.0 completed. 1.0(GB)\n",
      "[INFO] [11/19/2018 00:11:37.203] [ClusterSystem-akka.actor.default-dispatcher-3] [akka://ClusterSystem/user/BeamMobsim.iteration/scheduler] Stopping BeamAgentScheduler @ tick 108001. Iteration 1 executed in 71 seconds\n",
      "[INFO] [11/19/2018 00:11:37.241] [ClusterSystem-akka.actor.default-dispatcher-3] [akka://ClusterSystem/user/BeamMobsim.iteration/scheduler] Statistics about trigger: \n",
      " \n",
      "Type: class beam.agentsim.agents.modalbehaviors.DrivesVehicle$AlightVehicleTrigger\n",
      "Stats: numOfValues: 536, measureTimeMs: 0, [0.0, 16.0], median: 0.0, avg: 0.9123134328358209, p75: 1.0, p95: 4.0, p99: 12.0, p99.95: 16.0, p99.99: 16.0, sum: 489.0\n",
      "\n",
      "Type: class beam.agentsim.agents.modalbehaviors.DrivesVehicle$StartLegTrigger\n",
      "Stats: numOfValues: 20627, measureTimeMs: 1, [0.0, 41.0], median: 0.0, avg: 0.6536578271197945, p75: 0.0, p95: 2.0, p99: 23.0, p99.95: 29.0, p99.99: 37.49759999997332, sum: 13483.0\n",
      "\n",
      "Type: class beam.agentsim.agents.InitializeTrigger\n",
      "Stats: numOfValues: 1508, measureTimeMs: 0, [121.0, 154.0], median: 144.0, avg: 142.7473474801061, p75: 149.75, p95: 153.0, p99: 154.0, p99.95: 154.0, p99.99: 154.0, sum: 215263.0\n",
      "\n",
      "Type: class beam.agentsim.agents.modalbehaviors.DrivesVehicle$BoardVehicleTrigger\n",
      "Stats: numOfValues: 536, measureTimeMs: 0, [0.0, 8.0], median: 0.0, avg: 0.30223880597014924, p75: 0.0, p95: 2.0, p99: 6.6299999999999955, p99.95: 8.0, p99.99: 8.0, sum: 162.0\n",
      "\n",
      "Type: class beam.agentsim.agents.PersonAgent$PersonDepartureTrigger\n",
      "Stats: numOfValues: 3131, measureTimeMs: 1, [0.0, 30.0], median: 0.0, avg: 0.8706483551580965, p75: 1.0, p95: 3.0, p99: 16.0, p99.95: 30.0, p99.99: 30.0, sum: 2726.0\n",
      "\n",
      "Type: class beam.agentsim.agents.modalbehaviors.DrivesVehicle$EndLegTrigger\n",
      "Stats: numOfValues: 20627, measureTimeMs: 0, [0.0, 18599.0], median: 0.0, avg: 38.90546371260969, p75: 1.0, p95: 313.0, p99: 706.0, p99.95: 1270.488000000012, p99.99: 1347.9323999999433, sum: 802503.0\n",
      "\n",
      "Type: class beam.agentsim.agents.ridehail.RideHailManager$RideHailAllocationManagerTimeout\n",
      "Stats: numOfValues: 361, measureTimeMs: 0, [0.0, 441.0], median: 1.0, avg: 9.285318559556787, p75: 2.0, p95: 77.79999999999995, p99: 136.5999999999999, p99.95: 441.0, p99.99: 441.0, sum: 3352.0\n",
      "\n",
      "Type: class beam.agentsim.agents.ridehail.RideHailManager$BufferedRideHailRequestsTimeout\n",
      "Stats: numOfValues: 107824, measureTimeMs: 2, [0.0, 264.0], median: 0.0, avg: 0.04609363407033684, p75: 0.0, p95: 0.0, p99: 0.0, p99.95: 11.087500000008731, p99.99: 93.73999999987427, sum: 4970.0\n",
      "\n",
      "Type: class beam.agentsim.agents.PersonAgent$ActivityStartTrigger\n",
      "Stats: numOfValues: 1003, measureTimeMs: 0, [46.0, 119.0], median: 79.0, avg: 80.3678963110668, p75: 97.0, p95: 112.0, p99: 118.0, p99.95: 119.0, p99.99: 119.0, sum: 80609.0\n",
      "\n",
      "Type: class beam.agentsim.agents.PersonAgent$ActivityEndTrigger\n",
      "Stats: numOfValues: 3974, measureTimeMs: 1, [0.0, 336.0], median: 2.0, avg: 11.900603925515853, p75: 8.0, p95: 49.25, p99: 202.25, p99.95: 336.0, p99.99: 336.0, sum: 47293.0\n",
      "\n",
      "Max number of trigger messages per actor type\n",
      "\tRideHailAgent => 63\n",
      "\t\tclass beam.agentsim.agents.InitializeTrigger => 1\n",
      "\t\tclass beam.agentsim.agents.modalbehaviors.DrivesVehicle$StartLegTrigger => 31\n",
      "\t\tclass beam.agentsim.agents.modalbehaviors.DrivesVehicle$EndLegTrigger => 31\n",
      "\tRideHailManager => 108185\n",
      "\t\tclass beam.agentsim.agents.ridehail.RideHailManager$RideHailAllocationManagerTimeout => 361\n",
      "\t\tclass beam.agentsim.agents.ridehail.RideHailManager$BufferedRideHailRequestsTimeout => 107824\n",
      "\tTransitDriverAgent => 113\n",
      "\t\tclass beam.agentsim.agents.InitializeTrigger => 1\n",
      "\t\tclass beam.agentsim.agents.modalbehaviors.DrivesVehicle$StartLegTrigger => 56\n",
      "\t\tclass beam.agentsim.agents.modalbehaviors.DrivesVehicle$EndLegTrigger => 56\n",
      "\tPopulation => 171\n",
      "\t\tclass beam.agentsim.agents.PersonAgent$PersonDepartureTrigger => 14\n",
      "\t\tclass beam.agentsim.agents.InitializeTrigger => 1\n",
      "\t\tclass beam.agentsim.agents.modalbehaviors.DrivesVehicle$EndLegTrigger => 56\n",
      "\t\tclass beam.agentsim.agents.PersonAgent$ActivityStartTrigger => 1\n",
      "\t\tclass beam.agentsim.agents.modalbehaviors.DrivesVehicle$BoardVehicleTrigger => 14\n",
      "\t\tclass beam.agentsim.agents.modalbehaviors.DrivesVehicle$AlightVehicleTrigger => 14\n",
      "\t\tclass beam.agentsim.agents.PersonAgent$ActivityEndTrigger => 15\n",
      "\t\tclass beam.agentsim.agents.modalbehaviors.DrivesVehicle$StartLegTrigger => 56\n",
      "\n",
      "[INFO] [11/19/2018 00:11:37.241] [ClusterSystem-akka.actor.default-dispatcher-7] [akka://ClusterSystem/user/BeamMobsim.iteration/RideHailManager] finish message received from BeamAgentScheduler\n",
      "[INFO] [11/19/2018 00:11:37.241] [ClusterSystem-akka.actor.default-dispatcher-9] [akka://ClusterSystem/user/BeamMobsim.iteration] Scheduler is finished.\n",
      "[INFO] [11/19/2018 00:11:37.241] [ClusterSystem-akka.actor.default-dispatcher-7] [akka://ClusterSystem/user/BeamMobsim.iteration/RideHailManager] finish message received from BeamAgentScheduler\n",
      "[INFO] [11/19/2018 00:11:37.257] [ClusterSystem-akka.actor.default-dispatcher-9] [akka://ClusterSystem/user/BeamMobsim.iteration] Ending Agentsim\n",
      "[INFO] [11/19/2018 00:11:37.257] [ClusterSystem-akka.actor.default-dispatcher-9] [akka://ClusterSystem/user/BeamMobsim.iteration] Processing Agentsim Events (Start)\n",
      "[INFO] [11/19/2018 00:11:37.259] [ClusterSystem-akka.actor.default-dispatcher-13] [akka://ClusterSystem/user/BeamMobsim.iteration/scheduler] aroundPostStop. Stopping all scheduled tasks...\n",
      "[INFO] [11/19/2018 00:11:43.650] [ClusterSystem-akka.actor.default-dispatcher-10] [akka://ClusterSystem/user/router/router-worker] R5RoutingWorker_v2[759532967], Path: `akka://ClusterSystem/user/router/router-worker` UpdateTravelTimeLocal. Set new travel time\n",
      "[INFO] [11/19/2018 00:11:45.058] [ClusterSystem-akka.actor.default-dispatcher-14] [akka://ClusterSystem/user/router/router-worker] Receiving 43.464285714285715 per seconds of RoutingRequest with first message time set to Some(2018-11-19T00:10:48.407Z) for the next round\n",
      "\n",
      "\n",
      "\n",
      " -------- Submission score: -88.154 -------------- \n",
      "\n"
     ]
    }
   ],
   "source": [
    "unfinished_logs = ex.output_simulation_logs(CONTAINER_ID)"
   ]
  },
  {
   "cell_type": "code",
   "execution_count": 131,
   "metadata": {},
   "outputs": [
    {
     "data": {
      "text/plain": [
       "'ker] Receiving 43.464285714285715 per seconds of RoutingRequest with first message time set to Some(2018-11-19T00:10:48.407Z) for the next round\\n\\n\\n\\n -------- Submission score: -88.154 -------------- \\n'"
      ]
     },
     "execution_count": 131,
     "metadata": {},
     "output_type": "execute_result"
    }
   ],
   "source": [
    "unfinished_logs[-200:]"
   ]
  },
  {
   "cell_type": "code",
   "execution_count": 136,
   "metadata": {},
   "outputs": [
    {
     "data": {
      "text/plain": [
       "'salut alksjdhflkajhs'"
      ]
     },
     "execution_count": 136,
     "metadata": {},
     "output_type": "execute_result"
    }
   ],
   "source": [
    "\"salut alksjdhflkajhs\".split(\"\\n\")[-1]"
   ]
  },
  {
   "cell_type": "code",
   "execution_count": 134,
   "metadata": {},
   "outputs": [
    {
     "data": {
      "text/plain": [
       "2"
      ]
     },
     "execution_count": 134,
     "metadata": {},
     "output_type": "execute_result"
    }
   ],
   "source": [
    "len(unfinished_logs.split(sep = \"\\n\\n\\n\\n\"))"
   ]
  },
  {
   "cell_type": "code",
   "execution_count": 138,
   "metadata": {},
   "outputs": [
    {
     "data": {
      "text/plain": [
       "''"
      ]
     },
     "execution_count": 138,
     "metadata": {},
     "output_type": "execute_result"
    }
   ],
   "source": [
    "last_line_log"
   ]
  },
  {
   "cell_type": "code",
   "execution_count": 140,
   "metadata": {
    "code_folding": []
   },
   "outputs": [
    {
     "name": "stdout",
     "output_type": "stream",
     "text": [
      "True\n"
     ]
    }
   ],
   "source": [
    "last_line_log = unfinished_logs.split(\"\\n\\n\\n\\n\")[-1]\n",
    "if \"Submission score\" in last_line_log:\n",
    "    print(True)\n",
    "else: \n",
    "    print(False)"
   ]
  },
  {
   "cell_type": "code",
   "execution_count": 107,
   "metadata": {},
   "outputs": [
    {
     "ename": "KeyError",
     "evalue": "'uber1'",
     "output_type": "error",
     "traceback": [
      "\u001b[0;31m---------------------------------------------------------------------------\u001b[0m",
      "\u001b[0;31mKeyError\u001b[0m                                  Traceback (most recent call last)",
      "\u001b[0;32m<ipython-input-107-423bc2ab42b6>\u001b[0m in \u001b[0;36m<module>\u001b[0;34m()\u001b[0m\n\u001b[0;32m----> 1\u001b[0;31m \u001b[0mex\u001b[0m\u001b[0;34m.\u001b[0m\u001b[0mcontainers\u001b[0m\u001b[0;34m[\u001b[0m\u001b[0;34m\"uber1\"\u001b[0m\u001b[0;34m]\u001b[0m\u001b[0;34m.\u001b[0m\u001b[0mstatus\u001b[0m\u001b[0;34m(\u001b[0m\u001b[0;34m)\u001b[0m\u001b[0;34m\u001b[0m\u001b[0m\n\u001b[0m",
      "\u001b[0;31mKeyError\u001b[0m: 'uber1'"
     ]
    }
   ],
   "source": [
    "ex.containers[\"uber1\"].status()"
   ]
  },
  {
   "cell_type": "code",
   "execution_count": 87,
   "metadata": {},
   "outputs": [],
   "source": [
    "uber_1 = ex.containers[\"uber1\"]\n",
    "uber_2 = ex.containers[\"uber2\"]"
   ]
  },
  {
   "cell_type": "code",
   "execution_count": 144,
   "metadata": {},
   "outputs": [
    {
     "name": "stdout",
     "output_type": "stream",
     "text": [
      "1\n"
     ]
    }
   ],
   "source": [
    "from os import path\n",
    "import os\n",
    "\n",
    "path_results = path.join(uber_1.output_directory, \"competition\", \"submissionScores.txt\")\n",
    "\n",
    "if path.exists(path_results):\n",
    "    print(1)"
   ]
  },
  {
   "cell_type": "code",
   "execution_count": 104,
   "metadata": {},
   "outputs": [
    {
     "data": {
      "text/plain": [
       "'created'"
      ]
     },
     "execution_count": 104,
     "metadata": {},
     "output_type": "execute_result"
    }
   ],
   "source": [
    "uber_2.status()"
   ]
  },
  {
   "cell_type": "code",
   "execution_count": 96,
   "metadata": {},
   "outputs": [
    {
     "data": {
      "text/html": [
       "<div>\n",
       "<style scoped>\n",
       "    .dataframe tbody tr th:only-of-type {\n",
       "        vertical-align: middle;\n",
       "    }\n",
       "\n",
       "    .dataframe tbody tr th {\n",
       "        vertical-align: top;\n",
       "    }\n",
       "\n",
       "    .dataframe thead th {\n",
       "        text-align: right;\n",
       "    }\n",
       "</style>\n",
       "<table border=\"1\" class=\"dataframe\">\n",
       "  <thead>\n",
       "    <tr style=\"text-align: right;\">\n",
       "      <th></th>\n",
       "      <th>Budget: Operational Costs (Fixed)_Weight</th>\n",
       "      <th>Budget: Operational Costs (Fuel)_Weight</th>\n",
       "      <th>Budget: Operational Costs (Variable, Hourly)_Weight</th>\n",
       "      <th>Budget: Subsidies Paid_Weight</th>\n",
       "      <th>Budget: Subsidies Unpaid_Weight</th>\n",
       "      <th>Congestion: Vehicle Hours Delay_Weight</th>\n",
       "      <th>Congestion: Vehicle Miles Traveled_Weight</th>\n",
       "      <th>Level of Service: Agent Hours on Crowded Transit_Weight</th>\n",
       "      <th>Level of Service: Travel Expenditure_Weight</th>\n",
       "      <th>Submission Score_Weight</th>\n",
       "      <th>...</th>\n",
       "      <th>Budget: Operational Costs (Fixed)_Weighted Score</th>\n",
       "      <th>Budget: Operational Costs (Fuel)_Weighted Score</th>\n",
       "      <th>Budget: Operational Costs (Variable, Hourly)_Weighted Score</th>\n",
       "      <th>Budget: Subsidies Paid_Weighted Score</th>\n",
       "      <th>Budget: Subsidies Unpaid_Weighted Score</th>\n",
       "      <th>Congestion: Vehicle Hours Delay_Weighted Score</th>\n",
       "      <th>Congestion: Vehicle Miles Traveled_Weighted Score</th>\n",
       "      <th>Level of Service: Agent Hours on Crowded Transit_Weighted Score</th>\n",
       "      <th>Level of Service: Travel Expenditure_Weighted Score</th>\n",
       "      <th>Submission Score_Weighted Score</th>\n",
       "    </tr>\n",
       "  </thead>\n",
       "  <tbody>\n",
       "    <tr>\n",
       "      <th>0</th>\n",
       "      <td>0.001</td>\n",
       "      <td>0.001</td>\n",
       "      <td>0.001</td>\n",
       "      <td>0.001</td>\n",
       "      <td>0.001</td>\n",
       "      <td>0.01</td>\n",
       "      <td>0.0001</td>\n",
       "      <td>10.0</td>\n",
       "      <td>0.0001</td>\n",
       "      <td>0.0</td>\n",
       "      <td>...</td>\n",
       "      <td>0.0</td>\n",
       "      <td>0.0</td>\n",
       "      <td>0.0</td>\n",
       "      <td>0.0</td>\n",
       "      <td>0.0</td>\n",
       "      <td>-16.389992</td>\n",
       "      <td>-0.187842</td>\n",
       "      <td>-80.019444</td>\n",
       "      <td>-0.078806</td>\n",
       "      <td>-96.676085</td>\n",
       "    </tr>\n",
       "  </tbody>\n",
       "</table>\n",
       "<p>1 rows × 30 columns</p>\n",
       "</div>"
      ],
      "text/plain": [
       "   Budget: Operational Costs (Fixed)_Weight  \\\n",
       "0                                     0.001   \n",
       "\n",
       "   Budget: Operational Costs (Fuel)_Weight  \\\n",
       "0                                    0.001   \n",
       "\n",
       "   Budget: Operational Costs (Variable, Hourly)_Weight  \\\n",
       "0                                              0.001     \n",
       "\n",
       "   Budget: Subsidies Paid_Weight  Budget: Subsidies Unpaid_Weight  \\\n",
       "0                          0.001                            0.001   \n",
       "\n",
       "   Congestion: Vehicle Hours Delay_Weight  \\\n",
       "0                                    0.01   \n",
       "\n",
       "   Congestion: Vehicle Miles Traveled_Weight  \\\n",
       "0                                     0.0001   \n",
       "\n",
       "   Level of Service: Agent Hours on Crowded Transit_Weight  \\\n",
       "0                                               10.0         \n",
       "\n",
       "   Level of Service: Travel Expenditure_Weight  Submission Score_Weight  \\\n",
       "0                                       0.0001                      0.0   \n",
       "\n",
       "                ...                 \\\n",
       "0               ...                  \n",
       "\n",
       "   Budget: Operational Costs (Fixed)_Weighted Score  \\\n",
       "0                                               0.0   \n",
       "\n",
       "   Budget: Operational Costs (Fuel)_Weighted Score  \\\n",
       "0                                              0.0   \n",
       "\n",
       "   Budget: Operational Costs (Variable, Hourly)_Weighted Score  \\\n",
       "0                                                0.0             \n",
       "\n",
       "   Budget: Subsidies Paid_Weighted Score  \\\n",
       "0                                    0.0   \n",
       "\n",
       "   Budget: Subsidies Unpaid_Weighted Score  \\\n",
       "0                                      0.0   \n",
       "\n",
       "   Congestion: Vehicle Hours Delay_Weighted Score  \\\n",
       "0                                      -16.389992   \n",
       "\n",
       "   Congestion: Vehicle Miles Traveled_Weighted Score  \\\n",
       "0                                          -0.187842   \n",
       "\n",
       "   Level of Service: Agent Hours on Crowded Transit_Weighted Score  \\\n",
       "0                                         -80.019444                 \n",
       "\n",
       "   Level of Service: Travel Expenditure_Weighted Score  \\\n",
       "0                                          -0.078806     \n",
       "\n",
       "   Submission Score_Weighted Score  \n",
       "0                       -96.676085  \n",
       "\n",
       "[1 rows x 30 columns]"
      ]
     },
     "execution_count": 96,
     "metadata": {},
     "output_type": "execute_result"
    }
   ],
   "source": [
    "uber_2.score()"
   ]
  },
  {
   "cell_type": "code",
   "execution_count": 157,
   "metadata": {},
   "outputs": [],
   "source": [
    "\n",
    "# Good idea to call this at the end of any run to clean up containers (particularly if you want to reuse names)!\n",
    "ex.stop_all_simulations()"
   ]
  },
  {
   "cell_type": "code",
   "execution_count": 108,
   "metadata": {},
   "outputs": [],
   "source": [
    "a = 2"
   ]
  },
  {
   "cell_type": "code",
   "execution_count": 109,
   "metadata": {},
   "outputs": [
    {
     "data": {
      "text/plain": [
       "'2'"
      ]
     },
     "execution_count": 109,
     "metadata": {},
     "output_type": "execute_result"
    }
   ],
   "source": [
    "str(a)"
   ]
  },
  {
   "cell_type": "code",
   "execution_count": 110,
   "metadata": {},
   "outputs": [
    {
     "data": {
      "text/plain": [
       "2"
      ]
     },
     "execution_count": 110,
     "metadata": {},
     "output_type": "execute_result"
    }
   ],
   "source": [
    "a"
   ]
  },
  {
   "cell_type": "code",
   "execution_count": null,
   "metadata": {},
   "outputs": [],
   "source": []
  }
 ],
 "metadata": {
  "kernelspec": {
   "display_name": "Python 3",
   "language": "python",
   "name": "python3"
  },
  "language_info": {
   "codemirror_mode": {
    "name": "ipython",
    "version": 3
   },
   "file_extension": ".py",
   "mimetype": "text/x-python",
   "name": "python",
   "nbconvert_exporter": "python",
   "pygments_lexer": "ipython3",
   "version": "3.7.0"
  },
  "varInspector": {
   "cols": {
    "lenName": 16,
    "lenType": 16,
    "lenVar": 40
   },
   "kernels_config": {
    "python": {
     "delete_cmd_postfix": "",
     "delete_cmd_prefix": "del ",
     "library": "var_list.py",
     "varRefreshCmd": "print(var_dic_list())"
    },
    "r": {
     "delete_cmd_postfix": ") ",
     "delete_cmd_prefix": "rm(",
     "library": "var_list.r",
     "varRefreshCmd": "cat(var_dic_list()) "
    }
   },
   "types_to_exclude": [
    "module",
    "function",
    "builtin_function_or_method",
    "instance",
    "_Feature"
   ],
   "window_display": false
  }
 },
 "nbformat": 4,
 "nbformat_minor": 2
}
