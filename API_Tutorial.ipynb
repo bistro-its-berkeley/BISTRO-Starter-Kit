{
 "cells": [
  {
   "cell_type": "markdown",
   "metadata": {},
   "source": [
    "# API Tutorial"
   ]
  },
  {
   "cell_type": "markdown",
   "metadata": {},
   "source": [
    "This document aims to give a brief tutorial regarding the Python API provided to interact with the Docker environment.\n",
    "\n",
    "The modules and functions are located in the `utilities` folder of the Starter-Kit repository."
   ]
  },
  {
   "cell_type": "markdown",
   "metadata": {},
   "source": [
    "## Running competition_executor with the command line"
   ]
  },
  {
   "cell_type": "markdown",
   "metadata": {},
   "source": [
    "The `competition_executor.py` file can be run with the following syntax:\n",
    "\n",
    "`python utilities/competition_executor.py <path_input> <path_output> <n_seconds>`\n",
    "\n",
    "The three arguments are as follows:\n",
    "* `path_input`: absolute path to the submission_input directory\n",
    "* `path_output`: absolute path to an output directory of your choice. \n",
    "* `n_seconds`: Number of seconds the simulation is going to run before the program quits."
   ]
  },
  {
   "cell_type": "markdown",
   "metadata": {},
   "source": [
    "## Importing competition_executor as a module"
   ]
  },
  {
   "cell_type": "markdown",
   "metadata": {},
   "source": [
    "For users who want to import the `competition_executor` module to use in their own scripts / Jupyter notebooks, the cells below describe the steps to follow."
   ]
  },
  {
   "cell_type": "code",
   "execution_count": 1,
   "metadata": {},
   "outputs": [],
   "source": [
    "# Adding the module to the path for future import\n",
    "path_competition_executor = \"/Users/vgolfi/Documents/GitHub/Uber-Prize-Starter-Kit/utilities\"\n",
    "import sys\n",
    "import docker\n",
    "sys.path.append(path_competition_executor)\n",
    "from competition_executor import CompetitionContainerExecutor"
   ]
  },
  {
   "cell_type": "markdown",
   "metadata": {},
   "source": [
    "First, a **`CompetitionContainorExecutor` object** must be created based on an input location and an output location. <br>(Note that the definition of those two arguments is not mandatory. If not, the simulation will use the directories defined at instantiation of the `CompetitionContainorExecutor` object.)"
   ]
  },
  {
   "cell_type": "code",
   "execution_count": 2,
   "metadata": {},
   "outputs": [],
   "source": [
    "path_input = r\"/Users/vgolfi/Documents/GitHub/Uber-Prize-Starter-Kit/submission-inputs\"\n",
    "path_ouput = r\"/Users/vgolfi/Documents/GitHub/Uber-Prize-Starter-Kit/output\"\n",
    "\n",
    "ex = CompetitionContainerExecutor(input_root=path_input,\n",
    "                                  output_root=path_ouput)"
   ]
  },
  {
   "cell_type": "markdown",
   "metadata": {},
   "source": [
    "Then and before running a simulation, a **container ID** has to be defined."
   ]
  },
  {
   "cell_type": "code",
   "execution_count": 3,
   "metadata": {},
   "outputs": [],
   "source": [
    "CONTAINER_ID = 'uber1'"
   ]
  },
  {
   "cell_type": "markdown",
   "metadata": {},
   "source": [
    "Once the container id created, a simulation can be run with the following arguments:\n",
    "* `submission_id` / `container_id`: identifier of the simulation instance (will become the container name)\n",
    "* `submission_output_root`: the (absolute) path to locate simulation outputs\n",
    "* `submission_input_root`: (absolute) path where simulation inputs are located\n",
    "* `scenario_name`: which of the available scenarios will be run in the container\n",
    "* `sample_size`: available samples size (scenario dependent, see documentation).\n",
    "* `num_iterations`: number of iterations to run BEAM simulation engine.\n"
   ]
  },
  {
   "cell_type": "markdown",
   "metadata": {},
   "source": [
    "Pay attention to the fact that two docker containers with the same `CONTAINER_ID` cannot coexist. Trying to run a simulation with a `CONTAINER_ID` that already exists will raise an error.\n",
    "\n",
    "You can use either a try statement to remove an already existing container before running a new simulation:"
   ]
  },
  {
   "cell_type": "code",
   "execution_count": 4,
   "metadata": {},
   "outputs": [
    {
     "name": "stdout",
     "output_type": "stream",
     "text": [
      "Found container from previous run, removing and creating new sim container...\n"
     ]
    }
   ],
   "source": [
    "try:\n",
    "    uber = ex.client.containers.get(CONTAINER_ID)\n",
    "    uber.stop()\n",
    "    uber.remove()\n",
    "    print(\"Found container from previous run, removing and creating new sim container...\")\n",
    "except docker.errors.NotFound:\n",
    "    print(\"Creating new simulation container...\")"
   ]
  },
  {
   "cell_type": "markdown",
   "metadata": {},
   "source": [
    "Next, **run the simulation** with the following method:"
   ]
  },
  {
   "cell_type": "code",
   "execution_count": 5,
   "metadata": {},
   "outputs": [],
   "source": [
    "ex.run_simulation(CONTAINER_ID, num_iterations=1, num_cpus=10)"
   ]
  },
  {
   "cell_type": "markdown",
   "metadata": {},
   "source": [
    "Note that a dictionary indicating which containers IDs already exist can be accessed."
   ]
  },
  {
   "cell_type": "code",
   "execution_count": 6,
   "metadata": {},
   "outputs": [
    {
     "name": "stdout",
     "output_type": "stream",
     "text": [
      "Container ID : uber1\n"
     ]
    }
   ],
   "source": [
    "for key, value in ex.containers.items():\n",
    "    print(\"Container ID : {0}\".format(key))"
   ]
  },
  {
   "cell_type": "markdown",
   "metadata": {},
   "source": [
    "To see the **logs** of a specific simulation ID, write the following method:"
   ]
  },
  {
   "cell_type": "code",
   "execution_count": 8,
   "metadata": {},
   "outputs": [
    {
     "name": "stdout",
     "output_type": "stream",
     "text": [
      "02:31:10.556 DEBUG beam.utils.BeamConfigUtils$ - Loading beam config from fixed-data/siouxfalls/siouxfalls-1k.conf.\n",
      "02:31:11.680 DEBUG b.sim.config.MatSimBeamConfigBuilder - Couldn't instantiate MatsimParameters  'org.matsim.run.OldToNewPlanCalcScoreConfigGroup.ModeParams'. It doesn't have default public constructor.Falling back to setAccessible(). Cause : Class beam.sim.config.MatSimBeamConfigBuilder$$anonfun$1 can not access a member of class org.matsim.run.OldToNewPlanCalcScoreConfigGroup$ModeParams with modifiers \"\"\n",
      "02:31:11.694 DEBUG b.sim.config.MatSimBeamConfigBuilder - Couldn't instantiate MatsimParameters  'org.matsim.core.config.groups.PlanCalcScoreConfigGroup.ModeParams'. It doesn't have default public constructor.Falling back to setAccessible(). Cause : Class beam.sim.config.MatSimBeamConfigBuilder$$anonfun$1 can not access a member of class org.matsim.core.config.groups.PlanCalcScoreConfigGroup$ModeParams with modifiers \"\"\n",
      "02:31:11.817 DEBUG beam.utils.FileUtils$ - Beam output directory is: /output/siouxfalls/siouxfalls-1k__2018-11-19_02-31-11\n",
      "02:31:11.858 INFO  beam.competition.run.RunCompetition$ - Starting beam on branch master at commit HEAD.\n",
      "02:31:11.895 INFO  beam.competition.run.RunCompetition$ - Config [siouxfalls-1k] copied to /output/siouxfalls/siouxfalls-1k__2018-11-19_02-31-11/beam.conf.\n",
      "02:31:11.930 INFO  b.r.r.FrequencyAdjustingNetworkCoordinator - Initializing router by reading network from: /fixed-data/siouxfalls/r5/network.dat\n",
      "02:31:15.532 INFO  hsqldb.db.HSQLDB4AD417742A.ENGINE - dataFileCache open start\n",
      "02:31:21.628 INFO  b.sim.LoggingParallelEventsManager - Created ParallelEventsManagerImpl with hashcode: 37768026\n",
      "02:31:23.339 DEBUG beam.utils.FileUtils$ - Beam output directory is: /output/siouxfalls/siouxfalls-1k__2018-11-19_02-31-11\n",
      "[INFO] [11/19/2018 02:31:26.701] [ClusterSystem-akka.actor.default-dispatcher-4] [akka://ClusterSystem/user/router] BeamRouter: akka://ClusterSystem/user/router\n",
      "[INFO] [11/19/2018 02:31:26.724] [ClusterSystem-akka.actor.default-dispatcher-3] [akka://ClusterSystem/user/router/router-worker] R5RoutingWorker_v2[864209250] `akka://ClusterSystem/user/router/router-worker` is ready\n",
      "[INFO] [11/19/2018 02:31:26.724] [ClusterSystem-akka.actor.default-dispatcher-3] [akka://ClusterSystem/user/router/router-worker] Num of available processors: 4. Will use: 2\n",
      "[INFO] [11/19/2018 02:31:26.754] [ClusterSystem-akka.actor.default-dispatcher-3] [akka://ClusterSystem/user/router/router-worker] linkIdMap is built in 30 ms\n",
      "[INFO] [11/19/2018 02:31:28.882] [ClusterSystem-akka.actor.default-dispatcher-2] [akka://ClusterSystem/user/BeamMobsim.iteration/$b] Memory use after GC: 0.1(GB)\n",
      "[INFO] [11/19/2018 02:31:30.520] [ClusterSystem-akka.actor.default-dispatcher-9] [akka://ClusterSystem/user/BeamMobsim.iteration/population] Initialized 409 households\n",
      "[INFO] [11/19/2018 02:31:32.727] [ClusterSystem-akka.actor.default-dispatcher-4] [akka://ClusterSystem/user/BeamMobsim.iteration] Initialized 1003 people\n",
      "[INFO] [11/19/2018 02:31:32.727] [ClusterSystem-akka.actor.default-dispatcher-4] [akka://ClusterSystem/user/BeamMobsim.iteration] Initialized 0 personal vehicles\n",
      "[INFO] [11/19/2018 02:31:32.727] [ClusterSystem-akka.actor.default-dispatcher-4] [akka://ClusterSystem/user/BeamMobsim.iteration] Initialized 250 ride hailing agents\n",
      "[INFO] [11/19/2018 02:31:33.720] [ClusterSystem-akka.actor.default-dispatcher-4] [akka://ClusterSystem/user/BeamMobsim.iteration] Transit schedule has been initialized\n",
      "[INFO] [11/19/2018 02:31:33.724] [ClusterSystem-akka.actor.default-dispatcher-4] [akka://ClusterSystem/user/BeamMobsim.iteration] rideHailManagerTimerScheduled\n",
      "[INFO] [11/19/2018 02:31:33.727] [ClusterSystem-akka.actor.default-dispatcher-4] [akka://ClusterSystem/user/BeamMobsim.iteration] Running BEAM Mobsim\n",
      "[INFO] [11/19/2018 02:31:33.727] [ClusterSystem-akka.actor.default-dispatcher-4] [akka://ClusterSystem/user/BeamMobsim.iteration] Preparing new Iteration (End)\n",
      "[INFO] [11/19/2018 02:31:33.727] [ClusterSystem-akka.actor.default-dispatcher-4] [akka://ClusterSystem/user/BeamMobsim.iteration] Starting Agentsim\n",
      "[INFO] [11/19/2018 02:31:33.728] [ClusterSystem-akka.actor.default-dispatcher-11] [akka://ClusterSystem/user/BeamMobsim.iteration/scheduler] starting scheduler at iteration 0\n",
      "[INFO] [11/19/2018 02:31:36.538] [ClusterSystem-akka.actor.default-dispatcher-13] [akka://ClusterSystem/user/BeamMobsim.iteration/scheduler] Hour 0.5 completed. 0.3(GB)\n",
      "[INFO] [11/19/2018 02:31:36.794] [ClusterSystem-akka.actor.default-dispatcher-12] [akka://ClusterSystem/user/BeamMobsim.iteration/scheduler] Hour 1.0 completed. 0.3(GB)\n",
      "[INFO] [11/19/2018 02:31:37.245] [ClusterSystem-akka.actor.default-dispatcher-13] [akka://ClusterSystem/user/BeamMobsim.iteration/scheduler] Hour 1.5 completed. 0.3(GB)\n",
      "[INFO] [11/19/2018 02:31:37.498] [ClusterSystem-akka.actor.default-dispatcher-4] [akka://ClusterSystem/user/BeamMobsim.iteration/scheduler] Hour 2.0 completed. 0.4(GB)\n",
      "[INFO] [11/19/2018 02:31:37.924] [ClusterSystem-akka.actor.default-dispatcher-4] [akka://ClusterSystem/user/BeamMobsim.iteration/scheduler] Hour 2.5 completed. 0.5(GB)\n",
      "[INFO] [11/19/2018 02:31:38.130] [ClusterSystem-akka.actor.default-dispatcher-2] [akka://ClusterSystem/user/BeamMobsim.iteration/scheduler] Hour 3.0 completed. 0.5(GB)\n",
      "[INFO] [11/19/2018 02:31:38.591] [ClusterSystem-akka.actor.default-dispatcher-9] [akka://ClusterSystem/user/BeamMobsim.iteration/scheduler] Hour 3.5 completed. 0.6(GB)\n",
      "[INFO] [11/19/2018 02:31:38.707] [ClusterSystem-akka.actor.default-dispatcher-4] [akka://ClusterSystem/user/router/router-worker] Receiving 62.0 per seconds of RoutingRequest with first message time set to Some(2018-11-19T02:31:34.279Z) for the next round\n",
      "[INFO] [11/19/2018 02:31:38.759] [ClusterSystem-akka.actor.default-dispatcher-2] [akka://ClusterSystem/user/BeamMobsim.iteration/scheduler] Hour 4.0 completed. 0.6(GB)\n",
      "[INFO] [11/19/2018 02:31:39.047] [ClusterSystem-akka.actor.default-dispatcher-13] [akka://ClusterSystem/user/BeamMobsim.iteration/scheduler] Hour 4.5 completed. 0.7(GB)\n",
      "[INFO] [11/19/2018 02:31:39.196] [ClusterSystem-akka.actor.default-dispatcher-4] [akka://ClusterSystem/user/BeamMobsim.iteration/scheduler] Hour 5.0 completed. 0.7(GB)\n",
      "[INFO] [11/19/2018 02:31:39.517] [ClusterSystem-akka.actor.default-dispatcher-5] [akka://ClusterSystem/user/BeamMobsim.iteration/scheduler] Hour 5.5 completed. 0.7(GB)\n",
      "[INFO] [11/19/2018 02:31:39.748] [ClusterSystem-akka.actor.default-dispatcher-7] [akka://ClusterSystem/user/BeamMobsim.iteration/scheduler] Hour 6.0 completed. 0.8(GB)\n",
      "[INFO] [11/19/2018 02:31:40.077] [ClusterSystem-akka.actor.default-dispatcher-5] [akka://ClusterSystem/user/BeamMobsim.iteration/scheduler] Hour 6.5 completed. 0.9(GB)\n",
      "[INFO] [11/19/2018 02:31:48.706] [ClusterSystem-akka.actor.default-dispatcher-6] [akka://ClusterSystem/user/router/router-worker] Receiving 18.0 per seconds of RoutingRequest with first message time set to Some(2018-11-19T02:31:34.279Z) for the next round\n",
      "[INFO] [11/19/2018 02:31:57.507] [ClusterSystem-akka.actor.default-dispatcher-2] [akka://ClusterSystem/user/BeamMobsim.iteration/scheduler] Hour 7.0 completed. 1.0(GB)\n",
      "[INFO] [11/19/2018 02:31:58.705] [ClusterSystem-akka.actor.default-dispatcher-5] [akka://ClusterSystem/user/router/router-worker] Receiving 14.833333333333334 per seconds of RoutingRequest with first message time set to Some(2018-11-19T02:31:34.279Z) for the next round\n",
      "[INFO] [11/19/2018 02:31:58.932] [ClusterSystem-akka.actor.default-dispatcher-4] [akka://ClusterSystem/user/BeamMobsim.iteration/scheduler] Hour 7.5 completed. 0.2(GB)\n",
      "[INFO] [11/19/2018 02:32:04.626] [ClusterSystem-akka.actor.default-dispatcher-6] [akka://ClusterSystem/user/BeamMobsim.iteration/scheduler] Hour 8.0 completed. 1.0(GB)\n",
      "[INFO] [11/19/2018 02:32:08.673] [ClusterSystem-akka.actor.default-dispatcher-6] [akka://ClusterSystem/user/router/router-worker] Receiving 50.85294117647059 per seconds of RoutingRequest with first message time set to Some(2018-11-19T02:31:34.279Z) for the next round\n",
      "[INFO] [11/19/2018 02:32:13.340] [ClusterSystem-akka.actor.default-dispatcher-4] [akka://ClusterSystem/user/router/TransitDriverAgent-siouxareametro-sd-us:t_75367_b_219_tn_1] Message [beam.agentsim.agents.vehicles.ReservationRequest] from Actor[akka://ClusterSystem/user/BeamMobsim.iteration/population/201-2014000990658-0/201-2014000990658-081465#1939333008] to Actor[akka://ClusterSystem/user/router/TransitDriverAgent-siouxareametro-sd-us:t_75367_b_219_tn_1] was not delivered. [1] dead letters encountered. If this is not an expected behavior, then [Actor[akka://ClusterSystem/user/router/TransitDriverAgent-siouxareametro-sd-us:t_75367_b_219_tn_1]] may have terminated unexpectedly, This logging can be turned off or adjusted with configuration settings 'akka.log-dead-letters' and 'akka.log-dead-letters-during-shutdown'.\n",
      "[WARN] [11/19/2018 02:32:13.344] [ClusterSystem-akka.actor.default-dispatcher-3] [akka://ClusterSystem/user/BeamMobsim.iteration/$a] Person Actor[akka://ClusterSystem/user/BeamMobsim.iteration/population/201-2014000990658-0/201-2014000990658-081465#1939333008] attempted to reserve ride with agent Actor[akka://ClusterSystem/user/router/TransitDriverAgent-siouxareametro-sd-us:t_75367_b_219_tn_1] that was not found, message sent to dead letters.\n",
      "[INFO] [11/19/2018 02:32:18.673] [ClusterSystem-akka.actor.default-dispatcher-3] [akka://ClusterSystem/user/router/router-worker] Receiving 56.31818181818182 per seconds of RoutingRequest with first message time set to Some(2018-11-19T02:31:34.279Z) for the next round\n",
      "[INFO] [11/19/2018 02:32:20.278] [ClusterSystem-akka.actor.default-dispatcher-11] [akka://ClusterSystem/user/BeamMobsim.iteration/scheduler] Hour 8.5 completed. 0.3(GB)\n",
      "[INFO] [11/19/2018 02:32:25.410] [ClusterSystem-akka.actor.default-dispatcher-8] [akka://ClusterSystem/user/BeamMobsim.iteration/scheduler] Hour 9.0 completed. 1.3(GB)\n",
      "[INFO] [11/19/2018 02:32:27.644] [ClusterSystem-akka.actor.default-dispatcher-9] [akka://ClusterSystem/user/BeamMobsim.iteration/scheduler] Hour 9.5 completed. 0.5(GB)\n",
      "[INFO] [11/19/2018 02:32:28.474] [ClusterSystem-akka.actor.default-dispatcher-2] [akka://ClusterSystem/user/BeamMobsim.iteration/scheduler] Hour 10.0 completed. 0.8(GB)\n",
      "[INFO] [11/19/2018 02:32:28.639] [ClusterSystem-akka.actor.default-dispatcher-6] [akka://ClusterSystem/user/router/router-worker] Receiving 71.31481481481481 per seconds of RoutingRequest with first message time set to Some(2018-11-19T02:31:34.279Z) for the next round\n",
      "[INFO] [11/19/2018 02:32:29.573] [ClusterSystem-akka.actor.default-dispatcher-11] [akka://ClusterSystem/user/BeamMobsim.iteration/$b] Memory use after GC: 0.1(GB)\n",
      "[INFO] [11/19/2018 02:32:29.990] [ClusterSystem-akka.actor.default-dispatcher-9] [akka://ClusterSystem/user/BeamMobsim.iteration/scheduler] Hour 10.5 completed. 0.3(GB)\n",
      "[INFO] [11/19/2018 02:32:30.660] [ClusterSystem-akka.actor.default-dispatcher-3] [akka://ClusterSystem/user/BeamMobsim.iteration/scheduler] Hour 11.0 completed. 0.7(GB)\n",
      "[INFO] [11/19/2018 02:32:31.295] [ClusterSystem-akka.actor.default-dispatcher-12] [akka://ClusterSystem/user/BeamMobsim.iteration/scheduler] Hour 11.5 completed. 1.0(GB)\n",
      "[INFO] [11/19/2018 02:32:31.948] [ClusterSystem-akka.actor.default-dispatcher-5] [akka://ClusterSystem/user/BeamMobsim.iteration/scheduler] Hour 12.0 completed. 1.4(GB)\n",
      "[INFO] [11/19/2018 02:32:32.729] [ClusterSystem-akka.actor.default-dispatcher-9] [akka://ClusterSystem/user/BeamMobsim.iteration/scheduler] Hour 12.5 completed. 1.7(GB)\n",
      "[INFO] [11/19/2018 02:32:33.683] [ClusterSystem-akka.actor.default-dispatcher-2] [akka://ClusterSystem/user/BeamMobsim.iteration/scheduler] Hour 13.0 completed. 0.4(GB)\n",
      "[INFO] [11/19/2018 02:32:34.534] [ClusterSystem-akka.actor.default-dispatcher-11] [akka://ClusterSystem/user/BeamMobsim.iteration/scheduler] Hour 13.5 completed. 0.6(GB)\n",
      "[INFO] [11/19/2018 02:32:35.363] [ClusterSystem-akka.actor.default-dispatcher-8] [akka://ClusterSystem/user/BeamMobsim.iteration/scheduler] Hour 14.0 completed. 1.0(GB)\n",
      "[INFO] [11/19/2018 02:32:35.967] [ClusterSystem-akka.actor.default-dispatcher-8] [akka://ClusterSystem/user/BeamMobsim.iteration/scheduler] Hour 14.5 completed. 1.4(GB)\n",
      "[INFO] [11/19/2018 02:32:36.815] [ClusterSystem-akka.actor.default-dispatcher-11] [akka://ClusterSystem/user/BeamMobsim.iteration/scheduler] Hour 15.0 completed. 1.7(GB)\n",
      "[INFO] [11/19/2018 02:32:37.963] [ClusterSystem-akka.actor.default-dispatcher-7] [akka://ClusterSystem/user/BeamMobsim.iteration/scheduler] Hour 15.5 completed. 0.4(GB)\n",
      "[INFO] [11/19/2018 02:32:38.639] [ClusterSystem-akka.actor.default-dispatcher-2] [akka://ClusterSystem/user/router/router-worker] Receiving 79.296875 per seconds of RoutingRequest with first message time set to None for the next round\n",
      "[INFO] [11/19/2018 02:32:39.144] [ClusterSystem-akka.actor.default-dispatcher-11] [akka://ClusterSystem/user/BeamMobsim.iteration/scheduler] Hour 16.0 completed. 0.8(GB)\n",
      "[INFO] [11/19/2018 02:32:40.991] [ClusterSystem-akka.actor.default-dispatcher-4] [akka://ClusterSystem/user/BeamMobsim.iteration/scheduler] Hour 16.5 completed. 1.4(GB)\n",
      "[INFO] [11/19/2018 02:32:42.989] [ClusterSystem-akka.actor.default-dispatcher-2] [akka://ClusterSystem/user/BeamMobsim.iteration/scheduler] Hour 17.0 completed. 0.5(GB)\n",
      "[INFO] [11/19/2018 02:32:47.125] [ClusterSystem-akka.actor.default-dispatcher-13] [akka://ClusterSystem/user/BeamMobsim.iteration/scheduler] Hour 17.5 completed. 0.4(GB)\n",
      "[INFO] [11/19/2018 02:32:48.639] [ClusterSystem-akka.actor.default-dispatcher-5] [akka://ClusterSystem/user/router/router-worker] Receiving 110.22222222222223 per seconds of RoutingRequest with first message time set to Some(2018-11-19T02:32:38.721Z) for the next round\n",
      "[INFO] [11/19/2018 02:32:53.325] [ClusterSystem-akka.actor.default-dispatcher-2] [akka://ClusterSystem/user/BeamMobsim.iteration/scheduler] Hour 18.0 completed. 1.0(GB)\n",
      "[INFO] [11/19/2018 02:32:58.055] [ClusterSystem-akka.actor.default-dispatcher-8] [akka://ClusterSystem/user/BeamMobsim.iteration/scheduler] Hour 18.5 completed. 1.1(GB)\n",
      "[INFO] [11/19/2018 02:32:58.605] [ClusterSystem-akka.actor.default-dispatcher-9] [akka://ClusterSystem/user/router/router-worker] Receiving 98.26315789473684 per seconds of RoutingRequest with first message time set to Some(2018-11-19T02:32:38.721Z) for the next round\n",
      "[INFO] [11/19/2018 02:32:59.368] [ClusterSystem-akka.actor.default-dispatcher-5] [akka://ClusterSystem/user/BeamMobsim.iteration/scheduler] Hour 19.0 completed. 1.5(GB)\n",
      "[INFO] [11/19/2018 02:33:00.365] [ClusterSystem-akka.actor.default-dispatcher-4] [akka://ClusterSystem/user/BeamMobsim.iteration/scheduler] Hour 19.5 completed. 0.3(GB)\n",
      "[INFO] [11/19/2018 02:33:01.554] [ClusterSystem-akka.actor.default-dispatcher-4] [akka://ClusterSystem/user/BeamMobsim.iteration/scheduler] Hour 20.0 completed. 0.6(GB)\n",
      "[INFO] [11/19/2018 02:33:02.602] [ClusterSystem-akka.actor.default-dispatcher-10] [akka://ClusterSystem/user/BeamMobsim.iteration/scheduler] Hour 20.5 completed. 0.8(GB)\n",
      "[INFO] [11/19/2018 02:33:02.984] [ClusterSystem-akka.actor.default-dispatcher-6] [akka://ClusterSystem/user/BeamMobsim.iteration/scheduler] Hour 21.0 completed. 0.9(GB)\n",
      "[INFO] [11/19/2018 02:33:03.294] [ClusterSystem-akka.actor.default-dispatcher-10] [akka://ClusterSystem/user/BeamMobsim.iteration/scheduler] Hour 21.5 completed. 0.9(GB)\n",
      "[INFO] [11/19/2018 02:33:03.482] [ClusterSystem-akka.actor.default-dispatcher-2] [akka://ClusterSystem/user/BeamMobsim.iteration/scheduler] Hour 22.0 completed. 1.0(GB)\n",
      "[INFO] [11/19/2018 02:33:03.936] [ClusterSystem-akka.actor.default-dispatcher-5] [akka://ClusterSystem/user/BeamMobsim.iteration/scheduler] Hour 22.5 completed. 1.0(GB)\n",
      "[INFO] [11/19/2018 02:33:04.130] [ClusterSystem-akka.actor.default-dispatcher-11] [akka://ClusterSystem/user/BeamMobsim.iteration/scheduler] Hour 23.0 completed. 1.0(GB)\n",
      "[INFO] [11/19/2018 02:33:04.359] [ClusterSystem-akka.actor.default-dispatcher-5] [akka://ClusterSystem/user/BeamMobsim.iteration/scheduler] Hour 23.5 completed. 1.0(GB)\n",
      "[INFO] [11/19/2018 02:33:04.475] [ClusterSystem-akka.actor.default-dispatcher-7] [akka://ClusterSystem/user/BeamMobsim.iteration/scheduler] Hour 24.0 completed. 1.0(GB)\n",
      "[INFO] [11/19/2018 02:33:04.607] [ClusterSystem-akka.actor.default-dispatcher-6] [akka://ClusterSystem/user/BeamMobsim.iteration/scheduler] Hour 24.5 completed. 1.0(GB)\n",
      "[INFO] [11/19/2018 02:33:04.721] [ClusterSystem-akka.actor.default-dispatcher-6] [akka://ClusterSystem/user/BeamMobsim.iteration/scheduler] Hour 25.0 completed. 1.0(GB)\n",
      "[INFO] [11/19/2018 02:33:04.844] [ClusterSystem-akka.actor.default-dispatcher-13] [akka://ClusterSystem/user/BeamMobsim.iteration/scheduler] Hour 25.5 completed. 1.0(GB)\n",
      "[INFO] [11/19/2018 02:33:04.995] [ClusterSystem-akka.actor.default-dispatcher-7] [akka://ClusterSystem/user/BeamMobsim.iteration/scheduler] Hour 26.0 completed. 1.0(GB)\n",
      "[INFO] [11/19/2018 02:33:05.114] [ClusterSystem-akka.actor.default-dispatcher-8] [akka://ClusterSystem/user/BeamMobsim.iteration/scheduler] Hour 26.5 completed. 1.1(GB)\n",
      "[INFO] [11/19/2018 02:33:05.226] [ClusterSystem-akka.actor.default-dispatcher-13] [akka://ClusterSystem/user/BeamMobsim.iteration/scheduler] Hour 27.0 completed. 1.1(GB)\n",
      "[INFO] [11/19/2018 02:33:05.360] [ClusterSystem-akka.actor.default-dispatcher-4] [akka://ClusterSystem/user/BeamMobsim.iteration/scheduler] Hour 27.5 completed. 1.1(GB)\n",
      "[INFO] [11/19/2018 02:33:05.491] [ClusterSystem-akka.actor.default-dispatcher-9] [akka://ClusterSystem/user/BeamMobsim.iteration/scheduler] Hour 28.0 completed. 1.1(GB)\n",
      "[INFO] [11/19/2018 02:33:05.619] [ClusterSystem-akka.actor.default-dispatcher-2] [akka://ClusterSystem/user/BeamMobsim.iteration/scheduler] Hour 28.5 completed. 1.1(GB)\n",
      "[INFO] [11/19/2018 02:33:05.728] [ClusterSystem-akka.actor.default-dispatcher-6] [akka://ClusterSystem/user/BeamMobsim.iteration/scheduler] Hour 29.0 completed. 1.1(GB)\n",
      "[INFO] [11/19/2018 02:33:05.852] [ClusterSystem-akka.actor.default-dispatcher-7] [akka://ClusterSystem/user/BeamMobsim.iteration/scheduler] Hour 29.5 completed. 1.1(GB)\n",
      "[INFO] [11/19/2018 02:33:06.004] [ClusterSystem-akka.actor.default-dispatcher-9] [akka://ClusterSystem/user/BeamMobsim.iteration/scheduler] Hour 30.0 completed. 1.1(GB)\n",
      "[INFO] [11/19/2018 02:33:06.004] [ClusterSystem-akka.actor.default-dispatcher-9] [akka://ClusterSystem/user/BeamMobsim.iteration/scheduler] Stopping BeamAgentScheduler @ tick 108001. Iteration 0 executed in 92 seconds\n",
      "[INFO] [11/19/2018 02:33:06.156] [ClusterSystem-akka.actor.default-dispatcher-9] [akka://ClusterSystem/user/BeamMobsim.iteration/scheduler] Statistics about trigger: \n",
      " \n",
      "Type: class beam.agentsim.agents.modalbehaviors.DrivesVehicle$AlightVehicleTrigger\n",
      "Stats: numOfValues: 590, measureTimeMs: 33, [0.0, 47.0], median: 0.0, avg: 1.0016949152542374, p75: 1.0, p95: 4.0, p99: 23.0, p99.95: 47.0, p99.99: 47.0, sum: 591.0\n",
      "\n",
      "Type: class beam.agentsim.agents.ridehail.RideHailManager$RideHailAllocationManagerTimeout\n",
      "Stats: numOfValues: 361, measureTimeMs: 0, [0.0, 1969.0], median: 0.0, avg: 15.227146814404431, p75: 1.0, p95: 95.59999999999991, p99: 228.79999999999995, p99.95: 1969.0, p99.99: 1969.0, sum: 5497.0\n",
      "\n",
      "Type: class beam.agentsim.agents.modalbehaviors.DrivesVehicle$EndLegTrigger\n",
      "Stats: numOfValues: 20635, measureTimeMs: 18, [0.0, 16519.0], median: 0.0, avg: 62.147564817058395, p75: 1.0, p95: 477.0, p99: 1165.9199999999983, p99.95: 2378.7780000000203, p99.99: 2537.6643999999724, sum: 1282415.0\n",
      "\n",
      "Type: class beam.agentsim.agents.ridehail.RideHailManager$BufferedRideHailRequestsTimeout\n",
      "Stats: numOfValues: 107824, measureTimeMs: 29, [0.0, 624.0], median: 0.0, avg: 0.06842632438047189, p75: 0.0, p95: 0.0, p99: 1.0, p99.95: 20.0, p99.99: 138.0, sum: 7378.0\n",
      "\n",
      "Type: class beam.agentsim.agents.PersonAgent$ActivityEndTrigger\n",
      "Stats: numOfValues: 3974, measureTimeMs: 2, [0.0, 1987.0], median: 15.0, avg: 159.16456970306996, p75: 69.0, p95: 1098.5, p99: 1579.25, p99.95: 1985.0250000000005, p99.99: 1987.0, sum: 632520.0\n",
      "\n",
      "Type: class beam.agentsim.agents.modalbehaviors.DrivesVehicle$StartLegTrigger\n",
      "Stats: numOfValues: 20635, measureTimeMs: 5, [0.0, 201.0], median: 0.0, avg: 2.468185122364914, p75: 0.0, p95: 2.0, p99: 153.0, p99.95: 200.0, p99.99: 201.0, sum: 50931.0\n",
      "\n",
      "Type: class beam.agentsim.agents.modalbehaviors.DrivesVehicle$BoardVehicleTrigger\n",
      "Stats: numOfValues: 590, measureTimeMs: 1, [0.0, 48.0], median: 0.0, avg: 0.45084745762711864, p75: 0.0, p95: 2.0, p99: 9.360000000000127, p99.95: 48.0, p99.99: 48.0, sum: 266.0\n",
      "\n",
      "Type: class beam.agentsim.agents.PersonAgent$PersonDepartureTrigger\n",
      "Stats: numOfValues: 3138, measureTimeMs: 1, [0.0, 59.0], median: 0.0, avg: 1.061504142766093, p75: 0.0, p95: 4.0, p99: 22.610000000000127, p99.95: 52.166000000004715, p99.99: 59.0, sum: 3331.0\n",
      "\n",
      "Type: class beam.agentsim.agents.InitializeTrigger\n",
      "Stats: numOfValues: 1508, measureTimeMs: 0, [357.0, 578.0], median: 513.0, avg: 494.3786472148541, p75: 538.0, p95: 543.0, p99: 547.9100000000001, p99.95: 578.0, p99.99: 578.0, sum: 745523.0\n",
      "\n",
      "Type: class beam.agentsim.agents.PersonAgent$ActivityStartTrigger\n",
      "Stats: numOfValues: 1003, measureTimeMs: 0, [152.0, 365.0], median: 233.0, avg: 225.99202392821536, p75: 270.0, p95: 285.0, p99: 328.8800000000001, p99.95: 365.0, p99.99: 365.0, sum: 226670.0\n",
      "\n",
      "Max number of trigger messages per actor type\n",
      "\tRideHailAgent => 73\n",
      "\t\tclass beam.agentsim.agents.modalbehaviors.DrivesVehicle$EndLegTrigger => 36\n",
      "\t\tclass beam.agentsim.agents.modalbehaviors.DrivesVehicle$StartLegTrigger => 36\n",
      "\t\tclass beam.agentsim.agents.InitializeTrigger => 1\n",
      "\tRideHailManager => 108185\n",
      "\t\tclass beam.agentsim.agents.ridehail.RideHailManager$RideHailAllocationManagerTimeout => 361\n",
      "\t\tclass beam.agentsim.agents.ridehail.RideHailManager$BufferedRideHailRequestsTimeout => 107824\n",
      "\tTransitDriverAgent => 113\n",
      "\t\tclass beam.agentsim.agents.modalbehaviors.DrivesVehicle$EndLegTrigger => 56\n",
      "\t\tclass beam.agentsim.agents.modalbehaviors.DrivesVehicle$StartLegTrigger => 56\n",
      "\t\tclass beam.agentsim.agents.InitializeTrigger => 1\n",
      "\tPopulation => 174\n",
      "\t\tclass beam.agentsim.agents.modalbehaviors.DrivesVehicle$EndLegTrigger => 56\n",
      "\t\tclass beam.agentsim.agents.PersonAgent$ActivityStartTrigger => 1\n",
      "\t\tclass beam.agentsim.agents.PersonAgent$PersonDepartureTrigger => 17\n",
      "\t\tclass beam.agentsim.agents.PersonAgent$ActivityEndTrigger => 15\n",
      "\t\tclass beam.agentsim.agents.InitializeTrigger => 1\n",
      "\t\tclass beam.agentsim.agents.modalbehaviors.DrivesVehicle$StartLegTrigger => 56\n",
      "\t\tclass beam.agentsim.agents.modalbehaviors.DrivesVehicle$BoardVehicleTrigger => 14\n",
      "\t\tclass beam.agentsim.agents.modalbehaviors.DrivesVehicle$AlightVehicleTrigger => 14\n",
      "\n",
      "[INFO] [11/19/2018 02:33:06.160] [ClusterSystem-akka.actor.default-dispatcher-2] [akka://ClusterSystem/user/BeamMobsim.iteration] Scheduler is finished.\n",
      "[INFO] [11/19/2018 02:33:06.161] [ClusterSystem-akka.actor.default-dispatcher-2] [akka://ClusterSystem/user/BeamMobsim.iteration] Ending Agentsim\n",
      "[INFO] [11/19/2018 02:33:06.161] [ClusterSystem-akka.actor.default-dispatcher-2] [akka://ClusterSystem/user/BeamMobsim.iteration] Processing Agentsim Events (Start)\n",
      "[INFO] [11/19/2018 02:33:06.162] [ClusterSystem-akka.actor.default-dispatcher-8] [akka://ClusterSystem/user/BeamMobsim.iteration/RideHailManager] finish message received from BeamAgentScheduler\n",
      "[INFO] [11/19/2018 02:33:06.163] [ClusterSystem-akka.actor.default-dispatcher-8] [akka://ClusterSystem/user/BeamMobsim.iteration/RideHailManager] finish message received from BeamAgentScheduler\n",
      "[INFO] [11/19/2018 02:33:06.176] [ClusterSystem-akka.actor.default-dispatcher-7] [akka://ClusterSystem/user/BeamMobsim.iteration/scheduler] aroundPostStop. Stopping all scheduled tasks...\n",
      "[INFO] [11/19/2018 02:33:08.605] [ClusterSystem-akka.actor.default-dispatcher-10] [akka://ClusterSystem/user/router/router-worker] Receiving 74.55172413793103 per seconds of RoutingRequest with first message time set to Some(2018-11-19T02:32:38.721Z) for the next round\n",
      "\n"
     ]
    }
   ],
   "source": [
    "logs = ex.output_simulation_logs(CONTAINER_ID)"
   ]
  },
  {
   "cell_type": "markdown",
   "metadata": {},
   "source": [
    "Submissions run for a certain amount of time. If you interrupt it before the end, you will not get any outputs. You can **check if a submission is finished** with the following method:"
   ]
  },
  {
   "cell_type": "code",
   "execution_count": 27,
   "metadata": {},
   "outputs": [
    {
     "data": {
      "text/plain": [
       "True"
      ]
     },
     "execution_count": 27,
     "metadata": {},
     "output_type": "execute_result"
    }
   ],
   "source": [
    "ex.check_if_submission_complete(CONTAINER_ID)"
   ]
  },
  {
   "cell_type": "markdown",
   "metadata": {},
   "source": [
    "When a simulation run is done, you can import the **results** of the specified simulation name."
   ]
  },
  {
   "cell_type": "code",
   "execution_count": 28,
   "metadata": {},
   "outputs": [],
   "source": [
    "scores, stats = ex.get_submission_scores_and_stats(CONTAINER_ID)"
   ]
  },
  {
   "cell_type": "markdown",
   "metadata": {},
   "source": [
    "The **scores** and **statistics** are stored in pandas dataframes which contains the information described [here](https://github.com/vgolfier/Uber-Prize-Starter-Kit/blob/master/docs/Understanding_the_outputs_and_the%20scoring_function.md)."
   ]
  },
  {
   "cell_type": "code",
   "execution_count": 29,
   "metadata": {},
   "outputs": [
    {
     "data": {
      "text/html": [
       "<div>\n",
       "<style scoped>\n",
       "    .dataframe tbody tr th:only-of-type {\n",
       "        vertical-align: middle;\n",
       "    }\n",
       "\n",
       "    .dataframe tbody tr th {\n",
       "        vertical-align: top;\n",
       "    }\n",
       "\n",
       "    .dataframe thead th {\n",
       "        text-align: right;\n",
       "    }\n",
       "</style>\n",
       "<table border=\"1\" class=\"dataframe\">\n",
       "  <thead>\n",
       "    <tr style=\"text-align: right;\">\n",
       "      <th></th>\n",
       "      <th>Budget: Operational Costs (Fixed)_Weight</th>\n",
       "      <th>Budget: Operational Costs (Fuel)_Weight</th>\n",
       "      <th>Budget: Operational Costs (Variable, Hourly)_Weight</th>\n",
       "      <th>Budget: Subsidies Paid_Weight</th>\n",
       "      <th>Budget: Subsidies Unpaid_Weight</th>\n",
       "      <th>Congestion: Vehicle Hours Delay_Weight</th>\n",
       "      <th>Congestion: Vehicle Miles Traveled_Weight</th>\n",
       "      <th>Level of Service: Agent Hours on Crowded Transit_Weight</th>\n",
       "      <th>Level of Service: Travel Expenditure_Weight</th>\n",
       "      <th>Submission Score_Weight</th>\n",
       "      <th>...</th>\n",
       "      <th>Budget: Operational Costs (Fixed)_Weighted Score</th>\n",
       "      <th>Budget: Operational Costs (Fuel)_Weighted Score</th>\n",
       "      <th>Budget: Operational Costs (Variable, Hourly)_Weighted Score</th>\n",
       "      <th>Budget: Subsidies Paid_Weighted Score</th>\n",
       "      <th>Budget: Subsidies Unpaid_Weighted Score</th>\n",
       "      <th>Congestion: Vehicle Hours Delay_Weighted Score</th>\n",
       "      <th>Congestion: Vehicle Miles Traveled_Weighted Score</th>\n",
       "      <th>Level of Service: Agent Hours on Crowded Transit_Weighted Score</th>\n",
       "      <th>Level of Service: Travel Expenditure_Weighted Score</th>\n",
       "      <th>Submission Score_Weighted Score</th>\n",
       "    </tr>\n",
       "  </thead>\n",
       "  <tbody>\n",
       "    <tr>\n",
       "      <th>0</th>\n",
       "      <td>0.001</td>\n",
       "      <td>0.001</td>\n",
       "      <td>0.001</td>\n",
       "      <td>0.001</td>\n",
       "      <td>0.001</td>\n",
       "      <td>0.01</td>\n",
       "      <td>0.0001</td>\n",
       "      <td>10.0</td>\n",
       "      <td>0.0001</td>\n",
       "      <td>0.0</td>\n",
       "      <td>...</td>\n",
       "      <td>0.0</td>\n",
       "      <td>0.0</td>\n",
       "      <td>0.0</td>\n",
       "      <td>0.0</td>\n",
       "      <td>0.0</td>\n",
       "      <td>-16.942622</td>\n",
       "      <td>-0.180887</td>\n",
       "      <td>-80.747222</td>\n",
       "      <td>-0.072772</td>\n",
       "      <td>-97.943504</td>\n",
       "    </tr>\n",
       "  </tbody>\n",
       "</table>\n",
       "<p>1 rows × 30 columns</p>\n",
       "</div>"
      ],
      "text/plain": [
       "   Budget: Operational Costs (Fixed)_Weight  \\\n",
       "0                                     0.001   \n",
       "\n",
       "   Budget: Operational Costs (Fuel)_Weight  \\\n",
       "0                                    0.001   \n",
       "\n",
       "   Budget: Operational Costs (Variable, Hourly)_Weight  \\\n",
       "0                                              0.001     \n",
       "\n",
       "   Budget: Subsidies Paid_Weight  Budget: Subsidies Unpaid_Weight  \\\n",
       "0                          0.001                            0.001   \n",
       "\n",
       "   Congestion: Vehicle Hours Delay_Weight  \\\n",
       "0                                    0.01   \n",
       "\n",
       "   Congestion: Vehicle Miles Traveled_Weight  \\\n",
       "0                                     0.0001   \n",
       "\n",
       "   Level of Service: Agent Hours on Crowded Transit_Weight  \\\n",
       "0                                               10.0         \n",
       "\n",
       "   Level of Service: Travel Expenditure_Weight  Submission Score_Weight  \\\n",
       "0                                       0.0001                      0.0   \n",
       "\n",
       "                ...                 \\\n",
       "0               ...                  \n",
       "\n",
       "   Budget: Operational Costs (Fixed)_Weighted Score  \\\n",
       "0                                               0.0   \n",
       "\n",
       "   Budget: Operational Costs (Fuel)_Weighted Score  \\\n",
       "0                                              0.0   \n",
       "\n",
       "   Budget: Operational Costs (Variable, Hourly)_Weighted Score  \\\n",
       "0                                                0.0             \n",
       "\n",
       "   Budget: Subsidies Paid_Weighted Score  \\\n",
       "0                                    0.0   \n",
       "\n",
       "   Budget: Subsidies Unpaid_Weighted Score  \\\n",
       "0                                      0.0   \n",
       "\n",
       "   Congestion: Vehicle Hours Delay_Weighted Score  \\\n",
       "0                                      -16.942622   \n",
       "\n",
       "   Congestion: Vehicle Miles Traveled_Weighted Score  \\\n",
       "0                                          -0.180887   \n",
       "\n",
       "   Level of Service: Agent Hours on Crowded Transit_Weighted Score  \\\n",
       "0                                         -80.747222                 \n",
       "\n",
       "   Level of Service: Travel Expenditure_Weighted Score  \\\n",
       "0                                          -0.072772     \n",
       "\n",
       "   Submission Score_Weighted Score  \n",
       "0                       -97.943504  \n",
       "\n",
       "[1 rows x 30 columns]"
      ]
     },
     "execution_count": 29,
     "metadata": {},
     "output_type": "execute_result"
    }
   ],
   "source": [
    "scores"
   ]
  },
  {
   "cell_type": "code",
   "execution_count": 30,
   "metadata": {},
   "outputs": [
    {
     "data": {
      "text/html": [
       "<div>\n",
       "<style scoped>\n",
       "    .dataframe tbody tr th:only-of-type {\n",
       "        vertical-align: middle;\n",
       "    }\n",
       "\n",
       "    .dataframe tbody tr th {\n",
       "        vertical-align: top;\n",
       "    }\n",
       "\n",
       "    .dataframe thead th {\n",
       "        text-align: right;\n",
       "    }\n",
       "</style>\n",
       "<table border=\"1\" class=\"dataframe\">\n",
       "  <thead>\n",
       "    <tr style=\"text-align: right;\">\n",
       "      <th></th>\n",
       "      <th>Iteration</th>\n",
       "      <th>agentHoursOnCrowdedTransit</th>\n",
       "      <th>fuelConsumedInMJ_Diesel</th>\n",
       "      <th>fuelConsumedInMJ_Food</th>\n",
       "      <th>fuelConsumedInMJ_Gasoline</th>\n",
       "      <th>numberOfVehicles_BODY-TYPE-DEFAULT</th>\n",
       "      <th>numberOfVehicles_BUS-DEFAULT</th>\n",
       "      <th>numberOfVehicles_CAR-TYPE-DEFAULT</th>\n",
       "      <th>personTravelTime_car</th>\n",
       "      <th>personTravelTime_drive_transit</th>\n",
       "      <th>...</th>\n",
       "      <th>totalSubsidy_walk_transit</th>\n",
       "      <th>totalTravelTime</th>\n",
       "      <th>totalVehicleDelay</th>\n",
       "      <th>vehicleHoursTraveled_BODY-TYPE-DEFAULT</th>\n",
       "      <th>vehicleHoursTraveled_BUS-DEFAULT</th>\n",
       "      <th>vehicleHoursTraveled_CAR-TYPE-DEFAULT</th>\n",
       "      <th>vehicleMilesTraveled_BODY-TYPE-DEFAULT</th>\n",
       "      <th>vehicleMilesTraveled_BUS-DEFAULT</th>\n",
       "      <th>vehicleMilesTraveled_CAR-TYPE-DEFAULT</th>\n",
       "      <th>vehicleMilesTraveled_total</th>\n",
       "    </tr>\n",
       "  </thead>\n",
       "  <tbody>\n",
       "    <tr>\n",
       "      <th>0</th>\n",
       "      <td>0</td>\n",
       "      <td>8.055000</td>\n",
       "      <td>130444.966235</td>\n",
       "      <td>40.656164</td>\n",
       "      <td>23822.196390</td>\n",
       "      <td>1003.0</td>\n",
       "      <td>255.0</td>\n",
       "      <td>1128.0</td>\n",
       "      <td>18183.833333</td>\n",
       "      <td>2856.083333</td>\n",
       "      <td>...</td>\n",
       "      <td>0.0</td>\n",
       "      <td>8386.926667</td>\n",
       "      <td>8481.054444</td>\n",
       "      <td>164.778056</td>\n",
       "      <td>156.916667</td>\n",
       "      <td>339.018889</td>\n",
       "      <td>476.652242</td>\n",
       "      <td>4043.033927</td>\n",
       "      <td>4048.825914</td>\n",
       "      <td>8568.512083</td>\n",
       "    </tr>\n",
       "    <tr>\n",
       "      <th>1</th>\n",
       "      <td>1</td>\n",
       "      <td>8.074722</td>\n",
       "      <td>130444.966235</td>\n",
       "      <td>41.843421</td>\n",
       "      <td>23736.722191</td>\n",
       "      <td>1003.0</td>\n",
       "      <td>255.0</td>\n",
       "      <td>1128.0</td>\n",
       "      <td>35490.416667</td>\n",
       "      <td>3586.200000</td>\n",
       "      <td>...</td>\n",
       "      <td>0.0</td>\n",
       "      <td>8140.282778</td>\n",
       "      <td>8236.082222</td>\n",
       "      <td>169.594444</td>\n",
       "      <td>156.916667</td>\n",
       "      <td>653.235833</td>\n",
       "      <td>490.571632</td>\n",
       "      <td>4043.033927</td>\n",
       "      <td>4034.298700</td>\n",
       "      <td>8567.904259</td>\n",
       "    </tr>\n",
       "  </tbody>\n",
       "</table>\n",
       "<p>2 rows × 29 columns</p>\n",
       "</div>"
      ],
      "text/plain": [
       "   Iteration  agentHoursOnCrowdedTransit  fuelConsumedInMJ_Diesel  \\\n",
       "0          0                    8.055000            130444.966235   \n",
       "1          1                    8.074722            130444.966235   \n",
       "\n",
       "   fuelConsumedInMJ_Food  fuelConsumedInMJ_Gasoline  \\\n",
       "0              40.656164               23822.196390   \n",
       "1              41.843421               23736.722191   \n",
       "\n",
       "   numberOfVehicles_BODY-TYPE-DEFAULT  numberOfVehicles_BUS-DEFAULT  \\\n",
       "0                              1003.0                         255.0   \n",
       "1                              1003.0                         255.0   \n",
       "\n",
       "   numberOfVehicles_CAR-TYPE-DEFAULT  personTravelTime_car  \\\n",
       "0                             1128.0          18183.833333   \n",
       "1                             1128.0          35490.416667   \n",
       "\n",
       "   personTravelTime_drive_transit             ...              \\\n",
       "0                     2856.083333             ...               \n",
       "1                     3586.200000             ...               \n",
       "\n",
       "   totalSubsidy_walk_transit  totalTravelTime  totalVehicleDelay  \\\n",
       "0                        0.0      8386.926667        8481.054444   \n",
       "1                        0.0      8140.282778        8236.082222   \n",
       "\n",
       "   vehicleHoursTraveled_BODY-TYPE-DEFAULT  vehicleHoursTraveled_BUS-DEFAULT  \\\n",
       "0                              164.778056                        156.916667   \n",
       "1                              169.594444                        156.916667   \n",
       "\n",
       "   vehicleHoursTraveled_CAR-TYPE-DEFAULT  \\\n",
       "0                             339.018889   \n",
       "1                             653.235833   \n",
       "\n",
       "   vehicleMilesTraveled_BODY-TYPE-DEFAULT  vehicleMilesTraveled_BUS-DEFAULT  \\\n",
       "0                              476.652242                       4043.033927   \n",
       "1                              490.571632                       4043.033927   \n",
       "\n",
       "   vehicleMilesTraveled_CAR-TYPE-DEFAULT  vehicleMilesTraveled_total  \n",
       "0                            4048.825914                 8568.512083  \n",
       "1                            4034.298700                 8567.904259  \n",
       "\n",
       "[2 rows x 29 columns]"
      ]
     },
     "execution_count": 30,
     "metadata": {},
     "output_type": "execute_result"
    }
   ],
   "source": [
    "stats"
   ]
  },
  {
   "cell_type": "markdown",
   "metadata": {},
   "source": [
    "At the end of any run and to avoid any conflicts between `CONTAINER_ID`s (particularly if you want to reuse names), it is advised to **clean up containers** calling the following method:"
   ]
  },
  {
   "cell_type": "code",
   "execution_count": 31,
   "metadata": {},
   "outputs": [],
   "source": [
    "ex.stop_all_simulations()"
   ]
  }
 ],
 "metadata": {
  "kernelspec": {
   "display_name": "Python 3",
   "language": "python",
   "name": "python3"
  },
  "language_info": {
   "codemirror_mode": {
    "name": "ipython",
    "version": 3
   },
   "file_extension": ".py",
   "mimetype": "text/x-python",
   "name": "python",
   "nbconvert_exporter": "python",
   "pygments_lexer": "ipython3",
   "version": "3.7.0"
  },
  "varInspector": {
   "cols": {
    "lenName": 16,
    "lenType": 16,
    "lenVar": 40
   },
   "kernels_config": {
    "python": {
     "delete_cmd_postfix": "",
     "delete_cmd_prefix": "del ",
     "library": "var_list.py",
     "varRefreshCmd": "print(var_dic_list())"
    },
    "r": {
     "delete_cmd_postfix": ") ",
     "delete_cmd_prefix": "rm(",
     "library": "var_list.r",
     "varRefreshCmd": "cat(var_dic_list()) "
    }
   },
   "types_to_exclude": [
    "module",
    "function",
    "builtin_function_or_method",
    "instance",
    "_Feature"
   ],
   "window_display": false
  }
 },
 "nbformat": 4,
 "nbformat_minor": 2
}
